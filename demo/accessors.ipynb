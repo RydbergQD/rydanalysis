{
 "cells": [
  {
   "cell_type": "code",
   "execution_count": 2,
   "metadata": {
    "collapsed": true
   },
   "outputs": [],
   "source": [
    "import xarray as xr\n",
    "import numpy as np"
   ]
  },
  {
   "cell_type": "code",
   "execution_count": 13,
   "outputs": [],
   "source": [
    "scope_traces = xr.DataArray([np.arange(100)])\n",
    "ryd_data = xr.Dataset({'scope_traces': scope_traces})"
   ],
   "metadata": {
    "collapsed": false,
    "pycharm": {
     "name": "#%%\n"
    }
   }
  },
  {
   "cell_type": "code",
   "execution_count": 14,
   "outputs": [
    {
     "name": "stderr",
     "output_type": "stream",
     "text": [
      "C:\\Users\\titus\\Anaconda3\\envs\\heisensim\\lib\\site-packages\\ipykernel_launcher.py:1: AccessorRegistrationWarning: registration of accessor <class '__main__.IonsAccessor'> under name 'ions' for type <class 'xarray.core.dataarray.DataArray'> is overriding a preexisting attribute with the same name.\n",
      "  \"\"\"Entry point for launching an IPython kernel.\n",
      "C:\\Users\\titus\\Anaconda3\\envs\\heisensim\\lib\\site-packages\\ipykernel_launcher.py:6: AccessorRegistrationWarning: registration of accessor <class '__main__.IonsAccessor'> under name 'ions' for type <class 'xarray.core.dataset.Dataset'> is overriding a preexisting attribute with the same name.\n",
      "  \n"
     ]
    }
   ],
   "source": [
    "@xr.register_dataarray_accessor(\"ions\")\n",
    "class IonsAccessor:\n",
    "    def __init__(self, xarrax_obj):\n",
    "        print(\"DataArray\")\n",
    "\n",
    "@xr.register_dataset_accessor(\"ions\")\n",
    "class IonsAccessor:\n",
    "    def __init__(self, xarrax_obj):\n",
    "        print(\"DataSet\")"
   ],
   "metadata": {
    "collapsed": false,
    "pycharm": {
     "name": "#%%\n"
    }
   }
  },
  {
   "cell_type": "code",
   "execution_count": 15,
   "outputs": [
    {
     "name": "stdout",
     "output_type": "stream",
     "text": [
      "DataArray\n"
     ]
    },
    {
     "data": {
      "text/plain": "<__main__.IonsAccessor at 0x166ca6dc908>"
     },
     "execution_count": 15,
     "metadata": {},
     "output_type": "execute_result"
    }
   ],
   "source": [
    "scope_traces.ions"
   ],
   "metadata": {
    "collapsed": false,
    "pycharm": {
     "name": "#%%\n"
    }
   }
  },
  {
   "cell_type": "code",
   "execution_count": 16,
   "outputs": [
    {
     "name": "stdout",
     "output_type": "stream",
     "text": [
      "DataSet\n"
     ]
    },
    {
     "data": {
      "text/plain": "<__main__.IonsAccessor at 0x166ccb33088>"
     },
     "execution_count": 16,
     "metadata": {},
     "output_type": "execute_result"
    }
   ],
   "source": [
    "ryd_data.ions"
   ],
   "metadata": {
    "collapsed": false,
    "pycharm": {
     "name": "#%%\n"
    }
   }
  },
  {
   "cell_type": "code",
   "execution_count": null,
   "outputs": [],
   "source": [
    "\n"
   ],
   "metadata": {
    "collapsed": false,
    "pycharm": {
     "name": "#%%\n"
    }
   }
  }
 ],
 "metadata": {
  "kernelspec": {
   "display_name": "Python 3",
   "language": "python",
   "name": "python3"
  },
  "language_info": {
   "codemirror_mode": {
    "name": "ipython",
    "version": 2
   },
   "file_extension": ".py",
   "mimetype": "text/x-python",
   "name": "python",
   "nbconvert_exporter": "python",
   "pygments_lexer": "ipython2",
   "version": "2.7.6"
  }
 },
 "nbformat": 4,
 "nbformat_minor": 0
}