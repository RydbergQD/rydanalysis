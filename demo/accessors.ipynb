{
 "cells": [
  {
   "cell_type": "code",
   "execution_count": 1,
   "metadata": {
    "collapsed": true
   },
   "outputs": [],
   "source": [
    "import xarray as xr\n",
    "import numpy as np\n",
    "import pandas as pd\n",
    "\n",
    "import rydanalysis as ra"
   ]
  },
  {
   "cell_type": "code",
   "execution_count": 2,
   "outputs": [
    {
     "name": "stdout",
     "output_type": "stream",
     "text": [
      "# packages in environment at C:\\Users\\titus\\Anaconda3\\envs\\heisensim:\n",
      "Note: you may need to restart the kernel to use updated packages.\n",
      "#\n",
      "# Name                    Version                   Build  Channel\n",
      "_anaconda_depends         2020.02                  py37_0  \n",
      "alabaster                 0.7.12                     py_0    conda-forge\n",
      "anaconda                  custom                   py37_1  \n",
      "anaconda-client           1.7.2                      py_0    conda-forge\n",
      "anaconda-project          0.8.3                      py_0    conda-forge\n",
      "appdirs                   1.4.3                      py_1    conda-forge\n",
      "arc-alkali-rydberg-calculator 2.2.16                   pypi_0    pypi\n",
      "argh                      0.26.2                py37_1001    conda-forge\n",
      "asn1crypto                1.3.0            py37hc8dfbb8_1    conda-forge\n",
      "asteval                   0.9.16             pyh5ca1d4c_0    conda-forge\n",
      "astroid                   2.4.2            py37hc8dfbb8_0    conda-forge\n",
      "astropy                   4.0.1.post1      py37h8055547_0    conda-forge\n",
      "atomicwrites              1.4.0              pyh9f0ad1d_0    conda-forge\n",
      "attrs                     19.3.0                     py_0    conda-forge\n",
      "autopep8                  1.4.4                      py_0  \n",
      "babel                     2.8.0                      py_0    conda-forge\n",
      "backcall                  0.1.0                      py_0    conda-forge\n",
      "backports                 1.0                        py_2    conda-forge\n",
      "backports.shutil_get_terminal_size 1.0.0                      py_3    conda-forge\n",
      "bcrypt                    3.1.7            py37h8055547_1    conda-forge\n",
      "beautifulsoup4            4.9.1            py37hc8dfbb8_0    conda-forge\n",
      "bitarray                  1.2.2            py37h4ab8f01_0    conda-forge\n",
      "bkcharts                  0.2                      py37_0  \n",
      "blas                      1.0                         mkl  \n",
      "bleach                    3.1.5              pyh9f0ad1d_0    conda-forge\n",
      "blosc                     1.19.0               ha925a31_0    conda-forge\n",
      "bokeh                     2.0.1            py37hc8dfbb8_0    conda-forge\n",
      "\n",
      "boto                      2.49.0                     py_0    conda-forge\n",
      "bottleneck                1.3.2            py37hbc2f12b_1    conda-forge\n",
      "brotli                    1.0.7             h33f27b4_1002    conda-forge\n",
      "brotlipy                  0.7.0           py37h4ab8f01_1000    conda-forge\n",
      "bzip2                     1.0.8                hfa6e2cd_2    conda-forge\n",
      "ca-certificates           2020.6.20            hecda079_0    conda-forge\n",
      "certifi                   2020.6.20        py37hc8dfbb8_0    conda-forge\n",
      "cffi                      1.14.0           py37ha419a9e_0    conda-forge\n",
      "cftime                    1.1.3            py37h44b1f71_0    conda-forge\n",
      "chardet                   3.0.4           py37hc8dfbb8_1006    conda-forge\n",
      "charls                    2.1.0                h33f27b4_2    conda-forge\n",
      "click                     7.1.2              pyh9f0ad1d_0    conda-forge\n",
      "cloudpickle               1.4.1                      py_0    conda-forge\n",
      "clyent                    1.2.2                      py_1    conda-forge\n",
      "colorama                  0.4.3                      py_0    conda-forge\n",
      "comtypes                  1.1.7           py37hc8dfbb8_1001    conda-forge\n",
      "console_shortcut          0.1.1                         4  \n",
      "contextlib2               0.6.0.post1                py_0    conda-forge\n",
      "croniter                  0.3.30                     py_0    conda-forge\n",
      "cryptography              2.9.2            py37h26f1ce3_0    conda-forge\n",
      "curl                      7.69.1               h1dcc11c_0    conda-forge\n",
      "cycler                    0.10.0                     py_2    conda-forge\n",
      "cython                    0.29.20          py37h1834ac0_0    conda-forge\n",
      "cytoolz                   0.10.1           py37hfa6e2cd_0    conda-forge\n",
      "dask                      2.18.1                     py_0    conda-forge\n",
      "dask-core                 2.18.1                     py_0    conda-forge\n",
      "decorator                 4.4.2                      py_0    conda-forge\n",
      "defusedxml                0.6.0                      py_0    conda-forge\n",
      "diff-match-patch          20181111                   py_0    conda-forge\n",
      "distributed               2.18.0           py37hc8dfbb8_0    conda-forge\n",
      "docker-py                 4.2.1            py37hc8dfbb8_0    conda-forge\n",
      "docker-pycreds            0.4.0                      py_0    conda-forge\n",
      "docutils                  0.16             py37hc8dfbb8_1    conda-forge\n",
      "entrypoints               0.3             py37hc8dfbb8_1001    conda-forge\n",
      "et_xmlfile                1.0.1                   py_1001    conda-forge\n",
      "fastcache                 1.1.0            py37h8055547_1    conda-forge\n",
      "filelock                  3.0.12             pyh9f0ad1d_0    conda-forge\n",
      "flake8                    3.7.9            py37hc8dfbb8_1    conda-forge\n",
      "flask                     1.1.2              pyh9f0ad1d_0    conda-forge\n",
      "freetype                  2.10.2               hd328e21_0    conda-forge\n",
      "fsspec                    0.7.4                      py_0    conda-forge\n",
      "future                    0.18.2           py37hc8dfbb8_1    conda-forge\n",
      "get_terminal_size         1.0.0                h38e98db_0  \n",
      "gevent                    20.6.1           py37h4ab8f01_0    conda-forge\n",
      "giflib                    5.2.1                h2fa13f4_2    conda-forge\n",
      "glob2                     0.7                        py_0    conda-forge\n",
      "greenlet                  0.4.16           py37h4ab8f01_0    conda-forge\n",
      "h5py                      2.10.0          nompi_py37h422b98e_102    conda-forge\n",
      "hdf4                      4.2.13            hf8e6fe8_1003    conda-forge\n",
      "hdf5                      1.10.5          nompi_ha405e13_1104    conda-forge\n",
      "heapdict                  1.0.1                      py_0    conda-forge\n",
      "heisensim                 0.1                       dev_0    <develop>\n",
      "html5lib                  1.0.1                      py_0    conda-forge\n",
      "hypothesis                5.16.1                     py_0    conda-forge\n",
      "icc_rt                    2019.0.0             h0cc432a_1  \n",
      "icu                       64.2                 he025d50_1    conda-forge\n",
      "idna                      2.9                        py_1    conda-forge\n",
      "imagecodecs               2020.5.30        py37h92c78e3_1    conda-forge\n",
      "imageio                   2.8.0                      py_0    conda-forge\n",
      "imagesize                 1.2.0                      py_0    conda-forge\n",
      "importlib-metadata        1.6.1            py37hc8dfbb8_0    conda-forge\n",
      "importlib_metadata        1.6.1                         0    conda-forge\n",
      "intel-openmp              2019.4                      245  \n",
      "intervaltree              3.0.2                      py_0    conda-forge\n",
      "ipykernel                 5.2.1            py37h5ca1d4c_0    conda-forge\n",
      "ipympl                    0.5.6              pyh9f0ad1d_1    conda-forge\n",
      "ipython                   7.15.0           py37hc8dfbb8_0    conda-forge\n",
      "ipython_genutils          0.2.0                      py_1    conda-forge\n",
      "ipywidgets                7.5.1                      py_0    conda-forge\n",
      "isort                     4.3.21           py37hc8dfbb8_1    conda-forge\n",
      "itsdangerous              1.1.0                      py_0    conda-forge\n",
      "jdcal                     1.4.1                      py_0    conda-forge\n",
      "jedi                      0.15.2                   py37_0    conda-forge\n",
      "jinja2                    2.11.2             pyh9f0ad1d_0    conda-forge\n",
      "joblib                    0.15.1                     py_0    conda-forge\n",
      "jpeg                      9d                   he774522_0    conda-forge\n",
      "json5                     0.9.4              pyh9f0ad1d_0    conda-forge\n",
      "jsonschema                3.2.0            py37hc8dfbb8_1    conda-forge\n",
      "jupyter                   1.0.0                      py_2    conda-forge\n",
      "jupyter_client            6.1.3                      py_0    conda-forge\n",
      "jupyter_console           6.1.0                      py_1    conda-forge\n",
      "jupyter_core              4.6.3            py37hc8dfbb8_1    conda-forge\n",
      "jupyterlab                2.1.0                      py_0    conda-forge\n",
      "jupyterlab_server         1.1.5                      py_0    conda-forge\n",
      "jxrlib                    1.1                  hfa6e2cd_2    conda-forge\n",
      "keyring                   21.2.1           py37hc8dfbb8_0    conda-forge\n",
      "kiwisolver                1.2.0            py37heaa310e_0    conda-forge\n",
      "krb5                      1.17.1               hdd46e55_0    conda-forge\n",
      "lazy-object-proxy         1.4.3            py37h8055547_2    conda-forge\n",
      "lcms2                     2.9                  he1115b7_2    conda-forge\n",
      "libaec                    1.0.4                he025d50_1    conda-forge\n",
      "libarchive                3.3.3             h0c0e0cf_1008    conda-forge\n",
      "libblas                   3.8.0                    14_mkl    conda-forge\n",
      "libcblas                  3.8.0                    14_mkl    conda-forge\n",
      "libclang                  9.0.1           default_hf44288c_0    conda-forge\n",
      "libcurl                   7.69.1               h1dcc11c_0    conda-forge\n",
      "libiconv                  1.15              hfa6e2cd_1006    conda-forge\n",
      "liblief                   0.10.1               ha925a31_0  \n",
      "libnetcdf                 4.7.4           nompi_hc957ea6_101    conda-forge\n",
      "libpng                    1.6.37               hfe6a214_1    conda-forge\n",
      "libsodium                 1.0.17               h2fa13f4_0    conda-forge\n",
      "libspatialindex           1.9.3                he025d50_3    conda-forge\n",
      "libssh2                   1.9.0                h3235a2c_2    conda-forge\n",
      "libtiff                   4.1.0                h885aae3_6    conda-forge\n",
      "libwebp-base              1.1.0                hfa6e2cd_3    conda-forge\n",
      "libxml2                   2.9.10               h5d81f1c_1    conda-forge\n",
      "libxslt                   1.1.33               h579f668_1    conda-forge\n",
      "libzopfli                 1.0.3                ha925a31_0    conda-forge\n",
      "llvmlite                  0.32.1           py37hc8dfbb8_0    conda-forge\n",
      "lmfit                     1.0.0                      py_0    conda-forge\n",
      "locket                    0.2.0                      py_2    conda-forge\n",
      "lxml                      4.5.1            py37h8ba8a40_0    conda-forge\n",
      "lz4-c                     1.9.2                h62dcd97_1    conda-forge\n",
      "lzo                       2.10              hfa6e2cd_1000    conda-forge\n",
      "m2w64-gcc-libgfortran     5.3.0                         6  \n",
      "m2w64-gcc-libs            5.3.0                         7  \n",
      "m2w64-gcc-libs-core       5.3.0                         7  \n",
      "m2w64-gmp                 6.1.0                         2  \n",
      "m2w64-libwinpthread-git   5.0.0.4634.697f757               2  \n",
      "markupsafe                1.1.1            py37h8055547_1    conda-forge\n",
      "marshmallow               3.6.1                      py_0    conda-forge\n",
      "marshmallow-oneofschema   2.0.1                      py_0    conda-forge\n",
      "matplotlib                3.2.1                         0    conda-forge\n",
      "matplotlib-base           3.2.1            py37h911224e_0    conda-forge\n",
      "mccabe                    0.6.1                      py_1    conda-forge\n",
      "menuinst                  1.4.16                   py37_0    conda-forge\n",
      "mistune                   0.8.4           py37h8055547_1001    conda-forge\n",
      "mkl                       2019.4                      245  \n",
      "mkl-service               2.3.0            py37hfa6e2cd_0    conda-forge\n",
      "mkl_fft                   1.1.0            py37hc8d92b1_1    conda-forge\n",
      "mkl_random                1.1.0            py37he350917_0    conda-forge\n",
      "mock                      4.0.2            py37hc8dfbb8_0    conda-forge\n",
      "more-itertools            8.3.0                      py_1    conda-forge\n",
      "mpmath                    1.1.0                      py_0    conda-forge\n",
      "msgpack-python            1.0.0            py37heaa310e_1    conda-forge\n",
      "msys2-conda-epoch         20160418                      1  \n",
      "multipledispatch          0.6.0                      py_0    conda-forge\n",
      "mypy_extensions           0.4.3            py37hc8dfbb8_1    conda-forge\n",
      "nbconvert                 5.6.1            py37hc8dfbb8_1    conda-forge\n",
      "nbformat                  5.0.6                      py_0    conda-forge\n",
      "netcdf4                   1.5.3           nompi_py37h727d961_103    conda-forge\n",
      "networkx                  2.4                        py_1    conda-forge\n",
      "nltk                      3.4.4                      py_0    conda-forge\n",
      "nose                      1.3.7           py37hc8dfbb8_1004    conda-forge\n",
      "notebook                  6.0.3            py37hc8dfbb8_0    conda-forge\n",
      "numba                     0.49.1           py37h3bbf574_0    conda-forge\n",
      "numexpr                   2.7.1            py37h1834ac0_1    conda-forge\n",
      "numpy                     1.17.0           py37h19fb1c0_0  \n",
      "numpy-base                1.17.0           py37hc3f5095_0  \n",
      "numpydoc                  1.0.0              pyh9f0ad1d_0    conda-forge\n",
      "olefile                   0.46                       py_0    conda-forge\n",
      "openjpeg                  2.3.1                h57dd2e7_3    conda-forge\n",
      "openpyxl                  3.0.3                      py_0    conda-forge\n",
      "openssl                   1.1.1g               he774522_0    conda-forge\n",
      "packaging                 20.4               pyh9f0ad1d_0    conda-forge\n",
      "pandas                    1.0.3            py37h9b59f54_0    conda-forge\n",
      "pandoc                    2.9.2.1                       0    conda-forge\n",
      "pandocfilters             1.4.2                      py_1    conda-forge\n",
      "paramiko                  2.7.1                    py37_0    conda-forge\n",
      "parso                     0.5.2                      py_0  \n",
      "partd                     1.1.0                      py_0    conda-forge\n",
      "path                      13.1.0                   py37_0  \n",
      "path.py                   12.4.0                        0    conda-forge\n",
      "pathlib2                  2.3.5            py37hc8dfbb8_1    conda-forge\n",
      "pathtools                 0.1.2                      py_1    conda-forge\n",
      "patsy                     0.5.1                      py_0    conda-forge\n",
      "pendulum                  2.1.0            py37hc8dfbb8_1    conda-forge\n",
      "pep8                      1.7.1                      py_0    conda-forge\n",
      "pexpect                   4.8.0            py37hc8dfbb8_1    conda-forge\n",
      "pickleshare               0.7.5           py37hc8dfbb8_1001    conda-forge\n",
      "pillow                    7.1.2            py37hc826c6e_0    conda-forge\n",
      "pip                       20.1.1                     py_1    conda-forge\n",
      "pkginfo                   1.5.0.1                    py_0    conda-forge\n",
      "pluggy                    0.13.1           py37hc8dfbb8_1    conda-forge\n",
      "ply                       3.11                       py_1    conda-forge\n",
      "powershell_shortcut       0.0.1                         3  \n",
      "prefect                   0.12.0                     py_0    conda-forge\n",
      "prometheus_client         0.8.0              pyh9f0ad1d_0    conda-forge\n",
      "prompt-toolkit            3.0.5                      py_0    conda-forge\n",
      "prompt_toolkit            3.0.5                         0    conda-forge\n",
      "psutil                    5.7.0            py37h8055547_1    conda-forge\n",
      "py                        1.8.1                      py_0    conda-forge\n",
      "py-lief                   0.10.1           py37ha925a31_0  \n",
      "pycodestyle               2.5.0                    py37_0  \n",
      "pycosat                   0.6.3           py37h8055547_1004    conda-forge\n",
      "pycparser                 2.20                       py_0    conda-forge\n",
      "pycrypto                  2.6.1           py37h8055547_1004    conda-forge\n"
     ]
    }
   ],
   "source": [
    "%conda list"
   ],
   "metadata": {
    "collapsed": false,
    "pycharm": {
     "name": "#%%\n"
    }
   }
  },
  {
   "cell_type": "code",
   "execution_count": 4,
   "outputs": [
    {
     "ename": "SyntaxError",
     "evalue": "unexpected EOF while parsing (<ipython-input-4-147b579cc2cc>, line 2)",
     "output_type": "error",
     "traceback": [
      "\u001B[1;36m  File \u001B[1;32m\"<ipython-input-4-147b579cc2cc>\"\u001B[1;36m, line \u001B[1;32m2\u001B[0m\n\u001B[1;33m    \u001B[0m\n\u001B[1;37m    ^\u001B[0m\n\u001B[1;31mSyntaxError\u001B[0m\u001B[1;31m:\u001B[0m unexpected EOF while parsing\n"
     ]
    }
   ],
   "source": [
    "scope_traces = xr.DataArray(np.random.rand((100, 100))"
   ],
   "metadata": {
    "collapsed": false,
    "pycharm": {
     "name": "#%%\n"
    }
   }
  },
  {
   "cell_type": "code",
   "execution_count": 14,
   "outputs": [
    {
     "name": "stderr",
     "output_type": "stream",
     "text": [
      "C:\\Users\\titus\\Anaconda3\\envs\\heisensim\\lib\\site-packages\\ipykernel_launcher.py:1: AccessorRegistrationWarning: registration of accessor <class '__main__.IonsAccessor'> under name 'ions' for type <class 'xarray.core.dataarray.DataArray'> is overriding a preexisting attribute with the same name.\n",
      "  \"\"\"Entry point for launching an IPython kernel.\n",
      "C:\\Users\\titus\\Anaconda3\\envs\\heisensim\\lib\\site-packages\\ipykernel_launcher.py:6: AccessorRegistrationWarning: registration of accessor <class '__main__.IonsAccessor'> under name 'ions' for type <class 'xarray.core.dataset.Dataset'> is overriding a preexisting attribute with the same name.\n",
      "  \n"
     ]
    }
   ],
   "source": [
    "@xr.register_dataarray_accessor(\"ions\")\n",
    "class IonsAccessor:\n",
    "    def __init__(self, xarrax_obj):\n",
    "        print(\"DataArray\")\n",
    "\n",
    "@xr.register_dataset_accessor(\"ions\")\n",
    "class IonsAccessor:\n",
    "    def __init__(self, xarrax_obj):\n",
    "        print(\"DataSet\")"
   ],
   "metadata": {
    "collapsed": false,
    "pycharm": {
     "name": "#%%\n"
    }
   }
  },
  {
   "cell_type": "code",
   "execution_count": 15,
   "outputs": [
    {
     "name": "stdout",
     "output_type": "stream",
     "text": [
      "DataArray\n"
     ]
    },
    {
     "data": {
      "text/plain": "<__main__.IonsAccessor at 0x166ca6dc908>"
     },
     "execution_count": 15,
     "metadata": {},
     "output_type": "execute_result"
    }
   ],
   "source": [
    "scope_traces.ions"
   ],
   "metadata": {
    "collapsed": false,
    "pycharm": {
     "name": "#%%\n"
    }
   }
  },
  {
   "cell_type": "code",
   "execution_count": 16,
   "outputs": [
    {
     "name": "stdout",
     "output_type": "stream",
     "text": [
      "DataSet\n"
     ]
    },
    {
     "data": {
      "text/plain": "<__main__.IonsAccessor at 0x166ccb33088>"
     },
     "execution_count": 16,
     "metadata": {},
     "output_type": "execute_result"
    }
   ],
   "source": [
    "ryd_data.ions"
   ],
   "metadata": {
    "collapsed": false,
    "pycharm": {
     "name": "#%%\n"
    }
   }
  },
  {
   "cell_type": "code",
   "execution_count": 17,
   "outputs": [
    {
     "ename": "TypeError",
     "evalue": "unsupported operand type(s) for /: 'NoneType' and 'int'",
     "output_type": "error",
     "traceback": [
      "\u001B[1;31m---------------------------------------------------------------------------\u001B[0m",
      "\u001B[1;31mTypeError\u001B[0m                                 Traceback (most recent call last)",
      "\u001B[1;32m<ipython-input-17-ef2ea21c28e1>\u001B[0m in \u001B[0;36m<module>\u001B[1;34m\u001B[0m\n\u001B[1;32m----> 1\u001B[1;33m \u001B[1;32mNone\u001B[0m \u001B[1;33m/\u001B[0m \u001B[1;36m3\u001B[0m\u001B[1;33m\u001B[0m\u001B[1;33m\u001B[0m\u001B[0m\n\u001B[0m",
      "\u001B[1;31mTypeError\u001B[0m: unsupported operand type(s) for /: 'NoneType' and 'int'"
     ]
    }
   ],
   "source": [
    "\n",
    "None / 3"
   ],
   "metadata": {
    "collapsed": false,
    "pycharm": {
     "name": "#%%\n"
    }
   }
  },
  {
   "cell_type": "code",
   "execution_count": null,
   "outputs": [],
   "source": [
    "\n"
   ],
   "metadata": {
    "collapsed": false,
    "pycharm": {
     "name": "#%%\n"
    }
   }
  }
 ],
 "metadata": {
  "kernelspec": {
   "name": "base",
   "language": "python",
   "display_name": "Python"
  },
  "language_info": {
   "codemirror_mode": {
    "name": "ipython",
    "version": 2
   },
   "file_extension": ".py",
   "mimetype": "text/x-python",
   "name": "python",
   "nbconvert_exporter": "python",
   "pygments_lexer": "ipython2",
   "version": "2.7.6"
  }
 },
 "nbformat": 4,
 "nbformat_minor": 0
}