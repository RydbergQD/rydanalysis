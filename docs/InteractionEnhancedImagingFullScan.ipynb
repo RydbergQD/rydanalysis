{
 "cells": [
  {
   "cell_type": "code",
   "execution_count": 7,
   "metadata": {},
   "outputs": [],
   "source": [
    "import sys\n",
    "#sys.path.insert(0, '/Users/qd/PycharmProjects/rydanalysis/')\n",
    "from rydanalysis import *\n",
    "import matplotlib.pyplot as plt\n",
    "import importlib\n",
    "#path='/run/user/1000/gvfs/smb-share:server=axion.local,share=rydberg/data/2020_02_12/EIT_resonancescan'\n",
    "import seaborn as sns\n",
    "from pathlib import Path\n",
    "sns.set_style(\"dark\")\n",
    "sns.set_style(\"darkgrid\")\n",
    "import matplotlib as mpl\n",
    "path='/Users/qd/Desktop/DATA/01_IEI_pABSx0-8_pBlueR3-6-5_pBlueR2_9_tEXCz/'\n",
    "path = Path(path)"
   ]
  },
  {
   "cell_type": "code",
   "execution_count": 8,
   "metadata": {},
   "outputs": [
    {
     "name": "stdout",
     "output_type": "stream",
     "text": [
      "'raw_data.h5' already exists. Do you want to load from this file (Y) or from the old folder structure (N)? [Y/n]: couldn't read 2020_07_13_18.45.42_ERROR.txt. Skipping this file...\n",
      "couldn't read 2020_07_13_18.45.52_ERROR.txt. Skipping this file...\n",
      "couldn't read 2020_07_13_18.46.07_ERROR.txt. Skipping this file...\n",
      "couldn't read 2020_07_13_18.46.17_ERROR.txt. Skipping this file...\n",
      "couldn't read 2020_07_13_23.46.40_ERROR.txt. Skipping this file...\n",
      "couldn't read 2020_07_13_23.46.50_ERROR.txt. Skipping this file...\n",
      "couldn't read 2020_07_13_23.48.10_ERROR.txt. Skipping this file...\n",
      "couldn't read 2020_07_13_23.48.20_ERROR.txt. Skipping this file...\n",
      "couldn't read 2020_07_13_23.48.47_ERROR.txt. Skipping this file...\n",
      "couldn't read 2020_07_13_23.48.57_ERROR.txt. Skipping this file...\n",
      "couldn't read 2020_07_13_23.49.29_ERROR.txt. Skipping this file...\n",
      "couldn't read 2020_07_13_23.49.39_ERROR.txt. Skipping this file...\n",
      "couldn't read 2020_07_13_23.50.35_ERROR.txt. Skipping this file...\n",
      "couldn't read 2020_07_13_23.50.44_ERROR.txt. Skipping this file...\n",
      "couldn't read 2020_07_13_23.51.33_ERROR.txt. Skipping this file...\n",
      "couldn't read 2020_07_13_23.51.43_ERROR.txt. Skipping this file...\n",
      "couldn't read 2020_07_13_23.51.58_ERROR.txt. Skipping this file...\n",
      "couldn't read 2020_07_13_23.52.08_ERROR.txt. Skipping this file...\n",
      "couldn't read 2020_07_13_23.52.24_ERROR.txt. Skipping this file...\n",
      "couldn't read 2020_07_13_23.52.34_ERROR.txt. Skipping this file...\n",
      "couldn't read 2020_07_13_23.52.57_ERROR.txt. Skipping this file...\n",
      "couldn't read 2020_07_13_23.53.07_ERROR.txt. Skipping this file...\n",
      "couldn't read 2020_07_13_23.53.23_ERROR.txt. Skipping this file...\n",
      "couldn't read 2020_07_13_23.53.33_ERROR.txt. Skipping this file...\n",
      "couldn't read 2020_07_13_23.53.48_ERROR.txt. Skipping this file...\n",
      "couldn't read 2020_07_13_23.53.58_ERROR.txt. Skipping this file...\n",
      "couldn't read 2020_07_13_23.54.46_ERROR.txt. Skipping this file...\n",
      "couldn't read 2020_07_13_23.54.56_ERROR.txt. Skipping this file...\n",
      "couldn't read 2020_07_13_23.55.12_ERROR.txt. Skipping this file...\n",
      "couldn't read 2020_07_13_23.55.22_ERROR.txt. Skipping this file...\n",
      "couldn't read 2020_07_13_23.55.48_ERROR.txt. Skipping this file...\n",
      "couldn't read 2020_07_13_23.55.58_ERROR.txt. Skipping this file...\n",
      "couldn't read 2020_07_13_23.56.14_ERROR.txt. Skipping this file...\n",
      "couldn't read 2020_07_13_23.56.24_ERROR.txt. Skipping this file...\n",
      "couldn't read 2020_07_13_23.56.57_ERROR.txt. Skipping this file...\n",
      "couldn't read 2020_07_13_23.57.07_ERROR.txt. Skipping this file...\n",
      "couldn't read 2020_07_13_23.57.22_ERROR.txt. Skipping this file...\n",
      "couldn't read 2020_07_13_23.57.32_ERROR.txt. Skipping this file...\n",
      "couldn't read 2020_07_13_23.58.10_ERROR.txt. Skipping this file...\n",
      "couldn't read 2020_07_13_23.58.20_ERROR.txt. Skipping this file...\n",
      "couldn't read 2020_07_13_23.58.46_ERROR.txt. Skipping this file...\n",
      "couldn't read 2020_07_13_23.58.56_ERROR.txt. Skipping this file...\n",
      "couldn't read 2020_07_13_23.59.30_ERROR.txt. Skipping this file...\n",
      "couldn't read 2020_07_13_23.59.40_ERROR.txt. Skipping this file...\n",
      "couldn't read 2020_07_13_23.59.50_ERROR.txt. Skipping this file...\n",
      "couldn't read 2020_07_14_00.00.00_ERROR.txt. Skipping this file...\n"
     ]
    },
    {
     "data": {
      "text/plain": "HBox(children=(FloatProgress(value=0.0, description='find parameters and variables', max=4109.0, style=Progres…",
      "application/vnd.jupyter.widget-view+json": {
       "version_major": 2,
       "version_minor": 0,
       "model_id": "a4e4041275854ecbb8b6f1543f307aba"
      }
     },
     "metadata": {},
     "output_type": "display_data"
    }
   ],
   "source": [
    "seq = rydanalysis.OldStructure(path)\n",
    "#seq.path='/Users/qd/Schreibtisch/DATA/'"
   ]
  },
  {
   "cell_type": "code",
   "execution_count": 9,
   "metadata": {},
   "outputs": [
    {
     "data": {
      "text/plain": "HBox(children=(FloatProgress(value=0.0, description='load images', max=4109.0, style=ProgressStyle(description…",
      "application/vnd.jupyter.widget-view+json": {
       "version_major": 2,
       "version_minor": 0,
       "model_id": "796959da96b349128efe7fc28030f40f"
      }
     },
     "metadata": {},
     "output_type": "display_data"
    }
   ],
   "source": [
    "seq.save_raw_data()"
   ]
  },
  {
   "cell_type": "code",
   "execution_count": 10,
   "metadata": {},
   "outputs": [
    {
     "name": "stderr",
     "output_type": "stream",
     "text": [
      "C:\\Users\\qd\\Anaconda3\\envs\\rydanalysis\\lib\\site-packages\\xarray\\core\\nanops.py:142: RuntimeWarning: Mean of empty slice\n",
      "  return np.nanmean(a, axis=axis, dtype=dtype)\n",
      "C:\\Users\\qd\\Anaconda3\\envs\\rydanalysis\\lib\\site-packages\\sklearn\\utils\\validation.py:71: FutureWarning: Pass copy=True, whiten=False, svd_solver=auto, tol=0.0, iterated_power=auto, random_state=None as keyword args. From version 0.25 passing these as positional arguments will result in an error\n",
      "  FutureWarning)\n"
     ]
    },
    {
     "name": "stdout",
     "output_type": "stream",
     "text": [
      "197\n"
     ]
    },
    {
     "ename": "AttributeError",
     "evalue": "'InteractionEnhancedImaging' object has no attribute 'delta_transmission'",
     "output_type": "error",
     "traceback": [
      "\u001B[1;31m---------------------------------------------------------------------------\u001B[0m",
      "\u001B[1;31mAttributeError\u001B[0m                            Traceback (most recent call last)",
      "\u001B[1;32m<ipython-input-10-3fac3c09ed20>\u001B[0m in \u001B[0;36m<module>\u001B[1;34m\u001B[0m\n\u001B[0;32m     23\u001B[0m \u001B[0mtrans\u001B[0m\u001B[1;33m=\u001B[0m\u001B[0mIEI\u001B[0m\u001B[1;33m.\u001B[0m\u001B[0mtransmission\u001B[0m\u001B[1;31m#.groupby('tEXC').mean('shot')\u001B[0m\u001B[1;33m\u001B[0m\u001B[1;33m\u001B[0m\u001B[0m\n\u001B[0;32m     24\u001B[0m \u001B[1;31m#print(len(trans))\u001B[0m\u001B[1;33m\u001B[0m\u001B[1;33m\u001B[0m\u001B[1;33m\u001B[0m\u001B[0m\n\u001B[1;32m---> 25\u001B[1;33m \u001B[0mdeltatrans\u001B[0m\u001B[1;33m=\u001B[0m\u001B[0mIEI\u001B[0m\u001B[1;33m.\u001B[0m\u001B[0mdelta_transmission\u001B[0m\u001B[1;33m\u001B[0m\u001B[1;33m\u001B[0m\u001B[0m\n\u001B[0m\u001B[0;32m     26\u001B[0m \u001B[0mdeltaod\u001B[0m\u001B[1;33m=\u001B[0m\u001B[0mIEI\u001B[0m\u001B[1;33m.\u001B[0m\u001B[0mdelta_optical_depth\u001B[0m\u001B[1;33m\u001B[0m\u001B[1;33m\u001B[0m\u001B[0m\n\u001B[0;32m     27\u001B[0m \u001B[0mdelta_t_norm\u001B[0m\u001B[1;33m=\u001B[0m\u001B[0mIEI\u001B[0m\u001B[1;33m.\u001B[0m\u001B[0mdelta_optical_depth_normalized\u001B[0m\u001B[1;33m\u001B[0m\u001B[1;33m\u001B[0m\u001B[0m\n",
      "\u001B[1;31mAttributeError\u001B[0m: 'InteractionEnhancedImaging' object has no attribute 'delta_transmission'"
     ]
    }
   ],
   "source": [
    "importlib.reload(rydanalysis)\n",
    "from rydanalysis import *\n",
    "data = seq.raw_data#.groupby('tEXC')\n",
    "#print(data)\n",
    "\n",
    "\n",
    "#mask = (abs(images.x)) * (abs(images.y))\n",
    "#image = images.image_01.sel(dDDSred=0, method='nearest').where(mask)/images.image_03.sel(dDDSred=0, method='nearest').where(mask)#-images.image_05.sel(dDDSred=0, method='nearest').where(mask)\n",
    "two_level=EITMask(image = data.image_01).get_mask(center_x=28,center_y=-150,width_x=10,width_y=400,width_eit=60)\n",
    "roi=EllipticalMask(image = data.image_01).get_mask(center_x=28,center_y=-168,width_x=15,width_y=50)\n",
    "elliptical=EllipticalMask(image = data.image_01).get_mask(center_x=-20,center_y=-100,width_x=60,width_y=1000)\n",
    "\n",
    "crop = RectangularMask(image = data.image_01).get_mask(center_x=18,center_y=-175, width_x=70, width_y=600)\n",
    "\n",
    "IEI=InteractionEnhancedImaging.from_raw_data(seq.raw_data,mask=two_level,roi_mask=roi,crop_mask=crop,\n",
    "                                             absorption_ref_kwargs=dict(tEXC=0),\n",
    "                                             pca_kwargs=dict(n_components=197))\n",
    "#AI=AbsorptionImaging.from_raw_data(seq.raw_data,crop_mask=crop)\n",
    "\n",
    "#print(absorptionpic.calculate_density(images.image_01.sel(tEXC=0, method='nearest')))\n",
    "#print(center_of_mass(imag[n].where(eit_roi)))\n",
    "\n",
    "trans=IEI.transmission#.groupby('tEXC').mean('shot')\n",
    "#print(len(trans))\n",
    "deltatrans=IEI.delta_transmission\n",
    "deltaod=IEI.delta_optical_depth\n",
    "delta_t_norm=IEI.delta_optical_depth_normalized\n",
    "ref=IEI.transmission_reference\n",
    "opt_ref=IEI.optimized_transmission_reference(IEI.transmission)\n",
    "single=IEI.absorption_images\n",
    "\n",
    "#AIimag=AI.transmission\n",
    "\n",
    "for n in range(0,5):\n",
    "\n",
    "    fig,ax = plt.subplots(6,figsize=(10,15))\n",
    "    pic=0\n",
    "    #ax[0].set_title('Absorption / Light Reference')\n",
    "    #ax[0].imshow(AIimag[n].where(elliptical), origin='bottom',vmin=0, vmax=1)\n",
    "    #fig.colorbar(ax[0].imshow(AIimag[n].where(elliptical), origin='bottom',vmin=0, vmax=1),ax=ax[0])\n",
    "    ax[pic].set_title('Single Shot Transmission')\n",
    "    ax[pic].imshow(single[n].where(elliptical), origin='bottom')\n",
    "    fig.colorbar(ax[pic].imshow(single[n].where(elliptical), origin='bottom'),ax=ax[pic])\n",
    "    pic+=1\n",
    "    ax[pic].set_title('Region excluded from PCA')\n",
    "    ax[pic].imshow(trans[n], origin='bottom')\n",
    "    fig.colorbar(ax[pic].imshow(trans[n], origin='bottom'),ax=ax[pic])\n",
    "    pic+=1\n",
    "    #ax[2].set_title('Single Shot Absorption')\n",
    "    #ax[2].imshow(single[n], origin='bottom',vmin=40, vmax=150)\n",
    "    #fig.colorbar(ax[2].imshow(single[n], origin='bottom',vmin=40, vmax=150),ax=ax[2])\n",
    "    ax[pic].set_title('Single Shot Transmission Reference')\n",
    "    ax[pic].imshow(ref[n], origin='bottom')\n",
    "    fig.colorbar(ax[pic].imshow(ref[n], origin='bottom'),ax=ax[pic])\n",
    "    pic+=1\n",
    "    ax[pic].set_title('Optimized Transmission Reference')\n",
    "    ax[pic].imshow(opt_ref[n], origin='bottom')\n",
    "    fig.colorbar(ax[pic].imshow(opt_ref[n], origin='bottom'),ax=ax[pic])\n",
    "    pic+=1\n",
    "    ax[pic].set_title('Optimized Transmission Reference - Transmission')\n",
    "    ax[pic].imshow(deltatrans[n], origin='bottom')\n",
    "    fig.colorbar(ax[pic].imshow(deltatrans[n], origin='bottom'),ax=ax[pic])\n",
    "    pic+=1\n",
    "    ax[pic].set_title('OD - Optimized OD Reference')\n",
    "    ax[pic].imshow(deltaod[n],vmin=0, vmax=1, origin='bottom')\n",
    "    fig.colorbar(ax[pic].imshow(deltaod[n], origin='bottom'),ax=ax[pic])\n",
    "    plt.show()"
   ]
  },
  {
   "cell_type": "code",
   "execution_count": null,
   "metadata": {},
   "outputs": [],
   "source": [
    "from scipy import stats\n",
    "import seaborn as sns\n",
    "from pylab import rcParams\n",
    "rcParams['figure.figsize'] = 10, 10\n",
    "\n",
    "eit=dict(tEXC=0)\n",
    "blocked=dict(tEXC=0.004)\n",
    "\n",
    "#deltaod.groupby('tEXC').mean('shot')\n",
    "\n",
    "eitlist=[]\n",
    "eitlist1=[]\n",
    "\n",
    "\n",
    "for n in range(0,197):\n",
    "    eitlist.append(deltaod.sel(eit)[n].where(roi)[9:11,42:46].mean())\n",
    "    eitlist1.append(deltaod.sel(eit)[n].where(roi)[9,43])\n",
    "\n",
    "\n",
    "meaneit=stats.norm.fit(eitlist)[0]\n",
    "noiseeit=stats.norm.fit(eitlist)[1]\n",
    "meaneit1=stats.norm.fit(eitlist1)[0]\n",
    "noiseeit1=stats.norm.fit(eitlist1)[1]\n",
    "\n",
    "signallist=[]\n",
    "noiselist=[]\n",
    "snrlist=[]\n",
    "signallist1=[]\n",
    "noiselist1=[]\n",
    "snrlist1=[]\n",
    "\n",
    "for texc in [0.0001,0.0002,0.0003,0.0004,0.0005,0.0006,0.0007,0.0008,0.0009,0.001,0.0011,0.0012,0.0013,0.0014,\n",
    "             0.0015,0.0016,0.0017,0.0018,0.0019,0.0020]:\n",
    "    blocked=dict(tEXC=texc)\n",
    "    for y in range(0,1):\n",
    "        for x in range(0,1):\n",
    "            odlist=[]\n",
    "            odlist1=[]\n",
    "            for n in range(0,193):\n",
    "                #singlelist.append(single.sel(eit)[n].where(roi)[15+y,44+x]*1.37)\n",
    "                #singlelist1.append(single.sel(blocked)[n].where(roi)[15+y,44+x]*1.37)\n",
    "                #odlist.append(deltaod.sel(eit)[n].where(roi)[9+y,43+x])\n",
    "                odlist.append(deltaod.sel(blocked)[n].where(roi)[9:11,42:46].mean())\n",
    "                odlist1.append(deltaod.sel(blocked)[n].where(roi)[9,43])\n",
    "                #odlist2.append(delta_t_norm.sel(eit)[n].where(roi)[8+y,44+x])\n",
    "                #odlist3.append(delta_t_norm.sel(blocked)[n].where(roi)[8+y,44+x])\n",
    "            try:\n",
    "                #print(stats.norm.fit(singlelist))\n",
    "                #print(stats.norm.fit(singlelist1))\n",
    "                #sns.distplot(singlelist, fit=stats.norm, kde=False)\n",
    "                #sns.distplot(singlelist1, fit=stats.norm, kde=False)\n",
    "                #plt.ylabel('Occurences at y=%.0f , x=%.0f' %(y,x))\n",
    "                #plt.xlabel('Counts')\n",
    "                #plt.show()\n",
    "                signal=stats.norm.fit(odlist)[0]-meaneit\n",
    "                noise=stats.norm.fit(odlist)[1]+noiseeit\n",
    "                print(signal/noise)\n",
    "                signallist.append(signal)\n",
    "                noiselist.append(noise)\n",
    "                snrlist.append(signal/noise)\n",
    "\n",
    "                signal1=stats.norm.fit(odlist1)[0]-meaneit1\n",
    "                noise1=stats.norm.fit(odlist1)[1]+noiseeit1\n",
    "                print(signal1/noise1)\n",
    "                signallist1.append(signal1)\n",
    "                noiselist1.append(noise1)\n",
    "                snrlist1.append(signal1/noise1)\n",
    "                #print(signal/noise)\n",
    "                #print(stats.norm.fit(odlist2))\n",
    "                #print(stats.norm.fit(odlist3))\n",
    "                plt.clf()\n",
    "                sns.distplot(eitlist, fit=stats.norm, kde=False)\n",
    "                sns.distplot(eitlist1, fit=stats.norm, kde=False)\n",
    "                sns.distplot(odlist, fit=stats.norm, kde=False)\n",
    "                sns.distplot(odlist1, fit=stats.norm, kde=False)\n",
    "                #sns.distplot(odlist2, fit=stats.norm, kde=False)\n",
    "                #sns.distplot(odlist3, fit=stats.norm, kde=False)\n",
    "                texc=texc*1000\n",
    "                plt.xlabel('OD - OD_Reference')\n",
    "                plt.xlim(-0.3,0.6)\n",
    "                plt.ylim(0,12)\n",
    "                plt.ylabel('Normalized Occurences at t_EXC=%.1f us' %texc)# at y=%.0f , x=%.0f' %(y,x))\n",
    "                #plt.show()\n",
    "                plt.savefig('/Users/qd/Desktop/DATA/t_EXC=%.1f us.png' %texc)\n",
    "            except:\n",
    "                print('Out of ROI with x:',x,'y:',y)\n",
    "\n"
   ]
  },
  {
   "cell_type": "code",
   "execution_count": null,
   "metadata": {},
   "outputs": [],
   "source": [
    "plt.errorbar(np.linspace(0.1,2,20),signallist1,noiselist1/np.sqrt(193),linestyle='',marker='o',markersize=1.8,label=\"Single Pixel (8.8 um)^2 \")\n",
    "plt.xlabel(\"39S Excitation time [us]\")\n",
    "plt.ylabel('Delta OD')\n",
    "plt.errorbar(np.linspace(0.1,2,20),signallist,noiselist/np.sqrt(193),linestyle='',marker='o',markersize=1.8,label=\"2x4 Pixels 17.6um x 35.2 um\")\n",
    "plt.legend()\n",
    "plt.savefig('/Users/qd/Desktop/DATA/DeltaOD.png')\n",
    "plt.show()"
   ]
  },
  {
   "cell_type": "code",
   "execution_count": null,
   "metadata": {},
   "outputs": [],
   "source": [
    "plt.plot(np.linspace(0.1,2,20),snrlist1,linestyle='',marker='o',label=\"Single Pixel (8.8 um)^2 \")\n",
    "plt.plot(np.linspace(0.1,2,20),snrlist,linestyle='',marker='o',label=\"2x4 Pixels 17.6um x 35.2 um\")\n",
    "plt.xlabel(\"39S Excitation time [us]\")\n",
    "plt.ylabel('Single Shot SNR')\n",
    "plt.legend()\n",
    "plt.savefig('/Users/qd/Desktop/DATA/SNR.png')\n",
    "plt.show()"
   ]
  },
  {
   "cell_type": "code",
   "execution_count": null,
   "metadata": {},
   "outputs": [],
   "source": []
  },
  {
   "cell_type": "code",
   "execution_count": null,
   "metadata": {},
   "outputs": [],
   "source": []
  },
  {
   "cell_type": "code",
   "execution_count": null,
   "metadata": {
    "collapsed": false,
    "jupyter": {
     "outputs_hidden": false
    },
    "pycharm": {
     "name": "#%%\n"
    }
   },
   "outputs": [],
   "source": [
    "\n"
   ]
  }
 ],
 "metadata": {
  "kernelspec": {
   "display_name": "PyCharm (RydIO)",
   "language": "python",
   "name": "pycharm-88538a83"
  },
  "language_info": {
   "codemirror_mode": {
    "name": "ipython",
    "version": 3
   },
   "file_extension": ".py",
   "mimetype": "text/x-python",
   "name": "python",
   "nbconvert_exporter": "python",
   "pygments_lexer": "ipython3",
   "version": "3.6.10"
  }
 },
 "nbformat": 4,
 "nbformat_minor": 4
}