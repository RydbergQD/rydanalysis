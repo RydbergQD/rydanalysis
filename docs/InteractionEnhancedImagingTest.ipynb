{
 "cells": [
  {
   "cell_type": "code",
   "execution_count": 1,
   "metadata": {},
   "outputs": [],
   "source": [
    "import sys\n",
    "#sys.path.insert(0, '/Users/qd/PycharmProjects/rydanalysis/')\n",
    "from rydanalysis import *\n",
    "import matplotlib.pyplot as plt\n",
    "#path='/run/user/1000/gvfs/smb-share:server=axion.local,share=rydberg/data/2020_02_12/EIT_resonancescan'\n",
    "import seaborn as sns\n",
    "from pathlib import Path\n",
    "sns.set_style(\"dark\")\n",
    "sns.set_style(\"darkgrid\")\n",
    "import matplotlib as mpl\n",
    "path='/Users/qd/Desktop/DATA/01_Twolevel_versus_Threelevel_pABSx0-8_pBlue15mV/'\n",
    "path = Path(path)"
   ]
  },
  {
   "cell_type": "code",
   "execution_count": 2,
   "metadata": {},
   "outputs": [
    {
     "name": "stdout",
     "output_type": "stream",
     "text": [
      "'raw_data.h5' already exists. Do you want to load from this file (Y) or from the old folder structure (N)? [Y/n]: "
     ]
    },
    {
     "data": {
      "text/plain": "HBox(children=(FloatProgress(value=0.0, description='find parameters and variables', max=500.0, style=Progress…",
      "application/vnd.jupyter.widget-view+json": {
       "version_major": 2,
       "version_minor": 0,
       "model_id": "cc9f9b27a2f444a5bedc262500ef04a4"
      }
     },
     "metadata": {},
     "output_type": "display_data"
    }
   ],
   "source": [
    "seq = rydanalysis.OldStructure(path)\n",
    "#seq.path='/Users/qd/Schreibtisch/DATA/'"
   ]
  },
  {
   "cell_type": "code",
   "execution_count": 3,
   "metadata": {},
   "outputs": [
    {
     "data": {
      "text/plain": "HBox(children=(FloatProgress(value=0.0, description='load images', max=500.0, style=ProgressStyle(description_…",
      "application/vnd.jupyter.widget-view+json": {
       "version_major": 2,
       "version_minor": 0,
       "model_id": "e4cb5c26e6f246eea0b2b932528c5686"
      }
     },
     "metadata": {},
     "output_type": "display_data"
    }
   ],
   "source": [
    "seq.save_raw_data()"
   ]
  },
  {
   "cell_type": "code",
   "execution_count": 4,
   "metadata": {},
   "outputs": [
    {
     "name": "stderr",
     "output_type": "stream",
     "text": [
      "C:\\Users\\qd\\Anaconda3\\envs\\rydanalysis\\lib\\site-packages\\xarray\\core\\nanops.py:142: RuntimeWarning: Mean of empty slice\n",
      "  return np.nanmean(a, axis=axis, dtype=dtype)\n",
      "C:\\Users\\qd\\Anaconda3\\envs\\rydanalysis\\lib\\site-packages\\sklearn\\utils\\validation.py:71: FutureWarning: Pass copy=True, whiten=False, svd_solver=auto, tol=0.0, iterated_power=auto, random_state=None as keyword args. From version 0.25 passing these as positional arguments will result in an error\n",
      "  FutureWarning)\n"
     ]
    },
    {
     "ename": "AttributeError",
     "evalue": "'InteractionEnhancedImaging' object has no attribute 'absorption'",
     "output_type": "error",
     "traceback": [
      "\u001B[1;31m---------------------------------------------------------------------------\u001B[0m",
      "\u001B[1;31mAttributeError\u001B[0m                            Traceback (most recent call last)",
      "\u001B[1;32m<ipython-input-4-361b04ec1a0c>\u001B[0m in \u001B[0;36m<module>\u001B[1;34m\u001B[0m\n\u001B[0;32m     18\u001B[0m \u001B[1;33m\u001B[0m\u001B[0m\n\u001B[0;32m     19\u001B[0m \u001B[0mimag\u001B[0m\u001B[1;33m=\u001B[0m\u001B[0mIEI\u001B[0m\u001B[1;33m.\u001B[0m\u001B[0mtransmission_impurity\u001B[0m\u001B[1;33m\u001B[0m\u001B[1;33m\u001B[0m\u001B[0m\n\u001B[1;32m---> 20\u001B[1;33m \u001B[0msingle\u001B[0m\u001B[1;33m=\u001B[0m\u001B[0mIEI\u001B[0m\u001B[1;33m.\u001B[0m\u001B[0mabsorption\u001B[0m\u001B[1;33m\u001B[0m\u001B[1;33m\u001B[0m\u001B[0m\n\u001B[0m\u001B[0;32m     21\u001B[0m \u001B[0mref\u001B[0m\u001B[1;33m=\u001B[0m\u001B[0mIEI\u001B[0m\u001B[1;33m.\u001B[0m\u001B[0moptimized_absorption_reference\u001B[0m\u001B[1;33m(\u001B[0m\u001B[0mIEI\u001B[0m\u001B[1;33m.\u001B[0m\u001B[0mabsorption_reference\u001B[0m\u001B[1;33m)\u001B[0m\u001B[1;33m\u001B[0m\u001B[1;33m\u001B[0m\u001B[0m\n\u001B[0;32m     22\u001B[0m \u001B[0mAIimag\u001B[0m\u001B[1;33m=\u001B[0m\u001B[0mAI\u001B[0m\u001B[1;33m.\u001B[0m\u001B[0mtransmission\u001B[0m\u001B[1;33m\u001B[0m\u001B[1;33m\u001B[0m\u001B[0m\n",
      "\u001B[1;31mAttributeError\u001B[0m: 'InteractionEnhancedImaging' object has no attribute 'absorption'"
     ]
    },
    {
     "data": {
      "text/plain": "<Figure size 432x288 with 2 Axes>",
      "image/png": "[encoded data removed]"
     },
     "metadata": {},
     "output_type": "display_data"
    }
   ],
   "source": [
    "data = seq.raw_data#.groupby('Test1').mean()\n",
    "\n",
    "#mask = (abs(images.x)) * (abs(images.y))\n",
    "#image = images.image_01.sel(dDDSred=0, method='nearest').where(mask)/images.image_03.sel(dDDSred=0, method='nearest').where(mask)#-images.image_05.sel(dDDSred=0, method='nearest').where(mask)\n",
    "two_level=EITMask(image = data.image_01).get_mask(center_x=18,center_y=-160,width_x=25,width_y=800,width_eit=30)\n",
    "roi=EllipticalMask(image = data.image_01).get_mask(center_x=12,center_y=-168,width_x=20,width_y=40)\n",
    "elliptical=EllipticalMask(image = data.image_01).get_mask(center_x=-20,center_y=-100,width_x=60,width_y=1000)\n",
    "#fringemask=PolygonMask(image = data.image_01).get_mask([13,-200])\n",
    "crop = RectangularMask(image = data.image_01).get_mask(center_x=5,center_y=-175, width_x=75, width_y=650)\n",
    "\n",
    "IEI=InteractionEnhancedImaging.from_raw_data(seq.raw_data,mask=elliptical,roi_mask=roi,crop_mask=crop,\n",
    "                                             absorption_ref_kwargs=dict(Test1=1))\n",
    "AI=AbsorptionImaging.from_raw_data(seq.raw_data,crop_mask=crop)\n",
    "\n",
    "#print(absorptionpic.calculate_density(images.image_01.sel(tEXC=0, method='nearest')))\n",
    "IEI.absorption_reference[0].plot()\n",
    "#print(center_of_mass(imag[n].where(eit_roi)))\n",
    "\n",
    "imag=IEI.transmission_impurity\n",
    "single=IEI.absorption_images[0]\n",
    "ref=IEI.optimized_absorption_reference(IEI.absorption_reference)\n",
    "AIimag=AI.transmission\n",
    "\n",
    "for n in range(1,5):\n",
    "\n",
    "    fig,ax = plt.subplots(6,figsize=(10,15))\n",
    "\n",
    "    ax[0].set_title('Absorption / Light Reference')\n",
    "    ax[0].imshow(AIimag[n], origin='bottom',vmin=0, vmax=1)\n",
    "    fig.colorbar(ax[0].imshow(AIimag[n], origin='bottom',vmin=0, vmax=1),ax=ax[0])\n",
    "\n",
    "    ax[1].set_title('Region excluded from PCA')\n",
    "    ax[1].imshow(AIimag[n].where(roi), origin='bottom',vmin=0, vmax=1)\n",
    "    fig.colorbar(ax[1].imshow(AIimag[n].where(roi), origin='bottom',vmin=0, vmax=1),ax=ax[1])\n",
    "\n",
    "    ax[2].set_title('Single Shot Absorption')\n",
    "    ax[2].imshow(single.where(crop), origin='bottom')\n",
    "    fig.colorbar(ax[2].imshow(single.where(crop), origin='bottom'),ax=ax[2])\n",
    "\n",
    "    ax[3].set_title('Absorption Reference Image')\n",
    "    ax[3].imshow(ref[n], origin='bottom')\n",
    "    fig.colorbar(ax[3].imshow(ref[n], origin='bottom'),ax=ax[3])\n",
    "\n",
    "    ax[4].set_title('Absorption / Absorption Reference')\n",
    "    ax[4].imshow(imag[n], origin='bottom',vmin=0, vmax=1)\n",
    "    fig.colorbar(ax[4].imshow(imag[n], origin='bottom',vmin=0, vmax=1),ax=ax[4])\n",
    "\n",
    "    ax[5].set_title('Difference to single shot ')\n",
    "    ax[5].imshow(AIimag[n]-imag[n], origin='bottom')\n",
    "    fig.colorbar(ax[5].imshow(AIimag[n]-imag[n], origin='bottom',cmap='coolwarm'),ax=ax[5])\n",
    "\n",
    "    plt.show()"
   ]
  },
  {
   "cell_type": "code",
   "execution_count": null,
   "metadata": {},
   "outputs": [],
   "source": [
    "#absorptionpic.absorption_reference[0].plot()\n",
    "a=AI.reference[0]#-simple.background\n",
    "b=IEI.absorption_images[10]\n",
    "b.plot()"
   ]
  },
  {
   "cell_type": "code",
   "execution_count": null,
   "outputs": [],
   "source": [
    "roi=eit_roi.where(elliptical)\n",
    "roi.plot()"
   ],
   "metadata": {
    "collapsed": false,
    "pycharm": {
     "name": "#%%\n"
    }
   }
  },
  {
   "cell_type": "code",
   "execution_count": null,
   "metadata": {},
   "outputs": [],
   "source": [
    "(pca.decompose_images(np.logical_not(imag[n].where(eit_roi).isnull()))-pca.decompose_images(imag[n])).mean()"
   ]
  },
  {
   "cell_type": "code",
   "execution_count": null,
   "metadata": {},
   "outputs": [],
   "source": [
    "imag[n].where(eit_roi).plot()"
   ]
  },
  {
   "cell_type": "code",
   "execution_count": null,
   "metadata": {},
   "outputs": [],
   "source": [
    "im=pca.decompose_images(np.logical_not(imag[n].where(eit_roi).isnull()))\n",
    "\n",
    "np.logical_not(imag[n].where(eit_roi).isnull()).plot()\n",
    "\n",
    "fig,ax = plt.subplots(2,1,figsize=(25,10))\n",
    "\n",
    "\n",
    "\n",
    "ax[0].set_title('Image Number '+str(1))\n",
    "ax[0].imshow(im, origin='bottom',vmin=0, vmax=1)\n",
    "fig.colorbar(ax[0].imshow(im, origin='bottom',vmin=0, vmax=1),ax=ax[0])\n"
   ]
  },
  {
   "cell_type": "code",
   "execution_count": null,
   "metadata": {},
   "outputs": [],
   "source": [
    "imag[n].std()\n",
    "sensor=elliptical.where(crop)\n",
    "sensor.plot()\n"
   ]
  },
  {
   "cell_type": "code",
   "execution_count": null,
   "metadata": {},
   "outputs": [],
   "source": []
  },
  {
   "cell_type": "code",
   "execution_count": null,
   "outputs": [],
   "source": [
    "\n"
   ],
   "metadata": {
    "collapsed": false,
    "pycharm": {
     "name": "#%%\n"
    }
   }
  }
 ],
 "metadata": {
  "kernelspec": {
   "name": "pycharm-88538a83",
   "language": "python",
   "display_name": "PyCharm (RydIO)"
  },
  "language_info": {
   "codemirror_mode": {
    "name": "ipython",
    "version": 3
   },
   "file_extension": ".py",
   "mimetype": "text/x-python",
   "name": "python",
   "nbconvert_exporter": "python",
   "pygments_lexer": "ipython3",
   "version": "3.6.10"
  }
 },
 "nbformat": 4,
 "nbformat_minor": 4
}