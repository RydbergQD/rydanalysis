{
 "cells": [
  {
   "cell_type": "code",
   "execution_count": 1,
   "metadata": {},
   "outputs": [],
   "source": [
    "import xarray as xr\n",
    "import rydanalysis as ra\n",
    "import pandas as pd\n",
    "import matplotlib.pyplot as plt\n",
    "import matplotlib\n",
    "from pathlib import Path\n",
    "import numpy as np\n",
    "from tqdm.notebook import tqdm\n",
    "from scipy.stats import sem\n",
    "from scipy.integrate import quad\n",
    "\n",
    "%matplotlib widget"
   ]
  },
  {
   "cell_type": "code",
   "execution_count": 2,
   "metadata": {},
   "outputs": [],
   "source": [
    "height = 0.0005510203336598352\n",
    "\n",
    "def load_peaks(live_analysis_path):\n",
    "    live_analysis_path.mkdir(exist_ok=True)\n",
    "    data = ra.load_data(path, lazy=True)\n",
    "    \n",
    "    peaks = data.scope_traces.peaks_summary.count(height=height, width=0.3*1e-9)\n",
    "    ions_integrated = data.scope_traces.peaks_summary.integrate(height=height)\n",
    "    ions = xr.merge([peaks, ions_integrated])\n",
    "    # ions.ryd_data.to_netcdf(live_analysis_path / \"peaks.h5\")\n",
    "    return ions"
   ]
  },
  {
   "cell_type": "code",
   "execution_count": 3,
   "metadata": {},
   "outputs": [],
   "source": [
    "path = Path.cwd().parent / \"raw_data\"\n",
    "\n",
    "live_analysis_path = Path.cwd().parent / \"Analysis\" \n",
    "peaks_file = live_analysis_path / \"peaks.h5\""
   ]
  },
  {
   "cell_type": "code",
   "execution_count": 4,
   "metadata": {},
   "outputs": [
    {
     "output_type": "stream",
     "name": "stderr",
     "text": [
      "2021-01-27 17:54:57.937 INFO    numexpr.utils: NumExpr defaulting to 8 threads.\n"
     ]
    },
    {
     "output_type": "execute_result",
     "data": {
      "text/plain": [
       "'dDDSmw'"
      ]
     },
     "metadata": {},
     "execution_count": 4
    }
   ],
   "source": [
    "data = ra.load_data(path, to_multiindex=True, lazy=True)\n",
    "variable = data.ryd_data.variables.columns[0]\n",
    "variable"
   ]
  },
  {
   "cell_type": "code",
   "execution_count": 6,
   "metadata": {},
   "outputs": [],
   "source": [
    "prominence = 0\n",
    "threshold = 0\n",
    "width = 2e-9\n",
    "distance = 0\n",
    "\n",
    "# offset = float(traces_mi.sel({variable: 0}).mean(\"time\").mean(\"tmstp\"))\n",
    "# std = float(traces_mi.sel({variable: 0}).std(\"time\").mean(\"tmstp\"))\n",
    "# height = 3 * std + offset\n",
    "height = 0.0007"
   ]
  },
  {
   "cell_type": "code",
   "execution_count": 7,
   "metadata": {},
   "outputs": [
    {
     "output_type": "display_data",
     "data": {
      "text/plain": "HBox(children=(HTML(value=''), FloatProgress(value=0.0, max=155.0), HTML(value='')))",
      "application/vnd.jupyter.widget-view+json": {
       "version_major": 2,
       "version_minor": 0,
       "model_id": "5a7469b3031b4f86ac422c24267dc3b1"
      }
     },
     "metadata": {}
    },
    {
     "output_type": "stream",
     "name": "stdout",
     "text": [
      "\n"
     ]
    }
   ],
   "source": [
    "peak_df = data.scope_traces.peaks_summary.get_peak_description(width=2e-9, height=height, distance=None)"
   ]
  },
  {
   "cell_type": "code",
   "execution_count": 8,
   "metadata": {},
   "outputs": [],
   "source": [
    "peak_df.to_csv(\"peak_df.csv\")"
   ]
  },
  {
   "cell_type": "code",
   "execution_count": 9,
   "metadata": {},
   "outputs": [
    {
     "output_type": "execute_result",
     "data": {
      "text/plain": [
       "                                        peak_heights  prominences  left_bases  \\\n",
       "peak_number tmstp               dDDSmw                                          \n",
       "0           2021-01-27 17:45:52 -20.0       0.000789     0.001604    0.000013   \n",
       "1           2021-01-27 17:45:52 -20.0       0.002592     0.003444    0.000013   \n",
       "2           2021-01-27 17:45:52 -20.0       0.004520     0.005543    0.000013   \n",
       "3           2021-01-27 17:45:52 -20.0       0.000707     0.001327    0.000024   \n",
       "4           2021-01-27 17:45:52 -20.0       0.002781     0.004158    0.000024   \n",
       "...                                              ...          ...         ...   \n",
       "43          2021-01-27 17:51:46  20.0       0.003706     0.004979    0.000055   \n",
       "44          2021-01-27 17:51:46  20.0       0.003481     0.004735    0.000057   \n",
       "45          2021-01-27 17:51:46  20.0       0.000809     0.001801    0.000063   \n",
       "46          2021-01-27 17:51:46  20.0       0.007351     0.009684    0.000051   \n",
       "47          2021-01-27 17:51:46  20.0       0.001229     0.002243    0.000066   \n",
       "\n",
       "                                        right_bases        widths  \\\n",
       "peak_number tmstp               dDDSmw                              \n",
       "0           2021-01-27 17:45:52 -20.0      0.000019  3.975291e-09   \n",
       "1           2021-01-27 17:45:52 -20.0      0.000020  2.156738e-09   \n",
       "2           2021-01-27 17:45:52 -20.0      0.000024  2.287319e-09   \n",
       "3           2021-01-27 17:45:52 -20.0      0.000024  3.075804e-09   \n",
       "4           2021-01-27 17:45:52 -20.0      0.000024  2.824388e-09   \n",
       "...                                             ...           ...   \n",
       "43          2021-01-27 17:51:46  20.0      0.000063  2.724269e-09   \n",
       "44          2021-01-27 17:51:46  20.0      0.000063  2.645000e-09   \n",
       "45          2021-01-27 17:51:46  20.0      0.000063  4.149621e-09   \n",
       "46          2021-01-27 17:51:46  20.0      0.000066  2.630775e-09   \n",
       "47          2021-01-27 17:51:46  20.0      0.000077  3.538577e-09   \n",
       "\n",
       "                                        width_heights  left_ips  right_ips  \\\n",
       "peak_number tmstp               dDDSmw                                       \n",
       "0           2021-01-27 17:45:52 -20.0       -0.000013  0.000018   0.000018   \n",
       "1           2021-01-27 17:45:52 -20.0        0.000870  0.000020   0.000020   \n",
       "2           2021-01-27 17:45:52 -20.0        0.001749  0.000024   0.000024   \n",
       "3           2021-01-27 17:45:52 -20.0        0.000044  0.000024   0.000024   \n",
       "4           2021-01-27 17:45:52 -20.0        0.000702  0.000024   0.000024   \n",
       "...                                               ...       ...        ...   \n",
       "43          2021-01-27 17:51:46  20.0        0.001216  0.000057   0.000057   \n",
       "44          2021-01-27 17:51:46  20.0        0.001113  0.000063   0.000063   \n",
       "45          2021-01-27 17:51:46  20.0       -0.000092  0.000063   0.000063   \n",
       "46          2021-01-27 17:51:46  20.0        0.002509  0.000066   0.000066   \n",
       "47          2021-01-27 17:51:46  20.0        0.000108  0.000066   0.000066   \n",
       "\n",
       "                                        peak_time  \n",
       "peak_number tmstp               dDDSmw             \n",
       "0           2021-01-27 17:45:52 -20.0    0.000018  \n",
       "1           2021-01-27 17:45:52 -20.0    0.000020  \n",
       "2           2021-01-27 17:45:52 -20.0    0.000024  \n",
       "3           2021-01-27 17:45:52 -20.0    0.000024  \n",
       "4           2021-01-27 17:45:52 -20.0    0.000024  \n",
       "...                                           ...  \n",
       "43          2021-01-27 17:51:46  20.0    0.000057  \n",
       "44          2021-01-27 17:51:46  20.0    0.000063  \n",
       "45          2021-01-27 17:51:46  20.0    0.000063  \n",
       "46          2021-01-27 17:51:46  20.0    0.000066  \n",
       "47          2021-01-27 17:51:46  20.0    0.000066  \n",
       "\n",
       "[12855 rows x 9 columns]"
      ],
      "text/html": "<div>\n<style scoped>\n    .dataframe tbody tr th:only-of-type {\n        vertical-align: middle;\n    }\n\n    .dataframe tbody tr th {\n        vertical-align: top;\n    }\n\n    .dataframe thead th {\n        text-align: right;\n    }\n</style>\n<table border=\"1\" class=\"dataframe\">\n  <thead>\n    <tr style=\"text-align: right;\">\n      <th></th>\n      <th></th>\n      <th></th>\n      <th>peak_heights</th>\n      <th>prominences</th>\n      <th>left_bases</th>\n      <th>right_bases</th>\n      <th>widths</th>\n      <th>width_heights</th>\n      <th>left_ips</th>\n      <th>right_ips</th>\n      <th>peak_time</th>\n    </tr>\n    <tr>\n      <th>peak_number</th>\n      <th>tmstp</th>\n      <th>dDDSmw</th>\n      <th></th>\n      <th></th>\n      <th></th>\n      <th></th>\n      <th></th>\n      <th></th>\n      <th></th>\n      <th></th>\n      <th></th>\n    </tr>\n  </thead>\n  <tbody>\n    <tr>\n      <th>0</th>\n      <th>2021-01-27 17:45:52</th>\n      <th>-20.0</th>\n      <td>0.000789</td>\n      <td>0.001604</td>\n      <td>0.000013</td>\n      <td>0.000019</td>\n      <td>3.975291e-09</td>\n      <td>-0.000013</td>\n      <td>0.000018</td>\n      <td>0.000018</td>\n      <td>0.000018</td>\n    </tr>\n    <tr>\n      <th>1</th>\n      <th>2021-01-27 17:45:52</th>\n      <th>-20.0</th>\n      <td>0.002592</td>\n      <td>0.003444</td>\n      <td>0.000013</td>\n      <td>0.000020</td>\n      <td>2.156738e-09</td>\n      <td>0.000870</td>\n      <td>0.000020</td>\n      <td>0.000020</td>\n      <td>0.000020</td>\n    </tr>\n    <tr>\n      <th>2</th>\n      <th>2021-01-27 17:45:52</th>\n      <th>-20.0</th>\n      <td>0.004520</td>\n      <td>0.005543</td>\n      <td>0.000013</td>\n      <td>0.000024</td>\n      <td>2.287319e-09</td>\n      <td>0.001749</td>\n      <td>0.000024</td>\n      <td>0.000024</td>\n      <td>0.000024</td>\n    </tr>\n    <tr>\n      <th>3</th>\n      <th>2021-01-27 17:45:52</th>\n      <th>-20.0</th>\n      <td>0.000707</td>\n      <td>0.001327</td>\n      <td>0.000024</td>\n      <td>0.000024</td>\n      <td>3.075804e-09</td>\n      <td>0.000044</td>\n      <td>0.000024</td>\n      <td>0.000024</td>\n      <td>0.000024</td>\n    </tr>\n    <tr>\n      <th>4</th>\n      <th>2021-01-27 17:45:52</th>\n      <th>-20.0</th>\n      <td>0.002781</td>\n      <td>0.004158</td>\n      <td>0.000024</td>\n      <td>0.000024</td>\n      <td>2.824388e-09</td>\n      <td>0.000702</td>\n      <td>0.000024</td>\n      <td>0.000024</td>\n      <td>0.000024</td>\n    </tr>\n    <tr>\n      <th>...</th>\n      <th>...</th>\n      <th>...</th>\n      <td>...</td>\n      <td>...</td>\n      <td>...</td>\n      <td>...</td>\n      <td>...</td>\n      <td>...</td>\n      <td>...</td>\n      <td>...</td>\n      <td>...</td>\n    </tr>\n    <tr>\n      <th>43</th>\n      <th>2021-01-27 17:51:46</th>\n      <th>20.0</th>\n      <td>0.003706</td>\n      <td>0.004979</td>\n      <td>0.000055</td>\n      <td>0.000063</td>\n      <td>2.724269e-09</td>\n      <td>0.001216</td>\n      <td>0.000057</td>\n      <td>0.000057</td>\n      <td>0.000057</td>\n    </tr>\n    <tr>\n      <th>44</th>\n      <th>2021-01-27 17:51:46</th>\n      <th>20.0</th>\n      <td>0.003481</td>\n      <td>0.004735</td>\n      <td>0.000057</td>\n      <td>0.000063</td>\n      <td>2.645000e-09</td>\n      <td>0.001113</td>\n      <td>0.000063</td>\n      <td>0.000063</td>\n      <td>0.000063</td>\n    </tr>\n    <tr>\n      <th>45</th>\n      <th>2021-01-27 17:51:46</th>\n      <th>20.0</th>\n      <td>0.000809</td>\n      <td>0.001801</td>\n      <td>0.000063</td>\n      <td>0.000063</td>\n      <td>4.149621e-09</td>\n      <td>-0.000092</td>\n      <td>0.000063</td>\n      <td>0.000063</td>\n      <td>0.000063</td>\n    </tr>\n    <tr>\n      <th>46</th>\n      <th>2021-01-27 17:51:46</th>\n      <th>20.0</th>\n      <td>0.007351</td>\n      <td>0.009684</td>\n      <td>0.000051</td>\n      <td>0.000066</td>\n      <td>2.630775e-09</td>\n      <td>0.002509</td>\n      <td>0.000066</td>\n      <td>0.000066</td>\n      <td>0.000066</td>\n    </tr>\n    <tr>\n      <th>47</th>\n      <th>2021-01-27 17:51:46</th>\n      <th>20.0</th>\n      <td>0.001229</td>\n      <td>0.002243</td>\n      <td>0.000066</td>\n      <td>0.000077</td>\n      <td>3.538577e-09</td>\n      <td>0.000108</td>\n      <td>0.000066</td>\n      <td>0.000066</td>\n      <td>0.000066</td>\n    </tr>\n  </tbody>\n</table>\n<p>12855 rows × 9 columns</p>\n</div>"
     },
     "metadata": {},
     "execution_count": 9
    }
   ],
   "source": [
    "peak_df"
   ]
  },
  {
   "cell_type": "markdown",
   "metadata": {},
   "source": [
    "## Analysis"
   ]
  },
  {
   "cell_type": "code",
   "execution_count": 10,
   "metadata": {},
   "outputs": [],
   "source": [
    "peak_df = pd.read_csv(\"peak_df.csv\", index_col=[0, 1, 2])"
   ]
  },
  {
   "cell_type": "code",
   "execution_count": 11,
   "metadata": {},
   "outputs": [],
   "source": [
    "summary = ra.summarize_peak_description(peak_df)\n",
    "counts = summary.counts\n",
    "counts_mean = counts.groupby(variable).mean()\n",
    "counts_sem = counts.groupby(variable).reduce(sem)"
   ]
  },
  {
   "cell_type": "code",
   "execution_count": null,
   "metadata": {},
   "outputs": [],
   "source": []
  },
  {
   "cell_type": "code",
   "execution_count": 12,
   "metadata": {},
   "outputs": [],
   "source": [
    "from lmfit.models import GaussianModel, ConstantModel\n",
    "\n",
    "gaussian_model = GaussianModel() + ConstantModel()\n",
    "params = gaussian_model.make_params()\n",
    "params.add(\"amplitude\", 120, min=0)\n",
    "params.add(\"center\", 820)\n",
    "params.add(\"c\", 20)\n",
    "params.add(\"sigma\", 50)\n",
    "\n",
    "gaussian_fit = gaussian_model.fit(counts_mean, x=counts_mean[variable], weights=1/counts_sem, params=params)"
   ]
  },
  {
   "cell_type": "code",
   "execution_count": 13,
   "metadata": {},
   "outputs": [
    {
     "output_type": "display_data",
     "data": {
      "text/plain": "Canvas(toolbar=Toolbar(toolitems=[('Home', 'Reset original view', 'home', 'home'), ('Back', 'Back to previous …",
      "application/vnd.jupyter.widget-view+json": {
       "version_major": 2,
       "version_minor": 0,
       "model_id": "dd9542b463934d37a4fa540c53d006f1"
      }
     },
     "metadata": {}
    },
    {
     "output_type": "error",
     "ename": "TypeError",
     "evalue": "type NoneType doesn't define __round__ method",
     "traceback": [
      "\u001b[1;31m---------------------------------------------------------------------------\u001b[0m",
      "\u001b[1;31mTypeError\u001b[0m                                 Traceback (most recent call last)",
      "\u001b[1;32m<ipython-input-13-b87b75274c6d>\u001b[0m in \u001b[0;36m<module>\u001b[1;34m\u001b[0m\n\u001b[0;32m      7\u001b[0m \u001b[1;33m\u001b[0m\u001b[0m\n\u001b[0;32m      8\u001b[0m \u001b[0mcenter\u001b[0m \u001b[1;33m=\u001b[0m \u001b[0mround\u001b[0m\u001b[1;33m(\u001b[0m\u001b[0mgaussian_fit\u001b[0m\u001b[1;33m.\u001b[0m\u001b[0mparams\u001b[0m\u001b[1;33m[\u001b[0m\u001b[1;34m\"center\"\u001b[0m\u001b[1;33m]\u001b[0m\u001b[1;33m.\u001b[0m\u001b[0mvalue\u001b[0m\u001b[1;33m,\u001b[0m \u001b[1;36m2\u001b[0m\u001b[1;33m)\u001b[0m\u001b[1;33m\u001b[0m\u001b[1;33m\u001b[0m\u001b[0m\n\u001b[1;32m----> 9\u001b[1;33m \u001b[0mcenter_err\u001b[0m \u001b[1;33m=\u001b[0m \u001b[0mround\u001b[0m\u001b[1;33m(\u001b[0m\u001b[0mgaussian_fit\u001b[0m\u001b[1;33m.\u001b[0m\u001b[0mparams\u001b[0m\u001b[1;33m[\u001b[0m\u001b[1;34m\"center\"\u001b[0m\u001b[1;33m]\u001b[0m\u001b[1;33m.\u001b[0m\u001b[0mstderr\u001b[0m\u001b[1;33m,\u001b[0m \u001b[1;36m2\u001b[0m\u001b[1;33m)\u001b[0m\u001b[1;33m\u001b[0m\u001b[1;33m\u001b[0m\u001b[0m\n\u001b[0m\u001b[0;32m     10\u001b[0m \u001b[1;33m\u001b[0m\u001b[0m\n\u001b[0;32m     11\u001b[0m ax.annotate(r\"center: ${} \\pm {}$\".format(center, center_err),\n",
      "\u001b[1;31mTypeError\u001b[0m: type NoneType doesn't define __round__ method"
     ]
    }
   ],
   "source": [
    "fig, ax = plt.subplots()\n",
    "\n",
    "gaussian_fit.plot_fit(ax=ax)\n",
    "ax.set_title(path.parent.name)\n",
    "ax.set_xlabel(variable)\n",
    "ax.set_ylabel(\"counts\")\n",
    "\n",
    "center = round(gaussian_fit.params[\"center\"].value, 2)\n",
    "center_err = round(gaussian_fit.params[\"center\"].stderr, 2)\n",
    "\n",
    "ax.annotate(r\"center: ${} \\pm {}$\".format(center, center_err),\n",
    "            (0.1, 0.9), xycoords=\"axes fraction\")\n",
    "fig.savefig(\"gaussian_fit.png\", dpi=600, bbox_inches=\"tight\")"
   ]
  },
  {
   "cell_type": "code",
   "execution_count": 13,
   "metadata": {},
   "outputs": [
    {
     "data": {
      "text/html": [
       "<table><tr><th> name </th><th> value </th><th> initial value </th><th> min </th><th> max </th><th> vary </th><th> expression </th></tr><tr><td> amplitude </td><td>  120.000000 </td><td> 120 </td><td>  0.00000000 </td><td>         inf </td><td> True </td><td>  </td></tr><tr><td> center </td><td>  820.000000 </td><td> 820 </td><td>        -inf </td><td>         inf </td><td> True </td><td>  </td></tr><tr><td> sigma </td><td>  50.0000000 </td><td> 50 </td><td>        -inf </td><td>         inf </td><td> True </td><td>  </td></tr><tr><td> c </td><td>  20.0000000 </td><td> 20 </td><td>        -inf </td><td>         inf </td><td> True </td><td>  </td></tr><tr><td> fwhm </td><td>  117.741000 </td><td> None </td><td>        -inf </td><td>         inf </td><td> False </td><td> 2.3548200*sigma </td></tr><tr><td> height </td><td>  0.95746152 </td><td> None </td><td>        -inf </td><td>         inf </td><td> False </td><td> 0.3989423*amplitude/max(2.220446049250313e-16, sigma) </td></tr></table>"
      ],
      "text/plain": [
       "Parameters([('amplitude', <Parameter 'amplitude', value=120, bounds=[0:inf]>),\n",
       "            ('center', <Parameter 'center', value=820, bounds=[-inf:inf]>),\n",
       "            ('sigma', <Parameter 'sigma', value=50, bounds=[-inf:inf]>),\n",
       "            ('c', <Parameter 'c', value=20, bounds=[-inf:inf]>),\n",
       "            ('fwhm',\n",
       "             <Parameter 'fwhm', value=117.74100000000001, bounds=[-inf:inf], expr='2.3548200*sigma'>),\n",
       "            ('height',\n",
       "             <Parameter 'height', value=0.9574615200000001, bounds=[-inf:inf], expr='0.3989423*amplitude/max(2.220446049250313e-16, sigma)'>)])"
      ]
     },
     "execution_count": 13,
     "metadata": {},
     "output_type": "execute_result"
    }
   ],
   "source": [
    "params"
   ]
  },
  {
   "cell_type": "code",
   "execution_count": 30,
   "metadata": {},
   "outputs": [
    {
     "output_type": "display_data",
     "data": {
      "text/plain": "Canvas(toolbar=Toolbar(toolitems=[('Home', 'Reset original view', 'home', 'home'), ('Back', 'Back to previous …",
      "application/vnd.jupyter.widget-view+json": {
       "version_major": 2,
       "version_minor": 0,
       "model_id": "b2dd7d03f5a4491c98cf850d0c5c359f"
      }
     },
     "metadata": {}
    }
   ],
   "source": [
    "from lmfit import Model\n",
    "def rabiFormular(delta,center, omega, t,off,amp):\n",
    "    omega_eff = np.sqrt(omega**2 + (2 * (delta-center))**2)\n",
    "    p_ee = amp * (omega**2/omega_eff**2 * np.sin(0.5 * 2 * np.pi * omega_eff * t)**2) + off\n",
    "    return p_ee\n",
    "\n",
    "model = Model(rabiFormular)\n",
    "\n",
    "model.set_param_hint('omega', value = 15,vary = True)\n",
    "model.set_param_hint('t', value = 0.1,vary = False)\n",
    "model.set_param_hint('off', value = 40 , vary = True)\n",
    "model.set_param_hint('amp', value = 200 , vary = True)\n",
    "model.set_param_hint('center', value = 0 , vary = True)\n",
    "\n",
    "params = model.make_params()\n",
    "\n",
    "fitres = model.fit(counts_mean, delta=counts_mean[variable], weights=1/counts_sem, params=params)\n",
    "fig, ax = plt.subplots()\n",
    "fitres.plot_fit(ax=ax)\n",
    "\n",
    "fig.savefig(\"fit_ramsey.png\", dpi=600, bbox_inches=\"tight\")"
   ]
  },
  {
   "cell_type": "code",
   "execution_count": 31,
   "metadata": {},
   "outputs": [
    {
     "output_type": "execute_result",
     "data": {
      "text/plain": [
       "<lmfit.model.ModelResult at 0x16d8b187730>"
      ],
      "text/html": "<h2> Model</h2> Model(rabiFormular) <h2>Fit Statistics</h2><table><tr><td>fitting method</td><td>leastsq</td><td></td></tr><tr><td># function evals</td><td>26</td><td></td></tr><tr><td># data points</td><td>31</td><td></td></tr><tr><td># variables</td><td>4</td><td></td></tr><tr><td>chi-square</td><td> 20.6289290</td><td></td></tr><tr><td>reduced chi-square</td><td> 0.76403441</td><td></td></tr><tr><td>Akaike info crit.</td><td>-4.62607657</td><td></td></tr><tr><td>Bayesian info crit.</td><td> 1.10987225</td><td></td></tr></table><h2>Variables</h2><table><tr><th> name </th><th> value </th><th> standard error </th><th> relative error </th><th> initial value </th><th> min </th><th> max </th><th> vary </th></tr><tr><td> center </td><td> -0.51537119 </td><td>  0.08018691 </td><td> (15.56%) </td><td> 0 </td><td>        -inf </td><td>         inf </td><td> True </td></tr><tr><td> omega </td><td>  14.9596842 </td><td>  0.16521217 </td><td> (1.10%) </td><td> 15 </td><td>        -inf </td><td>         inf </td><td> True </td></tr><tr><td> t </td><td>  0.10000000 </td><td>  0.00000000 </td><td> (0.00%) </td><td> 0.1 </td><td>        -inf </td><td>         inf </td><td> False </td></tr><tr><td> off </td><td>  43.0122943 </td><td>  1.56041837 </td><td> (3.63%) </td><td> 40 </td><td>        -inf </td><td>         inf </td><td> True </td></tr><tr><td> amp </td><td>  142.693969 </td><td>  6.28505833 </td><td> (4.40%) </td><td> 200 </td><td>        -inf </td><td>         inf </td><td> True </td></tr></table><h2>Correlations (unreported correlations are < 0.100)</h2><table><tr><td>off</td><td>amp</td><td>-0.5454</td></tr><tr><td>omega</td><td>amp</td><td>0.2943</td></tr></table>"
     },
     "metadata": {},
     "execution_count": 31
    }
   ],
   "source": [
    "fitres"
   ]
  },
  {
   "cell_type": "code",
   "execution_count": 23,
   "metadata": {},
   "outputs": [
    {
     "output_type": "error",
     "ename": "NameError",
     "evalue": "name 'delta' is not defined",
     "traceback": [
      "\u001b[1;31m---------------------------------------------------------------------------\u001b[0m",
      "\u001b[1;31mNameError\u001b[0m                                 Traceback (most recent call last)",
      "\u001b[1;32m<ipython-input-23-4bd6315d6d78>\u001b[0m in \u001b[0;36m<module>\u001b[1;34m\u001b[0m\n\u001b[1;32m----> 1\u001b[1;33m \u001b[0mdelta\u001b[0m\u001b[1;33m\u001b[0m\u001b[1;33m\u001b[0m\u001b[0m\n\u001b[0m",
      "\u001b[1;31mNameError\u001b[0m: name 'delta' is not defined"
     ]
    }
   ],
   "source": [
    "delta"
   ]
  },
  {
   "cell_type": "code",
   "execution_count": 14,
   "metadata": {},
   "outputs": [
    {
     "data": {
      "application/vnd.jupyter.widget-view+json": {
       "model_id": "b38e1bf83dee400caeebaff5f28c816d",
       "version_major": 2,
       "version_minor": 0
      },
      "text/plain": [
       "Canvas(toolbar=Toolbar(toolitems=[('Home', 'Reset original view', 'home', 'home'), ('Back', 'Back to previous …"
      ]
     },
     "metadata": {},
     "output_type": "display_data"
    }
   ],
   "source": [
    "from lmfit import Model\n",
    "def rabiFormular(delta,center, omega, t,off,amp):\n",
    "    omega_eff = np.sqrt(omega**2 + (delta+center)**2)\n",
    "    p_ee = amp * (omega**2/omega_eff**2 * np.sin(0.5 * 2 * np.pi * omega_eff * t)**2) + off\n",
    "    return p_ee\n",
    "\n",
    "model = Model(rabiFormular)\n",
    "\n",
    "model.set_param_hint('omega', value = 80,vary = True)\n",
    "model.set_param_hint('t', value = 0.017,vary = False)\n",
    "model.set_param_hint('off', value = 10 , vary = True)\n",
    "model.set_param_hint('amp', value = 70 , vary = True)\n",
    "model.set_param_hint('center', value = -802.43 , vary = False)\n",
    "\n",
    "params = model.make_params()\n",
    "\n",
    "fitres = model.fit(counts_mean, delta=counts_mean[variable], weights=1/counts_sem, params=params)\n",
    "fig, ax = plt.subplots()\n",
    "fitres.plot_fit(ax=ax)\n",
    "\n",
    "fig.savefig(\"fit_ramsey.png\", dpi=600, bbox_inches=\"tight\")"
   ]
  },
  {
   "cell_type": "code",
   "execution_count": 30,
   "metadata": {},
   "outputs": [
    {
     "name": "stderr",
     "output_type": "stream",
     "text": [
      "C:\\Users\\qd\\Anaconda3\\envs\\rydanalysis\\lib\\site-packages\\tqdm\\std.py:706: FutureWarning: The Panel class is removed from pandas. Accessing it from the top-level namespace will also be removed in the next version\n",
      "  from pandas import Panel\n"
     ]
    }
   ],
   "source": [
    "tqdm.pandas()"
   ]
  },
  {
   "cell_type": "code",
   "execution_count": 39,
   "metadata": {},
   "outputs": [],
   "source": [
    "import time\n",
    "def my_mean(df):\n",
    "    time.sleep(0.01)\n",
    "    return df.mean()"
   ]
  },
  {
   "cell_type": "code",
   "execution_count": 41,
   "metadata": {},
   "outputs": [
    {
     "data": {
      "application/vnd.jupyter.widget-view+json": {
       "model_id": "dc3cccac5e7b4559a87d3de3d04d8bc8",
       "version_major": 2,
       "version_minor": 0
      },
      "text/plain": [
       "HBox(children=(HTML(value=''), FloatProgress(value=0.0, max=31.0), HTML(value='')))"
      ]
     },
     "metadata": {},
     "output_type": "display_data"
    },
    {
     "name": "stdout",
     "output_type": "stream",
     "text": [
      "\n"
     ]
    }
   ],
   "source": [
    "groupby = peak_df.groupby(\"oDDSmw\").progress_aggregate(my_mean)"
   ]
  },
  {
   "cell_type": "code",
   "execution_count": 38,
   "metadata": {},
   "outputs": [
    {
     "data": {
      "text/plain": [
       "<pandas.core.groupby.generic.DataFrameGroupBy object at 0x000001DD69197BE0>"
      ]
     },
     "execution_count": 38,
     "metadata": {},
     "output_type": "execute_result"
    }
   ],
   "source": [
    "groupby.progress_aggregate"
   ]
  },
  {
   "cell_type": "code",
   "execution_count": null,
   "metadata": {},
   "outputs": [],
   "source": []
  }
 ],
 "metadata": {
  "kernelspec": {
   "display_name": "Python 3",
   "language": "python",
   "name": "python3"
  },
  "language_info": {
   "codemirror_mode": {
    "name": "ipython",
    "version": 3
   },
   "file_extension": ".py",
   "mimetype": "text/x-python",
   "name": "python",
   "nbconvert_exporter": "python",
   "pygments_lexer": "ipython3",
   "version": "3.8.5-final"
  }
 },
 "nbformat": 4,
 "nbformat_minor": 4
}