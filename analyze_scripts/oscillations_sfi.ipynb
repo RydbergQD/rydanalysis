{
 "cells": [
  {
   "cell_type": "code",
   "execution_count": 17,
   "metadata": {},
   "outputs": [],
   "source": [
    "import xarray as xr\r\n",
    "import rydanalysis as ra\r\n",
    "import pandas as pd\r\n",
    "import matplotlib.pyplot as plt\r\n",
    "import matplotlib\r\n",
    "from pathlib import Path\r\n",
    "import numpy as np\r\n",
    "from tqdm.notebook import tqdm\r\n",
    "from scipy.stats import sem\r\n",
    "from scipy.integrate import quad\r\n",
    "from scipy.stats import gaussian_kde\r\n",
    "tqdm.pandas()\r\n",
    "import dask\r\n",
    "from lmfit import Parameter\r\n",
    "\r\n",
    "%matplotlib widget"
   ]
  },
  {
   "cell_type": "markdown",
   "metadata": {},
   "source": [
    "## Load and analyze data"
   ]
  },
  {
   "cell_type": "code",
   "execution_count": 2,
   "metadata": {},
   "outputs": [],
   "source": [
    "path = Path.cwd().parent / \"raw_data\"\n",
    "\n",
    "live_analysis_path = Path.cwd().parent / \"Analysis\" \n",
    "peaks_file = live_analysis_path / \"peaks.h5\""
   ]
  },
  {
   "cell_type": "code",
   "execution_count": 16,
   "metadata": {},
   "outputs": [
    {
     "name": "stdout",
     "output_type": "stream",
     "text": [
      "Found exisiting peak_df.\n",
      "Add new peaks to df...\n"
     ]
    },
    {
     "data": {
      "application/vnd.jupyter.widget-view+json": {
       "model_id": "df49c294f641436db7d6d8bbe272a1fa",
       "version_major": 2,
       "version_minor": 0
      },
      "text/plain": "  0%|          | 0/24 [00:00<?, ?it/s]"
     },
     "metadata": {},
     "output_type": "display_data"
    }
   ],
   "source": [
    "data, peak_df = ra.update_data(path, csv_path=\"peak_df.csv\")\r\n",
    "variable = data.ryd_data.variables.columns[0]"
   ]
  },
  {
   "cell_type": "code",
   "execution_count": 4,
   "metadata": {},
   "outputs": [],
   "source": [
    "calibration_df = pd.read_csv(r\"Z:\\Projekte - Projects\\2020_Aging\\2021_05_24\\06_calibration\\Analysis\\peak_df.csv\", index_col=[0, 1, 2])"
   ]
  },
  {
   "cell_type": "markdown",
   "metadata": {},
   "source": [
    "## Analysis"
   ]
  },
  {
   "cell_type": "markdown",
   "metadata": {},
   "source": [
    "Extract peaks and sort with respect ro calibration measurement"
   ]
  },
  {
   "cell_type": "code",
   "execution_count": 5,
   "metadata": {},
   "outputs": [],
   "source": [
    "peak_df_only_p = calibration_df.xs(2, level=\"InitON\").peak_time\r\n",
    "peak_df_only_s = calibration_df.xs(0, level=\"InitON\").peak_time\r\n",
    "\r\n",
    "magn_calculator = ra.MagnCalculator(peak_df_only_p, peak_df_only_s, rydberg_states=[\"56P\", \"55S\"])"
   ]
  },
  {
   "cell_type": "code",
   "execution_count": 6,
   "metadata": {},
   "outputs": [
    {
     "data": {
      "application/vnd.jupyter.widget-view+json": {
       "model_id": "470e8d26835c4da096fedee59f7a4017",
       "version_major": 2,
       "version_minor": 0
      },
      "text/plain": "Canvas(toolbar=Toolbar(toolitems=[('Home', 'Reset original view', 'home', 'home'), ('Back', 'Back to previous …"
     },
     "metadata": {},
     "output_type": "display_data"
    }
   ],
   "source": [
    "fig, ax = plt.subplots()\r\n",
    "\r\n",
    "magn_calculator.plot_calibration(ax=ax)\r\n",
    "fig.savefig(\"calibration.png\", bbox_inches=\"tight\", dpi=600)"
   ]
  },
  {
   "cell_type": "code",
   "execution_count": 9,
   "metadata": {},
   "outputs": [
    {
     "data": {
      "application/vnd.jupyter.widget-view+json": {
       "model_id": "acdeb75ae7554866828a7529eae4bd2d",
       "version_major": 2,
       "version_minor": 0
      },
      "text/plain": "  0%|          | 0/682 [00:00<?, ?it/s]"
     },
     "metadata": {},
     "output_type": "display_data"
    }
   ],
   "source": [
    "magn = peak_df.peak_time.groupby([variable, \"tmstp\"]).progress_apply(magn_calculator.maximum_likelyhood)\r\n",
    "magn = magn.unstack()"
   ]
  },
  {
   "cell_type": "code",
   "execution_count": 14,
   "metadata": {},
   "outputs": [],
   "source": [
    "magn_summary = pd.concat([magn.magn.groupby(variable).mean(), magn.magn.groupby(variable).sem()], axis=1)\r\n",
    "magn_summary.columns = [\"magn\", \"magn_sem\"]"
   ]
  },
  {
   "cell_type": "code",
   "execution_count": 15,
   "metadata": {},
   "outputs": [
    {
     "data": {
      "application/vnd.jupyter.widget-view+json": {
       "model_id": "aa2e6379be424364aeb94c26630d46a8",
       "version_major": 2,
       "version_minor": 0
      },
      "text/plain": "Canvas(toolbar=Toolbar(toolitems=[('Home', 'Reset original view', 'home', 'home'), ('Back', 'Back to previous …"
     },
     "metadata": {},
     "output_type": "display_data"
    },
    {
     "data": {
      "text/plain": "<AxesSubplot:xlabel='tmw'>"
     },
     "execution_count": 15,
     "metadata": {},
     "output_type": "execute_result"
    }
   ],
   "source": [
    "fig, ax = plt.subplots()\r\n",
    "\r\n",
    "magn_summary.magn.plot(ax=ax, yerr=magn_summary.magn_sem)"
   ]
  },
  {
   "cell_type": "code",
   "execution_count": 19,
   "metadata": {},
   "outputs": [
    {
     "data": {
      "application/vnd.jupyter.widget-view+json": {
       "model_id": "187da9df533140f38c6a9d988e4ac561",
       "version_major": 2,
       "version_minor": 0
      },
      "text/plain": "Canvas(toolbar=Toolbar(toolitems=[('Home', 'Reset original view', 'home', 'home'), ('Back', 'Back to previous …"
     },
     "metadata": {},
     "output_type": "display_data"
    },
    {
     "name": "stdout",
     "output_type": "stream",
     "text": [
      "chi^2 reduced 2.6409238828967094\n"
     ]
    },
    {
     "data": {
      "text/html": "<h2> Model</h2> Model(_damped_cosine) <h2>Fit Statistics</h2><table><tr><td>fitting method</td><td>leastsq</td><td></td></tr><tr><td># function evals</td><td>47</td><td></td></tr><tr><td># data points</td><td>41</td><td></td></tr><tr><td># variables</td><td>4</td><td></td></tr><tr><td>chi-square</td><td> 97.7141837</td><td></td></tr><tr><td>reduced chi-square</td><td> 2.64092388</td><td></td></tr><tr><td>Akaike info crit.</td><td> 43.6074610</td><td></td></tr><tr><td>Bayesian info crit.</td><td> 50.4617492</td><td></td></tr></table><h2>Variables</h2><table><tr><th> name </th><th> value </th><th> standard error </th><th> relative error </th><th> initial value </th><th> min </th><th> max </th><th> vary </th></tr><tr><td> freq </td><td>  4.22218338 </td><td>  0.00659699 </td><td> (0.16%) </td><td> 4.390243902439024 </td><td>  0.00000000 </td><td>         inf </td><td> True </td></tr><tr><td> amp </td><td>  0.53603256 </td><td>  0.03228154 </td><td> (6.02%) </td><td> 0.41328929122048697 </td><td>  0.00000000 </td><td>         inf </td><td> True </td></tr><tr><td> phase </td><td>  0.00000000 </td><td>  0.00000000 </td><td>  </td><td> 0 </td><td>        -inf </td><td>         inf </td><td> False </td></tr><tr><td> gamma </td><td>  0.14530848 </td><td>  0.06022611 </td><td> (41.45%) </td><td> 2.2312980702051144 </td><td>  0.00000000 </td><td>         inf </td><td> True </td></tr><tr><td> offset </td><td> -0.01521364 </td><td>  0.01279090 </td><td> (84.08%) </td><td> -0.013211971286788724 </td><td>        -inf </td><td>         inf </td><td> True </td></tr></table><h2>Correlations (unreported correlations are < 0.100)</h2><table><tr><td>amp</td><td>gamma</td><td>0.8191</td></tr><tr><td>amp</td><td>offset</td><td>0.1341</td></tr><tr><td>gamma</td><td>offset</td><td>0.1166</td></tr></table>",
      "text/plain": "<lmfit.model.ModelResult at 0x17b275b6a00>"
     },
     "execution_count": 19,
     "metadata": {},
     "output_type": "execute_result"
    }
   ],
   "source": [
    "cosine_model = ra.DampedCosineModel()\r\n",
    "cosine_params = cosine_model.guess(magn_summary.magn.values, x=magn_summary.index)\r\n",
    "cosine_params[\"amp\"].min = 0\r\n",
    "cosine_params[\"phase\"] = Parameter(\"phase\", value=0, vary=False)\r\n",
    "\r\n",
    "fitres = cosine_model.fit(\r\n",
    "    magn_summary.magn,\r\n",
    "    params=cosine_params,\r\n",
    "    x=magn_summary.index,\r\n",
    "    weights=1/magn_summary.magn_sem\r\n",
    ")\r\n",
    "\r\n",
    "fig, ax = plt.subplots()\r\n",
    "fitres.plot_fit(ax=ax, numpoints=100, show_init=False)\r\n",
    "times = np.linspace(0, 0.2, 110)\r\n",
    "plt.text(\r\n",
    "    0.15, 0.95,\r\n",
    "    'Omega: %.5g  $\\pm$ %.5g gamma: %.5g  $\\pm$ %.5g'%(fitres.params['freq'].value, fitres.params['freq'].stderr, fitres.params['gamma'].value, fitres.params['gamma'].stderr),\r\n",
    "    transform=ax.transAxes)\r\n",
    "ax.set_xlabel(variable + \" [us]\")\r\n",
    "ax.set_ylabel(\"ion count\")\r\n",
    "\r\n",
    "plt.savefig('48P_%s_Fit_Cosine.png'%variable, dpi=600) # add leading zero to the figure name\r\n",
    "\r\n",
    "print(\"chi^2 reduced\", fitres.redchi)\r\n",
    "fitres"
   ]
  },
  {
   "cell_type": "code",
   "execution_count": null,
   "metadata": {},
   "outputs": [],
   "source": []
  },
  {
   "cell_type": "markdown",
   "metadata": {},
   "source": [
    "## Analyze ground state density"
   ]
  },
  {
   "cell_type": "code",
   "execution_count": 20,
   "metadata": {},
   "outputs": [],
   "source": [
    "images = data.ryd_data.images\r\n",
    "images.load()\r\n",
    "\r\n",
    "mean_light_image = images.mean(\"shot\")\r\n",
    "\r\n",
    "polygon_mask_indices = [(-500, -80), (500, -80), (500, 90), (-500, 90)]\r\n",
    "square_mask = mean_light_image.polygon_mask.get_mask(polygon_mask_indices)\r\n",
    "atom_mask = images.elliptical_mask.get_mask(*[25, 11, 200, 200])\r\n",
    "\r\n",
    "background = images.image_05.mean(\"shot\")\r\n",
    "absorption = images.image_02\r\n",
    "light = images.image_04\r\n",
    "\r\n",
    "atom_images = absorption.where(square_mask) - background\r\n",
    "pca = light.pca(n_components=2)\r\n",
    "no_atoms_mask = np.logical_not(atom_mask)\r\n",
    "reference_images = pca.find_references(absorption, no_atoms_mask) - background\r\n",
    "\r\n",
    "imaging_pca = ra.AbsorptionImaging(atom_images, reference_images, t_exp=150e-3, binning=2)"
   ]
  },
  {
   "cell_type": "code",
   "execution_count": 21,
   "metadata": {},
   "outputs": [
    {
     "data": {
      "application/vnd.jupyter.widget-view+json": {
       "model_id": "76903b437dcf4c7592bfae807f2ce5d5",
       "version_major": 2,
       "version_minor": 0
      },
      "text/plain": "  0%|          | 0/706 [00:00<?, ?it/s]"
     },
     "metadata": {},
     "output_type": "display_data"
    }
   ],
   "source": [
    "fit_results = []\r\n",
    "for tmstp, image in tqdm(imaging_pca.density.groupby(\"shot\")):\r\n",
    "    i = ra.Image(image)\r\n",
    "    fit_results.append(i.fitgaussian)\r\n",
    "fit_results = pd.concat(fit_results, axis=1).T\r\n",
    "fit_results.index = imaging_pca.density.shot.to_index()"
   ]
  },
  {
   "cell_type": "code",
   "execution_count": 22,
   "metadata": {},
   "outputs": [
    {
     "data": {
      "application/vnd.jupyter.widget-view+json": {
       "model_id": "0a6ada8aadb9461eab9d23ab8f64a3be",
       "version_major": 2,
       "version_minor": 0
      },
      "text/plain": "Canvas(toolbar=Toolbar(toolitems=[('Home', 'Reset original view', 'home', 'home'), ('Back', 'Back to previous …"
     },
     "metadata": {},
     "output_type": "display_data"
    },
    {
     "name": "stdout",
     "output_type": "stream",
     "text": [
      "0.13641005472005635\n"
     ]
    }
   ],
   "source": [
    "fig, axes = plt.subplots(3, figsize=(6, 5), sharex=True)\r\n",
    "\r\n",
    "ax = axes[0]\r\n",
    "fit_results[[\"center_x\", \"center_y\"]].plot(ax=ax)\r\n",
    "ax.set_ylabel(\"position [$\\mu$m]\")\r\n",
    "\r\n",
    "ax = axes[1]\r\n",
    "fit_results[[\"sig_x\", \"sig_y\"]].plot(ax=ax)\r\n",
    "ax.set_ylabel(\"position [$\\mu$m]\")\r\n",
    "\r\n",
    "ax = axes[2]\r\n",
    "fit_results[\"density3d\"].plot(ax=ax)\r\n",
    "ax.set_ylim(bottom=0)\r\n",
    "ax.set_ylabel(\"density [1/cm³]\")\r\n",
    "\r\n",
    "print(fit_results[\"density3d\"].std() / fit_results[\"density3d\"].mean())"
   ]
  },
  {
   "cell_type": "markdown",
   "metadata": {},
   "source": [
    " Calculate magnetization for a single trace"
   ]
  }
 ],
 "metadata": {
  "interpreter": {
   "hash": "e83f3b93e6465afd2dfa8136355eef6fef2ecdb9f3ab83bc52a9711a904afdc9"
  },
  "kernelspec": {
   "display_name": "Python 3.9.2 64-bit ('rydanalysis': conda)",
   "name": "python3"
  },
  "language_info": {
   "codemirror_mode": {
    "name": "ipython",
    "version": 3
   },
   "file_extension": ".py",
   "mimetype": "text/x-python",
   "name": "python",
   "nbconvert_exporter": "python",
   "pygments_lexer": "ipython3",
   "version": "3.9.2"
  }
 },
 "nbformat": 4,
 "nbformat_minor": 4
}