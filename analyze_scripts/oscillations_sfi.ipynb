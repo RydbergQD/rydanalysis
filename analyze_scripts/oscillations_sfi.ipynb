{
 "cells": [
  {
   "cell_type": "code",
   "execution_count": 1,
   "metadata": {},
   "outputs": [],
   "source": [
    "import xarray as xr\r\n",
    "import rydanalysis as ra\r\n",
    "import pandas as pd\r\n",
    "import matplotlib.pyplot as plt\r\n",
    "import matplotlib\r\n",
    "from pathlib import Path\r\n",
    "import numpy as np\r\n",
    "from tqdm.notebook import tqdm\r\n",
    "from scipy.stats import sem\r\n",
    "from scipy.integrate import quad\r\n",
    "from scipy.stats import gaussian_kde\r\n",
    "tqdm.pandas()\r\n",
    "import dask\r\n",
    "from lmfit import Parameter\r\n",
    "\r\n",
    "%matplotlib widget"
   ]
  },
  {
   "cell_type": "markdown",
   "metadata": {},
   "source": [
    "## Load and analyze data"
   ]
  },
  {
   "cell_type": "code",
   "execution_count": 2,
   "metadata": {},
   "outputs": [],
   "source": [
    "path = Path.cwd().parent / \"raw_data\"\n",
    "\n",
    "live_analysis_path = Path.cwd().parent / \"Analysis\" \n",
    "peaks_file = live_analysis_path / \"peaks.h5\""
   ]
  },
  {
   "cell_type": "code",
   "execution_count": 3,
   "metadata": {},
   "outputs": [
    {
     "ename": "OSError",
     "evalue": "no files to open",
     "output_type": "error",
     "traceback": [
      "\u001b[1;31m---------------------------------------------------------------------------\u001b[0m",
      "\u001b[1;31mOSError\u001b[0m                                   Traceback (most recent call last)",
      "\u001b[1;32m<ipython-input-3-28d4627190a7>\u001b[0m in \u001b[0;36m<module>\u001b[1;34m\u001b[0m\n\u001b[1;32m----> 1\u001b[1;33m \u001b[0mdata\u001b[0m\u001b[1;33m,\u001b[0m \u001b[0mpeak_df\u001b[0m \u001b[1;33m=\u001b[0m \u001b[0mra\u001b[0m\u001b[1;33m.\u001b[0m\u001b[0mupdate_data\u001b[0m\u001b[1;33m(\u001b[0m\u001b[0mpath\u001b[0m\u001b[1;33m,\u001b[0m \u001b[0mcsv_path\u001b[0m\u001b[1;33m=\u001b[0m\u001b[1;34m\"peak_df.csv\"\u001b[0m\u001b[1;33m)\u001b[0m\u001b[1;33m\u001b[0m\u001b[1;33m\u001b[0m\u001b[0m\n\u001b[0m\u001b[0;32m      2\u001b[0m \u001b[0mvariable\u001b[0m \u001b[1;33m=\u001b[0m \u001b[0mdata\u001b[0m\u001b[1;33m.\u001b[0m\u001b[0mryd_data\u001b[0m\u001b[1;33m.\u001b[0m\u001b[0mvariables\u001b[0m\u001b[1;33m.\u001b[0m\u001b[0mcolumns\u001b[0m\u001b[1;33m[\u001b[0m\u001b[1;36m0\u001b[0m\u001b[1;33m]\u001b[0m\u001b[1;33m\u001b[0m\u001b[1;33m\u001b[0m\u001b[0m\n",
      "\u001b[1;32mc:\\users\\newanalysis\\documents\\software\\rydanalysis\\rydanalysis\\data_structure\\extract_data.py\u001b[0m in \u001b[0;36mupdate_data\u001b[1;34m(path, csv_path, height, prominence, threshold, distance, width, sign, freq1, freq2)\u001b[0m\n\u001b[0;32m    149\u001b[0m     \u001b[0mfreq1\u001b[0m\u001b[1;33m=\u001b[0m\u001b[1;36m1\u001b[0m\u001b[1;33m,\u001b[0m \u001b[0mfreq2\u001b[0m\u001b[1;33m=\u001b[0m\u001b[1;36m1\u001b[0m\u001b[1;33m/\u001b[0m\u001b[1;36m2e-3\u001b[0m\u001b[1;33m\u001b[0m\u001b[1;33m\u001b[0m\u001b[0m\n\u001b[0;32m    150\u001b[0m ):\n\u001b[1;32m--> 151\u001b[1;33m     \u001b[0mdata\u001b[0m \u001b[1;33m=\u001b[0m \u001b[0mload_data\u001b[0m\u001b[1;33m(\u001b[0m\u001b[0mpath\u001b[0m\u001b[1;33m,\u001b[0m \u001b[0mto_multiindex\u001b[0m\u001b[1;33m=\u001b[0m\u001b[1;32mFalse\u001b[0m\u001b[1;33m,\u001b[0m \u001b[0mlazy\u001b[0m\u001b[1;33m=\u001b[0m\u001b[1;32mNone\u001b[0m\u001b[1;33m)\u001b[0m\u001b[1;33m\u001b[0m\u001b[1;33m\u001b[0m\u001b[0m\n\u001b[0m\u001b[0;32m    152\u001b[0m     \u001b[1;32mtry\u001b[0m\u001b[1;33m:\u001b[0m\u001b[1;33m\u001b[0m\u001b[1;33m\u001b[0m\u001b[0m\n\u001b[0;32m    153\u001b[0m         \u001b[0mpeak_df\u001b[0m \u001b[1;33m=\u001b[0m \u001b[0mpd\u001b[0m\u001b[1;33m.\u001b[0m\u001b[0mread_csv\u001b[0m\u001b[1;33m(\u001b[0m\u001b[0mcsv_path\u001b[0m\u001b[1;33m)\u001b[0m\u001b[1;33m\u001b[0m\u001b[1;33m\u001b[0m\u001b[0m\n",
      "\u001b[1;32mc:\\users\\newanalysis\\documents\\software\\rydanalysis\\rydanalysis\\data_structure\\extract_data.py\u001b[0m in \u001b[0;36mload_data\u001b[1;34m(path, lazy, to_multiindex)\u001b[0m\n\u001b[0;32m     91\u001b[0m \u001b[1;32mdef\u001b[0m \u001b[0mload_data\u001b[0m\u001b[1;33m(\u001b[0m\u001b[0mpath\u001b[0m\u001b[1;33m,\u001b[0m \u001b[0mlazy\u001b[0m\u001b[1;33m=\u001b[0m\u001b[1;32mNone\u001b[0m\u001b[1;33m,\u001b[0m \u001b[0mto_multiindex\u001b[0m\u001b[1;33m=\u001b[0m\u001b[1;32mTrue\u001b[0m\u001b[1;33m)\u001b[0m\u001b[1;33m:\u001b[0m\u001b[1;33m\u001b[0m\u001b[1;33m\u001b[0m\u001b[0m\n\u001b[0;32m     92\u001b[0m     \u001b[1;32mwith\u001b[0m \u001b[0mdask\u001b[0m\u001b[1;33m.\u001b[0m\u001b[0mconfig\u001b[0m\u001b[1;33m.\u001b[0m\u001b[0mset\u001b[0m\u001b[1;33m(\u001b[0m\u001b[1;33m**\u001b[0m\u001b[1;33m{\u001b[0m\u001b[1;34m\"array.slicing.split_large_chunks\"\u001b[0m\u001b[1;33m:\u001b[0m \u001b[1;32mFalse\u001b[0m\u001b[1;33m}\u001b[0m\u001b[1;33m)\u001b[0m\u001b[1;33m:\u001b[0m\u001b[1;33m\u001b[0m\u001b[1;33m\u001b[0m\u001b[0m\n\u001b[1;32m---> 93\u001b[1;33m         data = xr.open_mfdataset(\n\u001b[0m\u001b[0;32m     94\u001b[0m             \u001b[0mpath\u001b[0m\u001b[1;33m.\u001b[0m\u001b[0mglob\u001b[0m\u001b[1;33m(\u001b[0m\u001b[1;34m\"*.h5\"\u001b[0m\u001b[1;33m)\u001b[0m\u001b[1;33m,\u001b[0m \u001b[0mjoin\u001b[0m\u001b[1;33m=\u001b[0m\u001b[1;34m\"left\"\u001b[0m\u001b[1;33m,\u001b[0m \u001b[0mdata_vars\u001b[0m\u001b[1;33m=\u001b[0m\u001b[1;34m\"minimal\"\u001b[0m\u001b[1;33m,\u001b[0m \u001b[0mchunks\u001b[0m\u001b[1;33m=\u001b[0m\u001b[1;33m{\u001b[0m\u001b[1;34m\"tmstp\"\u001b[0m\u001b[1;33m:\u001b[0m \u001b[1;36m1\u001b[0m\u001b[1;33m}\u001b[0m\u001b[1;33m,\u001b[0m \u001b[0mengine\u001b[0m\u001b[1;33m=\u001b[0m\u001b[1;34m\"netcdf4\"\u001b[0m\u001b[1;33m\u001b[0m\u001b[1;33m\u001b[0m\u001b[0m\n\u001b[0;32m     95\u001b[0m         )\n",
      "\u001b[1;32m~\\anaconda3\\envs\\rydanalysis\\lib\\site-packages\\xarray\\backends\\api.py\u001b[0m in \u001b[0;36mopen_mfdataset\u001b[1;34m(paths, chunks, concat_dim, compat, preprocess, engine, lock, data_vars, coords, combine, parallel, join, attrs_file, **kwargs)\u001b[0m\n\u001b[0;32m    913\u001b[0m \u001b[1;33m\u001b[0m\u001b[0m\n\u001b[0;32m    914\u001b[0m     \u001b[1;32mif\u001b[0m \u001b[1;32mnot\u001b[0m \u001b[0mpaths\u001b[0m\u001b[1;33m:\u001b[0m\u001b[1;33m\u001b[0m\u001b[1;33m\u001b[0m\u001b[0m\n\u001b[1;32m--> 915\u001b[1;33m         \u001b[1;32mraise\u001b[0m \u001b[0mOSError\u001b[0m\u001b[1;33m(\u001b[0m\u001b[1;34m\"no files to open\"\u001b[0m\u001b[1;33m)\u001b[0m\u001b[1;33m\u001b[0m\u001b[1;33m\u001b[0m\u001b[0m\n\u001b[0m\u001b[0;32m    916\u001b[0m \u001b[1;33m\u001b[0m\u001b[0m\n\u001b[0;32m    917\u001b[0m     \u001b[1;31m# If combine='by_coords' then this is unnecessary, but quick.\u001b[0m\u001b[1;33m\u001b[0m\u001b[1;33m\u001b[0m\u001b[1;33m\u001b[0m\u001b[0m\n",
      "\u001b[1;31mOSError\u001b[0m: no files to open"
     ]
    }
   ],
   "source": [
    "data, peak_df = ra.update_data(path, csv_path=\"peak_df.csv\")\r\n",
    "variable = data.ryd_data.variables.columns[0]"
   ]
  },
  {
   "cell_type": "code",
   "execution_count": null,
   "metadata": {},
   "outputs": [],
   "source": [
    "calibration_df = pd.read_csv(r\"Z:\\Projekte - Projects\\2020_Aging\\2021_06_08\\05_sfi_calibration\\Analysis\\peak_df.csv\", index_col=[0, 1, 2])"
   ]
  },
  {
   "cell_type": "markdown",
   "metadata": {},
   "source": [
    "## Analysis"
   ]
  },
  {
   "cell_type": "markdown",
   "metadata": {},
   "source": [
    "Extract peaks and sort with respect ro calibration measurement"
   ]
  },
  {
   "cell_type": "code",
   "execution_count": 5,
   "metadata": {},
   "outputs": [],
   "source": [
    "peak_df_only_p = calibration_df.xs(2, level=\"InitON\").peak_time\r\n",
    "peak_df_only_s = calibration_df.xs(0, level=\"InitON\").peak_time\r\n",
    "\r\n",
    "magn_calculator = ra.MagnCalculator(peak_df_only_p, peak_df_only_s, rydberg_states=[\"56P\", \"55S\"])"
   ]
  },
  {
   "cell_type": "code",
   "execution_count": 6,
   "metadata": {},
   "outputs": [
    {
     "data": {
      "application/vnd.jupyter.widget-view+json": {
       "model_id": "0f963bb3875b43babdfea2fc27844e47",
       "version_major": 2,
       "version_minor": 0
      },
      "text/plain": [
       "Canvas(toolbar=Toolbar(toolitems=[('Home', 'Reset original view', 'home', 'home'), ('Back', 'Back to previous …"
      ]
     },
     "metadata": {},
     "output_type": "display_data"
    }
   ],
   "source": [
    "fig, ax = plt.subplots()\r\n",
    "\r\n",
    "magn_calculator.plot_calibration(ax=ax)\r\n",
    "fig.savefig(\"calibration.png\", bbox_inches=\"tight\", dpi=600)"
   ]
  },
  {
   "cell_type": "code",
   "execution_count": 11,
   "metadata": {},
   "outputs": [
    {
     "data": {
      "application/vnd.jupyter.widget-view+json": {
       "model_id": "70515134a9894eb2ac6a8fe3287c6d1a",
       "version_major": 2,
       "version_minor": 0
      },
      "text/plain": [
       "  0%|          | 0/56 [00:00<?, ?it/s]"
      ]
     },
     "metadata": {},
     "output_type": "display_data"
    }
   ],
   "source": [
    "magn = peak_df.peak_time.groupby([variable, \"tmstp\"]).progress_apply(magn_calculator.maximum_likelyhood)\r\n",
    "# magn = magn.unstack()"
   ]
  },
  {
   "cell_type": "code",
   "execution_count": 14,
   "metadata": {},
   "outputs": [],
   "source": [
    "magn_summary = pd.concat([magn.groupby(variable).mean(), magn.groupby(variable).sem()], axis=1)\r\n",
    "magn_summary.columns = [\"magn\", \"magn_sem\"]"
   ]
  },
  {
   "cell_type": "code",
   "execution_count": 15,
   "metadata": {},
   "outputs": [
    {
     "data": {
      "application/vnd.jupyter.widget-view+json": {
       "model_id": "da517372ac1947caac4f7c151fea86a6",
       "version_major": 2,
       "version_minor": 0
      },
      "text/plain": [
       "Canvas(toolbar=Toolbar(toolitems=[('Home', 'Reset original view', 'home', 'home'), ('Back', 'Back to previous …"
      ]
     },
     "metadata": {},
     "output_type": "display_data"
    },
    {
     "data": {
      "text/plain": [
       "<AxesSubplot:xlabel='tmw'>"
      ]
     },
     "execution_count": 15,
     "metadata": {},
     "output_type": "execute_result"
    }
   ],
   "source": [
    "fig, ax = plt.subplots()\r\n",
    "\r\n",
    "magn_summary.magn.plot(ax=ax, yerr=magn_summary.magn_sem)"
   ]
  },
  {
   "cell_type": "code",
   "execution_count": 24,
   "metadata": {},
   "outputs": [
    {
     "data": {
      "application/vnd.jupyter.widget-view+json": {
       "model_id": "c4e552d2e8e24837b14aaf2fd77c0125",
       "version_major": 2,
       "version_minor": 0
      },
      "text/plain": [
       "Canvas(toolbar=Toolbar(toolitems=[('Home', 'Reset original view', 'home', 'home'), ('Back', 'Back to previous …"
      ]
     },
     "metadata": {},
     "output_type": "display_data"
    },
    {
     "name": "stdout",
     "output_type": "stream",
     "text": [
      "chi^2 reduced 0.03838607550008236\n"
     ]
    },
    {
     "data": {
      "text/html": [
       "<h2> Model</h2> Model(_damped_cosine) <h2>Fit Statistics</h2><table><tr><td>fitting method</td><td>leastsq</td><td></td></tr><tr><td># function evals</td><td>32</td><td></td></tr><tr><td># data points</td><td>41</td><td></td></tr><tr><td># variables</td><td>4</td><td></td></tr><tr><td>chi-square</td><td> 1.42028479</td><td></td></tr><tr><td>reduced chi-square</td><td> 0.03838608</td><td></td></tr><tr><td>Akaike info crit.</td><td>-129.871301</td><td></td></tr><tr><td>Bayesian info crit.</td><td>-123.017013</td><td></td></tr></table><h2>Variables</h2><table><tr><th> name </th><th> value </th><th> standard error </th><th> relative error </th><th> initial value </th><th> min </th><th> max </th><th> vary </th></tr><tr><td> freq </td><td>  45.7960405 </td><td>  0.28429822 </td><td> (0.62%) </td><td> 48.78048780487805 </td><td>  0.00000000 </td><td>         inf </td><td> True </td></tr><tr><td> amp </td><td>  0.59616649 </td><td>  0.09606645 </td><td> (16.11%) </td><td> 0.37168334833119865 </td><td>  0.00000000 </td><td>         inf </td><td> True </td></tr><tr><td> phase </td><td>  0.00000000 </td><td>  0.00000000 </td><td>  </td><td> 0 </td><td>        -inf </td><td>         inf </td><td> False </td></tr><tr><td> gamma </td><td>  6.01366282 </td><td>  2.86053897 </td><td> (47.57%) </td><td> 0.15199680652365333 </td><td>  0.00000000 </td><td>         inf </td><td> True </td></tr><tr><td> offset </td><td> -0.03185588 </td><td>  0.03070504 </td><td> (96.39%) </td><td> -0.02734510483013325 </td><td>        -inf </td><td>         inf </td><td> True </td></tr></table><h2>Correlations (unreported correlations are < 0.100)</h2><table><tr><td>amp</td><td>gamma</td><td>0.7930</td></tr></table>"
      ],
      "text/plain": [
       "<lmfit.model.ModelResult at 0x221b90b3220>"
      ]
     },
     "execution_count": 24,
     "metadata": {},
     "output_type": "execute_result"
    }
   ],
   "source": [
    "cosine_model = ra.DampedCosineModel()\r\n",
    "cosine_params = cosine_model.guess(magn_summary.magn.values, x=magn_summary.index)\r\n",
    "cosine_params[\"amp\"].min = 0\r\n",
    "cosine_params[\"phase\"] = Parameter(\"phase\", value=0, vary=False)\r\n",
    "if magn_summary.magn_sem.hasnans:\r\n",
    "    weights = None\r\n",
    "else:\r\n",
    "    weights = 1/magn_summary.magn_sem\r\n",
    "fitres = cosine_model.fit(\r\n",
    "    magn_summary.magn,\r\n",
    "    params=cosine_params,\r\n",
    "    x=magn_summary.index,\r\n",
    "    weights=weights\r\n",
    ")\r\n",
    "\r\n",
    "fig, ax = plt.subplots()\r\n",
    "fitres.plot_fit(ax=ax, numpoints=100, show_init=False)\r\n",
    "times = np.linspace(0, 0.2, 110)\r\n",
    "plt.text(\r\n",
    "    0.15, 0.95,\r\n",
    "    'Omega: %.5g  $\\pm$ %.5g gamma: %.5g  $\\pm$ %.5g'%(fitres.params['freq'].value, fitres.params['freq'].stderr, fitres.params['gamma'].value, fitres.params['gamma'].stderr),\r\n",
    "    transform=ax.transAxes)\r\n",
    "ax.set_xlabel(variable + \" [us]\")\r\n",
    "ax.set_ylabel(\"ion count\")\r\n",
    "\r\n",
    "plt.savefig('48P_%s_Fit_Cosine.png'%variable, dpi=600) # add leading zero to the figure name\r\n",
    "\r\n",
    "print(\"chi^2 reduced\", fitres.redchi)\r\n",
    "fitres"
   ]
  },
  {
   "cell_type": "code",
   "execution_count": null,
   "metadata": {},
   "outputs": [],
   "source": []
  },
  {
   "cell_type": "markdown",
   "metadata": {},
   "source": [
    "## Analyze ground state density"
   ]
  },
  {
   "cell_type": "code",
   "execution_count": 20,
   "metadata": {},
   "outputs": [],
   "source": [
    "images = data.ryd_data.images\r\n",
    "images.load()\r\n",
    "\r\n",
    "mean_light_image = images.mean(\"shot\")\r\n",
    "\r\n",
    "polygon_mask_indices = [(-500, -80), (500, -80), (500, 90), (-500, 90)]\r\n",
    "square_mask = mean_light_image.polygon_mask.get_mask(polygon_mask_indices)\r\n",
    "atom_mask = images.elliptical_mask.get_mask(*[25, 11, 200, 200])\r\n",
    "\r\n",
    "background = images.image_05.mean(\"shot\")\r\n",
    "absorption = images.image_02\r\n",
    "light = images.image_04\r\n",
    "\r\n",
    "atom_images = absorption.where(square_mask) - background\r\n",
    "pca = light.pca(n_components=2)\r\n",
    "no_atoms_mask = np.logical_not(atom_mask)\r\n",
    "reference_images = pca.find_references(absorption, no_atoms_mask) - background\r\n",
    "\r\n",
    "imaging_pca = ra.AbsorptionImaging(atom_images, reference_images, t_exp=150e-3, binning=2)"
   ]
  },
  {
   "cell_type": "code",
   "execution_count": 21,
   "metadata": {},
   "outputs": [
    {
     "data": {
      "application/vnd.jupyter.widget-view+json": {
       "model_id": "76903b437dcf4c7592bfae807f2ce5d5",
       "version_major": 2,
       "version_minor": 0
      },
      "text/plain": [
       "  0%|          | 0/706 [00:00<?, ?it/s]"
      ]
     },
     "metadata": {},
     "output_type": "display_data"
    }
   ],
   "source": [
    "fit_results = []\r\n",
    "for tmstp, image in tqdm(imaging_pca.density.groupby(\"shot\")):\r\n",
    "    i = ra.Image(image)\r\n",
    "    fit_results.append(i.fitgaussian)\r\n",
    "fit_results = pd.concat(fit_results, axis=1).T\r\n",
    "fit_results.index = imaging_pca.density.shot.to_index()"
   ]
  },
  {
   "cell_type": "code",
   "execution_count": 22,
   "metadata": {},
   "outputs": [
    {
     "data": {
      "application/vnd.jupyter.widget-view+json": {
       "model_id": "0a6ada8aadb9461eab9d23ab8f64a3be",
       "version_major": 2,
       "version_minor": 0
      },
      "text/plain": [
       "Canvas(toolbar=Toolbar(toolitems=[('Home', 'Reset original view', 'home', 'home'), ('Back', 'Back to previous …"
      ]
     },
     "metadata": {},
     "output_type": "display_data"
    },
    {
     "name": "stdout",
     "output_type": "stream",
     "text": [
      "0.13641005472005635\n"
     ]
    }
   ],
   "source": [
    "fig, axes = plt.subplots(3, figsize=(6, 5), sharex=True)\r\n",
    "\r\n",
    "ax = axes[0]\r\n",
    "fit_results[[\"center_x\", \"center_y\"]].plot(ax=ax)\r\n",
    "ax.set_ylabel(\"position [$\\mu$m]\")\r\n",
    "\r\n",
    "ax = axes[1]\r\n",
    "fit_results[[\"sig_x\", \"sig_y\"]].plot(ax=ax)\r\n",
    "ax.set_ylabel(\"position [$\\mu$m]\")\r\n",
    "\r\n",
    "ax = axes[2]\r\n",
    "fit_results[\"density3d\"].plot(ax=ax)\r\n",
    "ax.set_ylim(bottom=0)\r\n",
    "ax.set_ylabel(\"density [1/cm³]\")\r\n",
    "\r\n",
    "print(fit_results[\"density3d\"].std() / fit_results[\"density3d\"].mean())"
   ]
  },
  {
   "cell_type": "markdown",
   "metadata": {},
   "source": [
    " Calculate magnetization for a single trace"
   ]
  }
 ],
 "metadata": {
  "interpreter": {
   "hash": "e83f3b93e6465afd2dfa8136355eef6fef2ecdb9f3ab83bc52a9711a904afdc9"
  },
  "kernelspec": {
   "display_name": "Python 3.9.5 64-bit ('rydanalysis': conda)",
   "name": "python3"
  },
  "language_info": {
   "codemirror_mode": {
    "name": "ipython",
    "version": 3
   },
   "file_extension": ".py",
   "mimetype": "text/x-python",
   "name": "python",
   "nbconvert_exporter": "python",
   "pygments_lexer": "ipython3",
   "version": "3.9.5"
  }
 },
 "nbformat": 4,
 "nbformat_minor": 4
}