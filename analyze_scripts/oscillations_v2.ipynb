{
 "cells": [
  {
   "cell_type": "code",
   "execution_count": 1,
   "metadata": {},
   "outputs": [],
   "source": [
    "%load_ext autoreload\r\n",
    "%autoreload 2\r\n",
    "\r\n",
    "import xarray as xr\r\n",
    "import rydanalysis as ra\r\n",
    "import pandas as pd\r\n",
    "import matplotlib.pyplot as plt\r\n",
    "import matplotlib\r\n",
    "from pathlib import Path\r\n",
    "import numpy as np\r\n",
    "from tqdm.notebook import tqdm#\r\n",
    "from scipy.stats import sem\r\n",
    "from scipy.integrate import quad\r\n",
    "from lmfit import Parameter\r\n",
    "\r\n",
    "%matplotlib widget"
   ]
  },
  {
   "cell_type": "code",
   "execution_count": 4,
   "metadata": {},
   "outputs": [],
   "source": [
    "path = Path.cwd().parent / \"raw_data\"\n",
    "\n",
    "live_analysis_path = Path.cwd().parent / \"Analysis\" \n",
    "peaks_file = live_analysis_path / \"peaks.h5\""
   ]
  },
  {
   "cell_type": "code",
   "execution_count": 5,
   "metadata": {},
   "outputs": [
    {
     "name": "stderr",
     "output_type": "stream",
     "text": [
      "2021-05-24 22:44:31.136 INFO    numexpr.utils: Note: NumExpr detected 12 cores but \"NUMEXPR_MAX_THREADS\" not set, so enforcing safe limit of 8.\n",
      "2021-05-24 22:44:31.137 INFO    numexpr.utils: NumExpr defaulting to 8 threads.\n"
     ]
    },
    {
     "name": "stdout",
     "output_type": "stream",
     "text": [
      "Found exisiting peak_df.\n"
     ]
    }
   ],
   "source": [
    "data, peak_df = ra.update_data(path, csv_path=\"peak_df_2.csv\")"
   ]
  },
  {
   "cell_type": "markdown",
   "metadata": {},
   "source": [
    "## Analysis"
   ]
  },
  {
   "cell_type": "code",
   "execution_count": 24,
   "metadata": {},
   "outputs": [],
   "source": [
    "variable = data.ryd_data.variables.columns[0]\r\n",
    "\r\n",
    "summary = ra.summarize_peak_description(peak_df)\r\n",
    "counts = summary.counts.to_series()\r\n",
    "counts_mean = counts.groupby(variable).mean()\r\n",
    "counts_sem = counts.groupby(variable).sem(ddof=1)\r\n",
    "\r\n",
    "counts_summary = pd.concat([counts_mean, counts_sem], axis=1)\r\n",
    "counts_summary.columns = [\"counts\", \"counts_sem\"]\r\n",
    "counts_summary = counts_summary.dropna()"
   ]
  },
  {
   "cell_type": "code",
   "execution_count": 7,
   "metadata": {},
   "outputs": [
    {
     "data": {
      "application/vnd.jupyter.widget-view+json": {
       "model_id": "f277bdeca3864c66a8efb3a2b3874843",
       "version_major": 2,
       "version_minor": 0
      },
      "text/plain": "Canvas(toolbar=Toolbar(toolitems=[('Home', 'Reset original view', 'home', 'home'), ('Back', 'Back to previous …"
     },
     "metadata": {},
     "output_type": "display_data"
    }
   ],
   "source": [
    "fig, ax = plt.subplots()\r\n",
    "\r\n",
    "ax.errorbar(counts_mean.index, counts_mean, counts_sem, linestyle='-', marker='o')\r\n",
    "ax.set_xlabel(variable)\r\n",
    "ax.set_ylabel(\"ion counts\")\r\n",
    "\r\n",
    "fig.savefig(\"raw_data.png\")\r\n",
    "#ax.set_xscale('log')"
   ]
  },
  {
   "cell_type": "code",
   "execution_count": 46,
   "metadata": {},
   "outputs": [
    {
     "data": {
      "application/vnd.jupyter.widget-view+json": {
       "model_id": "4fc3991a7c164d7a8ad626096e23d4a8",
       "version_major": 2,
       "version_minor": 0
      },
      "text/plain": "Canvas(toolbar=Toolbar(toolitems=[('Home', 'Reset original view', 'home', 'home'), ('Back', 'Back to previous …"
     },
     "metadata": {},
     "output_type": "display_data"
    }
   ],
   "source": [
    "model = ra.DampedCosineModel()\r\n",
    "f, fft = model.get_fft(counts_mean.values, x=counts_mean.index)\r\n",
    "fft[0] = 0\r\n",
    "params = model.guess(counts_mean.values, x=counts_mean.index)\r\n",
    "\r\n",
    "fig, ax = plt.subplots()\r\n",
    "ax.plot(f, np.abs(fft)**2)\r\n",
    "ax.errorbar([params[\"freq\"].value], [params[\"amp\"].value**2], xerr=[params[\"gamma\"].value], linestyle='', marker='o')\r\n",
    "ax.set_xlabel(\"frequency [µs]\")\r\n",
    "ax.set_ylabel(\"power spectrum [MHz^2]\")\r\n",
    "fig.savefig(\"power_spectrum.png\", dpi=600, bbox_inches=\"tight\")"
   ]
  },
  {
   "cell_type": "code",
   "execution_count": 44,
   "metadata": {},
   "outputs": [
    {
     "data": {
      "application/vnd.jupyter.widget-view+json": {
       "model_id": "56ae2ff8b1944f3bb4e3486b316e6d27",
       "version_major": 2,
       "version_minor": 0
      },
      "text/plain": "Canvas(toolbar=Toolbar(toolitems=[('Home', 'Reset original view', 'home', 'home'), ('Back', 'Back to previous …"
     },
     "metadata": {},
     "output_type": "display_data"
    },
    {
     "name": "stdout",
     "output_type": "stream",
     "text": [
      "chi^2 reduced 4.8784924092325035\n"
     ]
    },
    {
     "data": {
      "text/html": "<h2> Model</h2> Model(_damped_cosine) <h2>Fit Statistics</h2><table><tr><td>fitting method</td><td>leastsq</td><td></td></tr><tr><td># function evals</td><td>43</td><td></td></tr><tr><td># data points</td><td>21</td><td></td></tr><tr><td># variables</td><td>4</td><td></td></tr><tr><td>chi-square</td><td> 82.9343710</td><td></td></tr><tr><td>reduced chi-square</td><td> 4.87849241</td><td></td></tr><tr><td>Akaike info crit.</td><td> 36.8440701</td><td></td></tr><tr><td>Bayesian info crit.</td><td> 41.0221598</td><td></td></tr></table><h2>Variables</h2><table><tr><th> name </th><th> value </th><th> standard error </th><th> relative error </th><th> initial value </th><th> min </th><th> max </th><th> vary </th></tr><tr><td> freq </td><td>  4.22237216 </td><td>  0.02357776 </td><td> (0.56%) </td><td> 3.8095238095238093 </td><td>  0.00000000 </td><td>         inf </td><td> True </td></tr><tr><td> amp </td><td>  22.5391010 </td><td>  2.29412162 </td><td> (10.18%) </td><td> 14.099510437237186 </td><td>  0.00000000 </td><td>         inf </td><td> True </td></tr><tr><td> phase </td><td>  180.000000 </td><td>  0.00000000 </td><td> (0.00%) </td><td> 180 </td><td>        -inf </td><td>         inf </td><td> False </td></tr><tr><td> gamma </td><td>  0.88313107 </td><td>  0.23374153 </td><td> (26.47%) </td><td> 1.2674274322282877 </td><td>  0.00000000 </td><td>         inf </td><td> True </td></tr><tr><td> offset </td><td>  21.8621040 </td><td>  0.78451177 </td><td> (3.59%) </td><td> 23.111111111111114 </td><td>        -inf </td><td>         inf </td><td> True </td></tr></table><h2>Correlations (unreported correlations are < 0.100)</h2><table><tr><td>amp</td><td>gamma</td><td>0.7895</td></tr><tr><td>freq</td><td>gamma</td><td>0.4530</td></tr><tr><td>gamma</td><td>offset</td><td>0.4236</td></tr><tr><td>freq</td><td>amp</td><td>0.2140</td></tr><tr><td>amp</td><td>offset</td><td>0.2063</td></tr><tr><td>freq</td><td>offset</td><td>-0.2007</td></tr></table>",
      "text/plain": "<lmfit.model.ModelResult at 0x18c56285700>"
     },
     "execution_count": 44,
     "metadata": {},
     "output_type": "execute_result"
    }
   ],
   "source": [
    "cosine_model = ra.DampedCosineModel()\r\n",
    "cosine_params = cosine_model.guess(counts_summary.counts.values, x=counts_summary.index)\r\n",
    "cosine_params[\"amp\"].min = 0\r\n",
    "cosine_params[\"phase\"] = Parameter(\"phase\", value=180, vary=False)\r\n",
    "\r\n",
    "fitres = cosine_model.fit(\r\n",
    "    counts_summary.counts,\r\n",
    "    params=cosine_params,\r\n",
    "    x=counts_mean.index,\r\n",
    "    weights=1/counts_summary.counts_sem\r\n",
    ")\r\n",
    "\r\n",
    "fig, ax = plt.subplots()\r\n",
    "fitres.plot_fit(ax=ax, numpoints=100, show_init=False)\r\n",
    "times = np.linspace(0, 0.2, 110)\r\n",
    "plt.text(\r\n",
    "    0.15, 0.95,\r\n",
    "    'Omega: %.5g  $\\pm$ %.5g gamma: %.5g  $\\pm$ %.5g'%(fitres.params['freq'].value, fitres.params['freq'].stderr, fitres.params['gamma'].value, fitres.params['gamma'].stderr),\r\n",
    "    transform=ax.transAxes)\r\n",
    "ax.set_xlabel(variable + \" [us]\")\r\n",
    "ax.set_ylabel(\"ion count\")\r\n",
    "\r\n",
    "plt.savefig('48P_%s_Fit_Cosine.png'%variable, dpi=600) # add leading zero to the figure name\r\n",
    "\r\n",
    "print(\"chi^2 reduced\", fitres.redchi)\r\n",
    "fitres"
   ]
  },
  {
   "cell_type": "code",
   "execution_count": 45,
   "metadata": {},
   "outputs": [
    {
     "data": {
      "text/plain": "0.05920842371327371"
     },
     "execution_count": 45,
     "metadata": {},
     "output_type": "execute_result"
    }
   ],
   "source": [
    "1/(4 * fitres.params[\"freq\"])"
   ]
  },
  {
   "cell_type": "code",
   "execution_count": null,
   "metadata": {},
   "outputs": [],
   "source": []
  }
 ],
 "metadata": {
  "interpreter": {
   "hash": "e83f3b93e6465afd2dfa8136355eef6fef2ecdb9f3ab83bc52a9711a904afdc9"
  },
  "kernelspec": {
   "display_name": "Python 3.9.2 64-bit ('rydanalysis': conda)",
   "name": "python3"
  },
  "language_info": {
   "name": "python",
   "version": ""
  }
 },
 "nbformat": 4,
 "nbformat_minor": 4
}