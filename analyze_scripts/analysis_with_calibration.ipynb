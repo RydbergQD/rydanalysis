{
 "cells": [
  {
   "cell_type": "code",
   "execution_count": 1,
   "metadata": {},
   "outputs": [],
   "source": [
    "import xarray as xr\n",
    "import rydanalysis as ra\n",
    "import pandas as pd\n",
    "import matplotlib.pyplot as plt\n",
    "import matplotlib\n",
    "from pathlib import Path\n",
    "import numpy as np\n",
    "from tqdm.notebook import tqdm\n",
    "from scipy.stats import sem\n",
    "\n",
    "%matplotlib widget"
   ]
  },
  {
   "cell_type": "code",
   "execution_count": 2,
   "metadata": {},
   "outputs": [
    {
     "data": {
      "text/plain": "WindowsPath('w:/Projekte - Projects/2020_Aging/2021_03_11/05_nWHH60_with_calibration/raw_data')"
     },
     "execution_count": 2,
     "metadata": {},
     "output_type": "execute_result"
    }
   ],
   "source": [
    "path = Path.cwd().parent / \"raw_data\"\r\n",
    "\r\n",
    "live_analysis_path = Path.cwd().parent / \"Analysis\" \r\n",
    "peaks_file = live_analysis_path / \"peaks.h5\"\r\n",
    "path"
   ]
  },
  {
   "cell_type": "code",
   "execution_count": 3,
   "metadata": {},
   "outputs": [
    {
     "name": "stderr",
     "output_type": "stream",
     "text": [
      "2021-03-11 16:52:08.712 INFO    numexpr.utils: NumExpr defaulting to 8 threads.\n"
     ]
    },
    {
     "data": {
      "text/plain": "'nWAHUHA'"
     },
     "execution_count": 3,
     "metadata": {},
     "output_type": "execute_result"
    }
   ],
   "source": [
    "data = ra.load_data(path, to_multiindex=True, lazy=None)\r\n",
    "variable = data.ryd_data.variables.columns[0]\r\n",
    "variable"
   ]
  },
  {
   "cell_type": "code",
   "execution_count": 4,
   "metadata": {},
   "outputs": [
    {
     "data": {
      "application/vnd.jupyter.widget-view+json": {
       "model_id": "74313ec7a52f48e58377beb8daf2696b",
       "version_major": 2,
       "version_minor": 0
      },
      "text/plain": "HBox(children=(HTML(value=''), FloatProgress(value=0.0, max=146.0), HTML(value='')))"
     },
     "metadata": {},
     "output_type": "display_data"
    },
    {
     "name": "stdout",
     "output_type": "stream",
     "text": [
      "\n"
     ]
    }
   ],
   "source": [
    "peak_df = data.scope_traces[3:-1].peaks_summary.get_peak_description(width=2e-9, height=0.0009, distance=None)\r\n",
    "peak_df.to_csv(\"peak_df.csv\")"
   ]
  },
  {
   "cell_type": "code",
   "execution_count": 6,
   "metadata": {},
   "outputs": [],
   "source": [
    "summary = ra.summarize_peak_description(peak_df)\r\n",
    "counts = summary.counts\r\n",
    "counts_mean = counts.groupby(variable).mean()\r\n",
    "counts_sem = counts.groupby(variable).reduce(sem)"
   ]
  },
  {
   "cell_type": "code",
   "execution_count": 13,
   "metadata": {},
   "outputs": [],
   "source": [
    "summary_n_tot = summary.sel(InitON=1, nWAHUHA=0, DPON=0, drop=True)\r\n",
    "summary_de = summary.sel(InitON=0, nWAHUHA=0, DPON=1, drop=True)\r\n",
    "summary_z = summary.sel(InitON=0, DPON=1, drop=True)"
   ]
  },
  {
   "cell_type": "code",
   "execution_count": 32,
   "metadata": {},
   "outputs": [],
   "source": [
    "def plot_counts(summary, ax):\r\n",
    "    counts = summary.counts\r\n",
    "    counts_mean = counts.groupby(variable).mean()\r\n",
    "    counts_sem = counts.groupby(variable).reduce(sem)\r\n",
    "    ax.errorbar(counts_mean[variable], counts_mean, counts_sem, linestyle='', marker='o')\r\n",
    "\r\n",
    "def plot_calib(summary, x, ax, label=\"\", color=\"tab:blue\"):\r\n",
    "    counts = summary.counts\r\n",
    "    counts_mean = float(counts.mean())\r\n",
    "    counts_sem = float(counts.reduce(sem))\r\n",
    "\r\n",
    "    ones = np.ones(len(x))\r\n",
    "    ax.plot(\r\n",
    "        x,\r\n",
    "        counts_mean*ones,\r\n",
    "        c=color,\r\n",
    "        label=label,\r\n",
    "    )\r\n",
    "    ax.fill_between(\r\n",
    "        x,\r\n",
    "        (counts_mean + counts_sem) * ones,\r\n",
    "        (counts_mean - counts_sem) * ones,\r\n",
    "        color=color,\r\n",
    "        alpha=0.5\r\n",
    "    )"
   ]
  },
  {
   "cell_type": "code",
   "execution_count": 37,
   "metadata": {},
   "outputs": [
    {
     "data": {
      "text/plain": "'nWAHUHA'"
     },
     "execution_count": 37,
     "metadata": {},
     "output_type": "execute_result"
    }
   ],
   "source": [
    "variable"
   ]
  },
  {
   "cell_type": "code",
   "execution_count": 38,
   "metadata": {},
   "outputs": [
    {
     "data": {
      "application/vnd.jupyter.widget-view+json": {
       "model_id": "eebad970534046cbab8e96159af8c7be",
       "version_major": 2,
       "version_minor": 0
      },
      "text/plain": "Canvas(toolbar=Toolbar(toolitems=[('Home', 'Reset original view', 'home', 'home'), ('Back', 'Back to previous …"
     },
     "metadata": {},
     "output_type": "display_data"
    }
   ],
   "source": [
    "x = np.unique(data[variable].values)\r\n",
    "\r\n",
    "fig, ax = plt.subplots()\r\n",
    "\r\n",
    "plot_counts(summary_z, ax)\r\n",
    "plot_calib(summary_n_tot, x, ax, \"n_tot\", \"tab:green\")\r\n",
    "plot_calib(summary_de, x, ax, \"de\", \"tab:red\")\r\n",
    "ax.legend()\r\n",
    "ax.set_xlabel(variable)\r\n",
    "ax.set_ylabel(\"counts\")\r\n",
    "\r\n",
    "fig.tight_layout()\r\n",
    "fig.savefig(\"plot_counts.png\", dpi=600)"
   ]
  },
  {
   "cell_type": "code",
   "execution_count": null,
   "metadata": {},
   "outputs": [],
   "source": [
    "plt.close(\"all\")"
   ]
  }
 ],
 "metadata": {
  "kernelspec": {
   "display_name": "Python 3",
   "language": "python",
   "name": "python3"
  },
  "language_info": {
   "codemirror_mode": {
    "name": "ipython",
    "version": 3
   },
   "file_extension": ".py",
   "mimetype": "text/x-python",
   "name": "python",
   "nbconvert_exporter": "python",
   "pygments_lexer": "ipython3",
   "version": "3.8.5"
  }
 },
 "nbformat": 4,
 "nbformat_minor": 4
}