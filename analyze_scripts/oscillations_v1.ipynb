{
 "cells": [
  {
   "cell_type": "code",
   "execution_count": 1,
   "metadata": {},
   "outputs": [],
   "source": [
    "import xarray as xr\r\n",
    "import rydanalysis as ra\r\n",
    "import pandas as pd\r\n",
    "import matplotlib.pyplot as plt\r\n",
    "import matplotlib\r\n",
    "from pathlib import Path\r\n",
    "import numpy as np\r\n",
    "from tqdm.notebook import tqdm#\r\n",
    "from scipy.stats import sem\r\n",
    "from scipy.integrate import quad\r\n",
    "\r\n",
    "%matplotlib widget"
   ]
  },
  {
   "cell_type": "code",
   "execution_count": 2,
   "metadata": {},
   "outputs": [],
   "source": [
    "path = Path.cwd().parent / \"raw_data\"\n",
    "\n",
    "live_analysis_path = Path.cwd().parent / \"Analysis\" \n",
    "peaks_file = live_analysis_path / \"peaks.h5\""
   ]
  },
  {
   "cell_type": "code",
   "execution_count": 3,
   "metadata": {},
   "outputs": [
    {
     "name": "stdout",
     "output_type": "stream",
     "text": [
      "Found exisiting peak_df.\n"
     ]
    },
    {
     "name": "stderr",
     "output_type": "stream",
     "text": [
      "2021-04-27 11:39:23.538 INFO    numexpr.utils: Note: NumExpr detected 16 cores but \"NUMEXPR_MAX_THREADS\" not set, so enforcing safe limit of 8.\n",
      "2021-04-27 11:39:23.538 INFO    numexpr.utils: NumExpr defaulting to 8 threads.\n"
     ]
    }
   ],
   "source": [
    "data, peak_df = ra.update_data(path, csv_path=\"peak_df_2.csv\")"
   ]
  },
  {
   "cell_type": "markdown",
   "metadata": {},
   "source": [
    "## Analysis"
   ]
  },
  {
   "cell_type": "code",
   "execution_count": 4,
   "metadata": {},
   "outputs": [],
   "source": [
    "variable = data.ryd_data.variables.columns[0]\r\n",
    "\r\n",
    "summary = ra.summarize_peak_description(peak_df)\r\n",
    "counts = summary.counts.to_series()\r\n",
    "counts_mean = counts.groupby(variable).mean()\r\n",
    "counts_sem = counts.groupby(variable).sem(ddof=1)"
   ]
  },
  {
   "cell_type": "code",
   "execution_count": 5,
   "metadata": {},
   "outputs": [
    {
     "data": {
      "application/vnd.jupyter.widget-view+json": {
       "model_id": "a47bc87f1d5140f4b79e54dcc8161ada",
       "version_major": 2,
       "version_minor": 0
      },
      "text/plain": "Canvas(toolbar=Toolbar(toolitems=[('Home', 'Reset original view', 'home', 'home'), ('Back', 'Back to previous …"
     },
     "metadata": {},
     "output_type": "display_data"
    }
   ],
   "source": [
    "fig, ax = plt.subplots()\r\n",
    "\r\n",
    "ax.errorbar(counts_mean.index, counts_mean, counts_sem, linestyle='-', marker='o')\r\n",
    "ax.set_xlabel(variable)\r\n",
    "ax.set_ylabel(\"ion counts\")\r\n",
    "\r\n",
    "fig.savefig(\"raw_data.png\")\r\n",
    "#ax.set_xscale('log')"
   ]
  },
  {
   "cell_type": "code",
   "execution_count": 11,
   "metadata": {},
   "outputs": [
    {
     "data": {
      "application/vnd.jupyter.widget-view+json": {
       "model_id": "767a28644ed94e178741567b4acecaeb",
       "version_major": 2,
       "version_minor": 0
      },
      "text/plain": "Canvas(toolbar=Toolbar(toolitems=[('Home', 'Reset original view', 'home', 'home'), ('Back', 'Back to previous …"
     },
     "metadata": {},
     "output_type": "display_data"
    },
    {
     "name": "stdout",
     "output_type": "stream",
     "text": [
      "chi^2 reduced 56.24761835898154\n"
     ]
    },
    {
     "data": {
      "text/html": "<h2> Model</h2> Model(damped_cosine) <h2>Fit Statistics</h2><table><tr><td>fitting method</td><td>leastsq</td><td></td></tr><tr><td># function evals</td><td>19</td><td></td></tr><tr><td># data points</td><td>41</td><td></td></tr><tr><td># variables</td><td>2</td><td></td></tr><tr><td>chi-square</td><td> 2193.65712</td><td></td></tr><tr><td>reduced chi-square</td><td> 56.2476184</td><td></td></tr><tr><td>Akaike info crit.</td><td> 167.169884</td><td></td></tr><tr><td>Bayesian info crit.</td><td> 170.597029</td><td></td></tr></table><h2>Variables</h2><table><tr><th> name </th><th> value </th><th> standard error </th><th> relative error </th><th> initial value </th><th> min </th><th> max </th><th> vary </th></tr><tr><td> freq </td><td>  4.22778974 </td><td>  0.00946746 </td><td> (0.22%) </td><td> 4.1 </td><td>  0.00000000 </td><td>  50.0000000 </td><td> 1 </td></tr><tr><td> amp </td><td>  118.670824 </td><td>  0.00000000 </td><td> (0.00%) </td><td> 118.6708242100638 </td><td>  0.00000000 </td><td>         inf </td><td> 0 </td></tr><tr><td> phase </td><td>  180.000000 </td><td>  0.00000000 </td><td> (0.00%) </td><td> 180 </td><td>        -inf </td><td>         inf </td><td> 0 </td></tr><tr><td> offset </td><td>  66.4187454 </td><td>  0.00000000 </td><td> (0.00%) </td><td> 66.41874543836524 </td><td>  0.00000000 </td><td>         inf </td><td> 0 </td></tr><tr><td> decay </td><td>  0.29751533 </td><td>  0.06070778 </td><td> (20.40%) </td><td> 0.15 </td><td>  0.00000000 </td><td>  1.00000000 </td><td> 1 </td></tr></table>",
      "text/plain": "<lmfit.model.ModelResult at 0x15d918c2fa0>"
     },
     "execution_count": 11,
     "metadata": {},
     "output_type": "execute_result"
    }
   ],
   "source": [
    "ampl=float((counts_mean.mean()-counts_mean[0])*2)\r\n",
    "off=float(counts_mean.mean())\r\n",
    "#print(counts_sem+0.001)\r\n",
    "#counts_sem += +0.0001\r\n",
    "cosine_model = ra.DampedCosineModel()\r\n",
    "cosine_params = cosine_model.make_params()\r\n",
    "cosine_params.add(\"phase\", value=180, vary=0)\r\n",
    "cosine_params.add(\"freq\", value=4.1, vary=1, max=50, min=0.)\r\n",
    "cosine_params.add(\"decay\", value=0.15, vary=1, max=1, min=0.)\r\n",
    "cosine_params.add(\"amp\", value=ampl, vary=0, min=0)\r\n",
    "cosine_params.add(\"offset\", value=off, vary=0, min=0)\r\n",
    "fitres = cosine_model.fit(\r\n",
    "    counts_mean.where(counts_mean.index<5).dropna(),\r\n",
    "    params=cosine_params,\r\n",
    "    x=counts_mean.index.where(counts_mean.index<5).dropna()\r\n",
    ")#, scale_covar=0, weights=1/counts_sem)\r\n",
    "fitres.plot_residuals()\r\n",
    "#print(\"Amplitude:\", (counts_mean.mean()-counts_mean[0])*2)\r\n",
    "#print(\"Offset:\", counts_mean.mean())\r\n",
    "\r\n",
    "\r\n",
    "fig, ax = plt.subplots()\r\n",
    "ax.errorbar(counts_mean.index, counts_mean, counts_sem, linestyle='-', marker='o', label=\"counts\")\r\n",
    "x_values = np.linspace(counts_mean.index.min(), counts_mean.index.max(), 201)\r\n",
    "ax.plot(x_values, fitres.eval(x=x_values))\r\n",
    "times = np.linspace(0, 0.2, 110)\r\n",
    "plt.text(0.15, 0.95,'Omega: %.5g  $\\pm$ %.5g gamma: %.5g  $\\pm$ %.5g'%(fitres.params['freq'].value, fitres.params['freq'].stderr, fitres.params['decay'].value, fitres.params['decay'].stderr), transform=ax.transAxes)\r\n",
    "ax.set_xlabel(variable+\"[us]\")\r\n",
    "ax.set_ylabel(\"ion count\")\r\n",
    "\r\n",
    "plt.savefig('48P_%s_Fit_Cosine.png'%variable, dpi=600) # add leading zero to the figure name\r\n",
    "\r\n",
    "print(\"chi^2 reduced\", fitres.redchi)\r\n",
    "fitres"
   ]
  },
  {
   "cell_type": "code",
   "execution_count": 7,
   "metadata": {},
   "outputs": [
    {
     "data": {
      "text/plain": "0.05909791258860264"
     },
     "execution_count": 7,
     "metadata": {},
     "output_type": "execute_result"
    }
   ],
   "source": [
    "1/(4 * fitres.params[\"freq\"])"
   ]
  },
  {
   "cell_type": "code",
   "execution_count": 8,
   "metadata": {},
   "outputs": [
    {
     "data": {
      "text/plain": "-0.8651339281669812"
     },
     "execution_count": 8,
     "metadata": {},
     "output_type": "execute_result"
    }
   ],
   "source": [
    "1.25 - fitres.params[\"freq\"]/2"
   ]
  },
  {
   "cell_type": "code",
   "execution_count": 9,
   "metadata": {},
   "outputs": [
    {
     "data": {
      "text/plain": "<AxesSubplot:title={'center':'Model(damped_cosine)'}, xlabel='tmw[us]', ylabel='residuals'>"
     },
     "execution_count": 9,
     "metadata": {},
     "output_type": "execute_result"
    }
   ],
   "source": [
    "fitres.params[\"freq\"]\r\n",
    "fitres.plot_residuals()\r\n"
   ]
  },
  {
   "cell_type": "code",
   "execution_count": null,
   "metadata": {},
   "outputs": [],
   "source": []
  }
 ],
 "metadata": {
  "kernelspec": {
   "display_name": "Python 3",
   "language": "python",
   "name": "python3"
  },
  "language_info": {
   "codemirror_mode": {
    "name": "ipython",
    "version": 3
   },
   "file_extension": ".py",
   "mimetype": "text/x-python",
   "name": "python",
   "nbconvert_exporter": "python",
   "pygments_lexer": "ipython3",
   "version": "3.8.5"
  }
 },
 "nbformat": 4,
 "nbformat_minor": 4
}