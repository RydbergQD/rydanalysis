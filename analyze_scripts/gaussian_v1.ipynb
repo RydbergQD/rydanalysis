{
 "cells": [
  {
   "cell_type": "code",
   "execution_count": 1,
   "metadata": {},
   "outputs": [],
   "source": [
    "import xarray as xr\r\n",
    "import rydanalysis as ra\r\n",
    "import pandas as pd\r\n",
    "import matplotlib.pyplot as plt\r\n",
    "import matplotlib\r\n",
    "from pathlib import Path\r\n",
    "import numpy as np\r\n",
    "from tqdm.notebook import tqdm#\r\n",
    "from scipy.stats import sem\r\n",
    "from scipy.integrate import quad\r\n",
    "\r\n",
    "%matplotlib widget"
   ]
  },
  {
   "cell_type": "code",
   "execution_count": 2,
   "metadata": {},
   "outputs": [],
   "source": [
    "path = Path.cwd().parent / \"raw_data\"\n",
    "\n",
    "live_analysis_path = Path.cwd().parent / \"Analysis\" \n",
    "peaks_file = live_analysis_path / \"peaks.h5\""
   ]
  },
  {
   "cell_type": "code",
   "execution_count": 3,
   "metadata": {},
   "outputs": [
    {
     "name": "stderr",
     "output_type": "stream",
     "text": [
      "2021-05-18 11:32:05.615 INFO    numexpr.utils: Note: NumExpr detected 12 cores but \"NUMEXPR_MAX_THREADS\" not set, so enforcing safe limit of 8.\n",
      "2021-05-18 11:32:05.616 INFO    numexpr.utils: NumExpr defaulting to 8 threads.\n"
     ]
    },
    {
     "data": {
      "application/vnd.jupyter.widget-view+json": {
       "model_id": "564fb1b4714f402bbe34ea737b9bdb8a",
       "version_major": 2,
       "version_minor": 0
      },
      "text/plain": "  0%|          | 0/23 [00:00<?, ?it/s]"
     },
     "metadata": {},
     "output_type": "display_data"
    }
   ],
   "source": [
    "data, peak_df = ra.update_data(path, csv_path=\"peak_df_2.csv\")"
   ]
  },
  {
   "cell_type": "markdown",
   "metadata": {},
   "source": [
    "## Analysis"
   ]
  },
  {
   "cell_type": "code",
   "execution_count": 4,
   "metadata": {},
   "outputs": [],
   "source": [
    "variable = data.ryd_data.variables.columns[0]\r\n",
    "\r\n",
    "summary = ra.summarize_peak_description(peak_df)\r\n",
    "counts = summary.counts.to_series()\r\n",
    "counts_mean = counts.groupby(variable).mean()\r\n",
    "counts_sem = counts.groupby(variable).sem(ddof=1)"
   ]
  },
  {
   "cell_type": "code",
   "execution_count": 5,
   "metadata": {},
   "outputs": [
    {
     "data": {
      "application/vnd.jupyter.widget-view+json": {
       "model_id": "3dd7a741e08e46e6be9d518387cbe752",
       "version_major": 2,
       "version_minor": 0
      },
      "text/plain": "Canvas(toolbar=Toolbar(toolitems=[('Home', 'Reset original view', 'home', 'home'), ('Back', 'Back to previous …"
     },
     "metadata": {},
     "output_type": "display_data"
    }
   ],
   "source": [
    "fig, ax = plt.subplots()\r\n",
    "\r\n",
    "ax.errorbar(counts_mean.index, counts_mean, counts_sem, linestyle='-', marker='o')\r\n",
    "ax.set_xlabel(variable)\r\n",
    "ax.set_ylabel(\"ion counts\")\r\n",
    "\r\n",
    "fig.savefig(\"raw_data.png\")\r\n",
    "#ax.set_xscale('log')"
   ]
  },
  {
   "cell_type": "code",
   "execution_count": 8,
   "metadata": {},
   "outputs": [
    {
     "data": {
      "application/vnd.jupyter.widget-view+json": {
       "model_id": "8abcbe7b21834095956f2185164c4726",
       "version_major": 2,
       "version_minor": 0
      },
      "text/plain": "Canvas(toolbar=Toolbar(toolitems=[('Home', 'Reset original view', 'home', 'home'), ('Back', 'Back to previous …"
     },
     "metadata": {},
     "output_type": "display_data"
    }
   ],
   "source": [
    "from lmfit.models import GaussianModel, ConstantModel\r\n",
    "\r\n",
    "gaussian_model = GaussianModel()\r\n",
    "gaussian_params = gaussian_model.guess(counts_mean.values, x=counts_mean.index)\r\n",
    "gaussian_model = gaussian_model + ConstantModel()\r\n",
    "gaussian_params.add(\"c\", value=10)\r\n",
    "fitres = gaussian_model.fit(counts_mean, params=gaussian_params, x=counts_mean.index)#, weights=1/counts_sem)\r\n",
    "\r\n",
    "fig, ax = plt.subplots()\r\n",
    "ax.errorbar(counts_mean.index, counts_mean, counts_sem, linestyle='', marker='o', label=\"counts\")\r\n",
    "x_values = np.linspace(counts_mean.index.min(), counts_mean.index.max(), 101)\r\n",
    "ax.plot(x_values, fitres.eval(x=x_values))\r\n",
    "times = np.linspace(0, 0.2, 110)\r\n",
    "plt.text(0.15, 0.9,'center: %.5g  $\\pm$ %.5g std: %.5g  $\\pm$ %.5g'%(fitres.params['center'].value, fitres.params['center'].stderr, fitres.params['sigma'].value, fitres.params['sigma'].stderr), transform=ax.transAxes)\r\n",
    "ax.set_xlabel(variable)\r\n",
    "ax.set_ylabel(\"ion count\")\r\n",
    "\r\n",
    "plt.savefig('48P_%s_Fit_Cosine.png'%variable, dpi=600) # add leading zero to the figure name"
   ]
  },
  {
   "cell_type": "code",
   "execution_count": 7,
   "metadata": {},
   "outputs": [
    {
     "data": {
      "text/plain": "0.05909791258860264"
     },
     "execution_count": 7,
     "metadata": {},
     "output_type": "execute_result"
    }
   ],
   "source": [
    "1/(4 * fitres.params[\"freq\"])"
   ]
  },
  {
   "cell_type": "code",
   "execution_count": 8,
   "metadata": {},
   "outputs": [
    {
     "data": {
      "text/plain": "-0.8651339281669812"
     },
     "execution_count": 8,
     "metadata": {},
     "output_type": "execute_result"
    }
   ],
   "source": [
    "1.25 - fitres.params[\"freq\"]/2"
   ]
  },
  {
   "cell_type": "code",
   "execution_count": 9,
   "metadata": {},
   "outputs": [
    {
     "data": {
      "text/plain": "<AxesSubplot:title={'center':'Model(damped_cosine)'}, xlabel='tmw[us]', ylabel='residuals'>"
     },
     "execution_count": 9,
     "metadata": {},
     "output_type": "execute_result"
    }
   ],
   "source": [
    "fitres.params[\"freq\"]\r\n",
    "fitres.plot_residuals()\r\n"
   ]
  },
  {
   "cell_type": "code",
   "execution_count": null,
   "metadata": {},
   "outputs": [],
   "source": []
  }
 ],
 "metadata": {
  "kernelspec": {
   "display_name": "Python 3.9.2 64-bit ('rydanalysis': conda)",
   "name": "python392jvsc74a57bd0e83f3b93e6465afd2dfa8136355eef6fef2ecdb9f3ab83bc52a9711a904afdc9"
  },
  "language_info": {
   "codemirror_mode": {
    "name": "ipython",
    "version": 3
   },
   "file_extension": ".py",
   "mimetype": "text/x-python",
   "name": "python",
   "nbconvert_exporter": "python",
   "pygments_lexer": "ipython3",
   "version": "3.9.2"
  }
 },
 "nbformat": 4,
 "nbformat_minor": 4
}