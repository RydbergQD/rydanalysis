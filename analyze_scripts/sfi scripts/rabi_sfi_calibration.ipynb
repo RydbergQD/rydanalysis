{
 "cells": [
  {
   "cell_type": "code",
   "execution_count": 1,
   "metadata": {},
   "outputs": [],
   "source": [
    "%load_ext autoreload\r\n",
    "%autoreload 2\r\n",
    "\r\n",
    "import xarray as xr\r\n",
    "import rydanalysis as ra\r\n",
    "import pandas as pd\r\n",
    "import matplotlib.pyplot as plt\r\n",
    "import matplotlib\r\n",
    "from pathlib import Path\r\n",
    "import numpy as np\r\n",
    "from tqdm.notebook import tqdm\r\n",
    "from scipy.stats import sem\r\n",
    "from scipy.integrate import quad\r\n",
    "\r\n",
    "tqdm.pandas()\r\n",
    "\r\n",
    "%matplotlib widget"
   ]
  },
  {
   "cell_type": "code",
   "execution_count": 2,
   "metadata": {},
   "outputs": [],
   "source": [
    "path = Path.cwd().parent / \"raw_data\"\r\n",
    "\r\n",
    "live_analysis_path = Path.cwd().parent / \"Analysis\" \r\n",
    "peaks_file = live_analysis_path / \"peaks.h5\""
   ]
  },
  {
   "cell_type": "code",
   "execution_count": 24,
   "metadata": {},
   "outputs": [
    {
     "name": "stdout",
     "output_type": "stream",
     "text": [
      "Found exisiting peak_df.\n",
      "Add new peaks to df...\n"
     ]
    },
    {
     "data": {
      "application/vnd.jupyter.widget-view+json": {
       "model_id": "4a11b8f19e8d4bf98c8e394fca547022",
       "version_major": 2,
       "version_minor": 0
      },
      "text/plain": "  0%|          | 0/76 [00:00<?, ?it/s]"
     },
     "metadata": {},
     "output_type": "display_data"
    }
   ],
   "source": [
    "data, peak_df = ra.update_data(path, )"
   ]
  },
  {
   "cell_type": "code",
   "execution_count": 25,
   "metadata": {},
   "outputs": [],
   "source": [
    "variable_name = data.ryd_data.variables.columns[0]\r\n",
    "variables = pd.Series(np.unique(data.ryd_data.variables), name=variable_name)"
   ]
  },
  {
   "cell_type": "code",
   "execution_count": 26,
   "metadata": {},
   "outputs": [
    {
     "data": {
      "application/vnd.jupyter.widget-view+json": {
       "model_id": "9396828f1f29481aad1e6c0e6a7a5021",
       "version_major": 2,
       "version_minor": 0
      },
      "text/plain": "Canvas(toolbar=Toolbar(toolitems=[('Home', 'Reset original view', 'home', 'home'), ('Back', 'Back to previous …"
     },
     "metadata": {},
     "output_type": "display_data"
    }
   ],
   "source": [
    "calibration_path = Path(r\"Z:\\Projekte - Projects\\2020_Aging\\2021_05_05\\06_calibration\\Analysis\\peak_df.csv\")\r\n",
    "peak_calibration = pd.read_csv(calibration_path, index_col=(0, 1, 2))\r\n",
    "peak_56 = peak_calibration.xs(0, level=\"InitON\").peak_time\r\n",
    "peak_56P = peak_calibration.xs(2, level=\"InitON\").peak_time\r\n",
    "\r\n",
    "\r\n",
    "\r\n",
    "magn_calculator = ra.MagnCalculator(peak_56, peak_56P)\r\n",
    "\r\n",
    "fig, ax = plt.subplots()\r\n",
    "magn_calculator.plot_calibration(ax=ax)\r\n",
    "fig.savefig(\"calibration.png\", bbox_inches=\"tight\", dpi=600)"
   ]
  },
  {
   "cell_type": "code",
   "execution_count": 27,
   "metadata": {},
   "outputs": [
    {
     "data": {
      "application/vnd.jupyter.widget-view+json": {
       "model_id": "15ddc03a1590491fa19579042cad9da0",
       "version_major": 2,
       "version_minor": 0
      },
      "text/plain": "Canvas(toolbar=Toolbar(toolitems=[('Home', 'Reset original view', 'home', 'home'), ('Back', 'Back to previous …"
     },
     "metadata": {},
     "output_type": "display_data"
    },
    {
     "name": "stdout",
     "output_type": "stream",
     "text": [
      "magnetization = 0.1518514658747141\n"
     ]
    },
    {
     "data": {
      "text/plain": "<AxesSubplot:xlabel='arrival time [$\\\\mu$s]', ylabel='peak density [1/$\\\\mu$s]'>"
     },
     "execution_count": 27,
     "metadata": {},
     "output_type": "execute_result"
    }
   ],
   "source": [
    "variable = variables.iloc[0]\r\n",
    "\r\n",
    "magn_calculator.plot_result(peak_df.xs(variable, level=variable_name).peak_time)"
   ]
  },
  {
   "cell_type": "code",
   "execution_count": 28,
   "metadata": {},
   "outputs": [
    {
     "data": {
      "application/vnd.jupyter.widget-view+json": {
       "model_id": "391616d73e274e5c8dc936bb290edace",
       "version_major": 2,
       "version_minor": 0
      },
      "text/plain": "  0%|          | 0/38 [00:00<?, ?it/s]"
     },
     "metadata": {},
     "output_type": "display_data"
    }
   ],
   "source": [
    "magn = magn_calculator.get_z_magn_df(peak_df)"
   ]
  },
  {
   "cell_type": "code",
   "execution_count": 29,
   "metadata": {},
   "outputs": [
    {
     "data": {
      "application/vnd.jupyter.widget-view+json": {
       "model_id": "5ffe98bf3ad145cdb39cbfc7a94b97a8",
       "version_major": 2,
       "version_minor": 0
      },
      "text/plain": "Canvas(toolbar=Toolbar(toolitems=[('Home', 'Reset original view', 'home', 'home'), ('Back', 'Back to previous …"
     },
     "metadata": {},
     "output_type": "display_data"
    }
   ],
   "source": [
    "fig, ax = plt.subplots()\r\n",
    "\r\n",
    "ax.errorbar(magn.index, magn.magn, magn.magn_stderr)\r\n",
    "ax.set_xlabel(f\"{variable_name} [{ra.unit_dict.get(variable_name)}]\")\r\n",
    "ax.set_ylabel(\"magnetization\")\r\n",
    "fig.savefig(\"exp_data.png\", dpi=600, bbox_inches=\"tight\")"
   ]
  },
  {
   "cell_type": "code",
   "execution_count": null,
   "metadata": {},
   "outputs": [],
   "source": []
  }
 ],
 "metadata": {
  "kernelspec": {
   "display_name": "Python 3.9.2 64-bit ('rydanalysis': conda)",
   "name": "python392jvsc74a57bd0e83f3b93e6465afd2dfa8136355eef6fef2ecdb9f3ab83bc52a9711a904afdc9"
  },
  "language_info": {
   "codemirror_mode": {
    "name": "ipython",
    "version": 3
   },
   "file_extension": ".py",
   "mimetype": "text/x-python",
   "name": "python",
   "nbconvert_exporter": "python",
   "pygments_lexer": "ipython3",
   "version": "3.9.2"
  },
  "orig_nbformat": 2
 },
 "nbformat": 4,
 "nbformat_minor": 2
}