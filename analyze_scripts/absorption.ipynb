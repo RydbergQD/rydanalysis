{
 "cells": [
  {
   "cell_type": "code",
   "execution_count": 1,
   "metadata": {},
   "outputs": [],
   "source": [
    "import rydanalysis\n",
    "import rydanalysis as ra\n",
    "\n",
    "import matplotlib.pyplot as plt\n",
    "import numpy as np\n",
    "import pandas as pd\n",
    "import xarray as xr\n",
    "from scipy.signal import find_peaks\n",
    "from scipy.stats import sem\n",
    "from tqdm.notebook import tqdm\n",
    "import arc\n",
    "from pathlib import Path\n",
    "\n",
    "\n",
    "%matplotlib widget"
   ]
  },
  {
   "source": [
    "# Load data"
   ],
   "cell_type": "markdown",
   "metadata": {}
  },
  {
   "cell_type": "code",
   "execution_count": 2,
   "metadata": {},
   "outputs": [
    {
     "output_type": "execute_result",
     "data": {
      "text/plain": [
       "WindowsPath('//147.142.18.81/qd-local/qd/rydberg/Projekte - Projects/2020_Aging/2021_01_27/01_SpectrumdDDSred')"
      ]
     },
     "metadata": {},
     "execution_count": 2
    }
   ],
   "source": [
    "path = Path.cwd().parent\n",
    "path"
   ]
  },
  {
   "cell_type": "code",
   "execution_count": 114,
   "metadata": {},
   "outputs": [
    {
     "output_type": "execute_result",
     "data": {
      "text/plain": [
       "<xarray.Dataset>\n",
       "Dimensions:   (shot: 420, x: 256, y: 50)\n",
       "Coordinates:\n",
       "  * x         (x) float64 -547.9 -543.6 -539.3 -535.0 ... 539.3 543.6 547.9\n",
       "  * y         (y) float64 -104.9 -100.6 -96.3 -92.02 ... 92.02 96.3 100.6 104.9\n",
       "  * shot      (shot) MultiIndex\n",
       "  - tmstp     (shot) datetime64[ns] 2021-01-27T11:43:06 ... 2021-01-27T12:04:55\n",
       "  - dDDSred   (shot) float64 3.0 -9.0 -7.0 6.0 2.0 ... 3.0 3.0 -4.0 -7.0 6.0\n",
       "Data variables:\n",
       "    image_00  (shot, x, y) float32 206.0 215.0 208.0 214.0 ... 217.0 213.0 213.0\n",
       "    image_01  (shot, x, y) float32 217.0 218.0 220.0 229.0 ... 376.0 452.0 381.0\n",
       "    image_02  (shot, x, y) float32 208.0 216.0 217.0 213.0 ... 231.0 227.0 225.0\n",
       "    image_03  (shot, x, y) float32 229.0 216.0 221.0 225.0 ... 377.0 448.0 369.0\n",
       "    image_04  (shot, x, y) float32 210.0 196.0 198.0 201.0 ... 203.0 200.0 208.0\n",
       "    image_05  (shot, x, y) float32 205.0 204.0 200.0 202.0 ... 205.0 206.0 201.0"
      ],
      "text/html": "<div><svg style=\"position: absolute; width: 0; height: 0; overflow: hidden\">\n<defs>\n<symbol id=\"icon-database\" viewBox=\"0 0 32 32\">\n<path d=\"M16 0c-8.837 0-16 2.239-16 5v4c0 2.761 7.163 5 16 5s16-2.239 16-5v-4c0-2.761-7.163-5-16-5z\"></path>\n<path d=\"M16 17c-8.837 0-16-2.239-16-5v6c0 2.761 7.163 5 16 5s16-2.239 16-5v-6c0 2.761-7.163 5-16 5z\"></path>\n<path d=\"M16 26c-8.837 0-16-2.239-16-5v6c0 2.761 7.163 5 16 5s16-2.239 16-5v-6c0 2.761-7.163 5-16 5z\"></path>\n</symbol>\n<symbol id=\"icon-file-text2\" viewBox=\"0 0 32 32\">\n<path d=\"M28.681 7.159c-0.694-0.947-1.662-2.053-2.724-3.116s-2.169-2.030-3.116-2.724c-1.612-1.182-2.393-1.319-2.841-1.319h-15.5c-1.378 0-2.5 1.121-2.5 2.5v27c0 1.378 1.122 2.5 2.5 2.5h23c1.378 0 2.5-1.122 2.5-2.5v-19.5c0-0.448-0.137-1.23-1.319-2.841zM24.543 5.457c0.959 0.959 1.712 1.825 2.268 2.543h-4.811v-4.811c0.718 0.556 1.584 1.309 2.543 2.268zM28 29.5c0 0.271-0.229 0.5-0.5 0.5h-23c-0.271 0-0.5-0.229-0.5-0.5v-27c0-0.271 0.229-0.5 0.5-0.5 0 0 15.499-0 15.5 0v7c0 0.552 0.448 1 1 1h7v19.5z\"></path>\n<path d=\"M23 26h-14c-0.552 0-1-0.448-1-1s0.448-1 1-1h14c0.552 0 1 0.448 1 1s-0.448 1-1 1z\"></path>\n<path d=\"M23 22h-14c-0.552 0-1-0.448-1-1s0.448-1 1-1h14c0.552 0 1 0.448 1 1s-0.448 1-1 1z\"></path>\n<path d=\"M23 18h-14c-0.552 0-1-0.448-1-1s0.448-1 1-1h14c0.552 0 1 0.448 1 1s-0.448 1-1 1z\"></path>\n</symbol>\n</defs>\n</svg>\n<style>/* CSS stylesheet for displaying xarray objects in jupyterlab.\n *\n */\n\n:root {\n  --xr-font-color0: var(--jp-content-font-color0, rgba(0, 0, 0, 1));\n  --xr-font-color2: var(--jp-content-font-color2, rgba(0, 0, 0, 0.54));\n  --xr-font-color3: var(--jp-content-font-color3, rgba(0, 0, 0, 0.38));\n  --xr-border-color: var(--jp-border-color2, #e0e0e0);\n  --xr-disabled-color: var(--jp-layout-color3, #bdbdbd);\n  --xr-background-color: var(--jp-layout-color0, white);\n  --xr-background-color-row-even: var(--jp-layout-color1, white);\n  --xr-background-color-row-odd: var(--jp-layout-color2, #eeeeee);\n}\n\nhtml[theme=dark],\nbody.vscode-dark {\n  --xr-font-color0: rgba(255, 255, 255, 1);\n  --xr-font-color2: rgba(255, 255, 255, 0.54);\n  --xr-font-color3: rgba(255, 255, 255, 0.38);\n  --xr-border-color: #1F1F1F;\n  --xr-disabled-color: #515151;\n  --xr-background-color: #111111;\n  --xr-background-color-row-even: #111111;\n  --xr-background-color-row-odd: #313131;\n}\n\n.xr-wrap {\n  display: block;\n  min-width: 300px;\n  max-width: 700px;\n}\n\n.xr-text-repr-fallback {\n  /* fallback to plain text repr when CSS is not injected (untrusted notebook) */\n  display: none;\n}\n\n.xr-header {\n  padding-top: 6px;\n  padding-bottom: 6px;\n  margin-bottom: 4px;\n  border-bottom: solid 1px var(--xr-border-color);\n}\n\n.xr-header > div,\n.xr-header > ul {\n  display: inline;\n  margin-top: 0;\n  margin-bottom: 0;\n}\n\n.xr-obj-type,\n.xr-array-name {\n  margin-left: 2px;\n  margin-right: 10px;\n}\n\n.xr-obj-type {\n  color: var(--xr-font-color2);\n}\n\n.xr-sections {\n  padding-left: 0 !important;\n  display: grid;\n  grid-template-columns: 150px auto auto 1fr 20px 20px;\n}\n\n.xr-section-item {\n  display: contents;\n}\n\n.xr-section-item input {\n  display: none;\n}\n\n.xr-section-item input + label {\n  color: var(--xr-disabled-color);\n}\n\n.xr-section-item input:enabled + label {\n  cursor: pointer;\n  color: var(--xr-font-color2);\n}\n\n.xr-section-item input:enabled + label:hover {\n  color: var(--xr-font-color0);\n}\n\n.xr-section-summary {\n  grid-column: 1;\n  color: var(--xr-font-color2);\n  font-weight: 500;\n}\n\n.xr-section-summary > span {\n  display: inline-block;\n  padding-left: 0.5em;\n}\n\n.xr-section-summary-in:disabled + label {\n  color: var(--xr-font-color2);\n}\n\n.xr-section-summary-in + label:before {\n  display: inline-block;\n  content: '►';\n  font-size: 11px;\n  width: 15px;\n  text-align: center;\n}\n\n.xr-section-summary-in:disabled + label:before {\n  color: var(--xr-disabled-color);\n}\n\n.xr-section-summary-in:checked + label:before {\n  content: '▼';\n}\n\n.xr-section-summary-in:checked + label > span {\n  display: none;\n}\n\n.xr-section-summary,\n.xr-section-inline-details {\n  padding-top: 4px;\n  padding-bottom: 4px;\n}\n\n.xr-section-inline-details {\n  grid-column: 2 / -1;\n}\n\n.xr-section-details {\n  display: none;\n  grid-column: 1 / -1;\n  margin-bottom: 5px;\n}\n\n.xr-section-summary-in:checked ~ .xr-section-details {\n  display: contents;\n}\n\n.xr-array-wrap {\n  grid-column: 1 / -1;\n  display: grid;\n  grid-template-columns: 20px auto;\n}\n\n.xr-array-wrap > label {\n  grid-column: 1;\n  vertical-align: top;\n}\n\n.xr-preview {\n  color: var(--xr-font-color3);\n}\n\n.xr-array-preview,\n.xr-array-data {\n  padding: 0 5px !important;\n  grid-column: 2;\n}\n\n.xr-array-data,\n.xr-array-in:checked ~ .xr-array-preview {\n  display: none;\n}\n\n.xr-array-in:checked ~ .xr-array-data,\n.xr-array-preview {\n  display: inline-block;\n}\n\n.xr-dim-list {\n  display: inline-block !important;\n  list-style: none;\n  padding: 0 !important;\n  margin: 0;\n}\n\n.xr-dim-list li {\n  display: inline-block;\n  padding: 0;\n  margin: 0;\n}\n\n.xr-dim-list:before {\n  content: '(';\n}\n\n.xr-dim-list:after {\n  content: ')';\n}\n\n.xr-dim-list li:not(:last-child):after {\n  content: ',';\n  padding-right: 5px;\n}\n\n.xr-has-index {\n  font-weight: bold;\n}\n\n.xr-var-list,\n.xr-var-item {\n  display: contents;\n}\n\n.xr-var-item > div,\n.xr-var-item label,\n.xr-var-item > .xr-var-name span {\n  background-color: var(--xr-background-color-row-even);\n  margin-bottom: 0;\n}\n\n.xr-var-item > .xr-var-name:hover span {\n  padding-right: 5px;\n}\n\n.xr-var-list > li:nth-child(odd) > div,\n.xr-var-list > li:nth-child(odd) > label,\n.xr-var-list > li:nth-child(odd) > .xr-var-name span {\n  background-color: var(--xr-background-color-row-odd);\n}\n\n.xr-var-name {\n  grid-column: 1;\n}\n\n.xr-var-dims {\n  grid-column: 2;\n}\n\n.xr-var-dtype {\n  grid-column: 3;\n  text-align: right;\n  color: var(--xr-font-color2);\n}\n\n.xr-var-preview {\n  grid-column: 4;\n}\n\n.xr-var-name,\n.xr-var-dims,\n.xr-var-dtype,\n.xr-preview,\n.xr-attrs dt {\n  white-space: nowrap;\n  overflow: hidden;\n  text-overflow: ellipsis;\n  padding-right: 10px;\n}\n\n.xr-var-name:hover,\n.xr-var-dims:hover,\n.xr-var-dtype:hover,\n.xr-attrs dt:hover {\n  overflow: visible;\n  width: auto;\n  z-index: 1;\n}\n\n.xr-var-attrs,\n.xr-var-data {\n  display: none;\n  background-color: var(--xr-background-color) !important;\n  padding-bottom: 5px !important;\n}\n\n.xr-var-attrs-in:checked ~ .xr-var-attrs,\n.xr-var-data-in:checked ~ .xr-var-data {\n  display: block;\n}\n\n.xr-var-data > table {\n  float: right;\n}\n\n.xr-var-name span,\n.xr-var-data,\n.xr-attrs {\n  padding-left: 25px !important;\n}\n\n.xr-attrs,\n.xr-var-attrs,\n.xr-var-data {\n  grid-column: 1 / -1;\n}\n\ndl.xr-attrs {\n  padding: 0;\n  margin: 0;\n  display: grid;\n  grid-template-columns: 125px auto;\n}\n\n.xr-attrs dt, dd {\n  padding: 0;\n  margin: 0;\n  float: left;\n  padding-right: 10px;\n  width: auto;\n}\n\n.xr-attrs dt {\n  font-weight: normal;\n  grid-column: 1;\n}\n\n.xr-attrs dt:hover span {\n  display: inline-block;\n  background: var(--xr-background-color);\n  padding-right: 10px;\n}\n\n.xr-attrs dd {\n  grid-column: 2;\n  white-space: pre-wrap;\n  word-break: break-all;\n}\n\n.xr-icon-database,\n.xr-icon-file-text2 {\n  display: inline-block;\n  vertical-align: middle;\n  width: 1em;\n  height: 1.5em !important;\n  stroke-width: 0;\n  stroke: currentColor;\n  fill: currentColor;\n}\n</style><pre class='xr-text-repr-fallback'>&lt;xarray.Dataset&gt;\nDimensions:   (shot: 420, x: 256, y: 50)\nCoordinates:\n  * x         (x) float64 -547.9 -543.6 -539.3 -535.0 ... 539.3 543.6 547.9\n  * y         (y) float64 -104.9 -100.6 -96.3 -92.02 ... 92.02 96.3 100.6 104.9\n  * shot      (shot) MultiIndex\n  - tmstp     (shot) datetime64[ns] 2021-01-27T11:43:06 ... 2021-01-27T12:04:55\n  - dDDSred   (shot) float64 3.0 -9.0 -7.0 6.0 2.0 ... 3.0 3.0 -4.0 -7.0 6.0\nData variables:\n    image_00  (shot, x, y) float32 206.0 215.0 208.0 214.0 ... 217.0 213.0 213.0\n    image_01  (shot, x, y) float32 217.0 218.0 220.0 229.0 ... 376.0 452.0 381.0\n    image_02  (shot, x, y) float32 208.0 216.0 217.0 213.0 ... 231.0 227.0 225.0\n    image_03  (shot, x, y) float32 229.0 216.0 221.0 225.0 ... 377.0 448.0 369.0\n    image_04  (shot, x, y) float32 210.0 196.0 198.0 201.0 ... 203.0 200.0 208.0\n    image_05  (shot, x, y) float32 205.0 204.0 200.0 202.0 ... 205.0 206.0 201.0</pre><div class='xr-wrap' hidden><div class='xr-header'><div class='xr-obj-type'>xarray.Dataset</div></div><ul class='xr-sections'><li class='xr-section-item'><input id='section-f32564f2-ead2-4e87-9745-5abf79763437' class='xr-section-summary-in' type='checkbox' disabled ><label for='section-f32564f2-ead2-4e87-9745-5abf79763437' class='xr-section-summary'  title='Expand/collapse section'>Dimensions:</label><div class='xr-section-inline-details'><ul class='xr-dim-list'><li><span class='xr-has-index'>shot</span>: 420</li><li><span class='xr-has-index'>x</span>: 256</li><li><span class='xr-has-index'>y</span>: 50</li></ul></div><div class='xr-section-details'></div></li><li class='xr-section-item'><input id='section-61099a98-eb90-4182-9e26-5606ae367e55' class='xr-section-summary-in' type='checkbox'  checked><label for='section-61099a98-eb90-4182-9e26-5606ae367e55' class='xr-section-summary' >Coordinates: <span>(3)</span></label><div class='xr-section-inline-details'></div><div class='xr-section-details'><ul class='xr-var-list'><li class='xr-var-item'><div class='xr-var-name'><span class='xr-has-index'>x</span></div><div class='xr-var-dims'>(x)</div><div class='xr-var-dtype'>float64</div><div class='xr-var-preview xr-preview'>-547.9 -543.6 ... 543.6 547.9</div><input id='attrs-66b38d91-36b8-49ea-a917-f794c25b2976' class='xr-var-attrs-in' type='checkbox' disabled><label for='attrs-66b38d91-36b8-49ea-a917-f794c25b2976' title='Show/Hide attributes'><svg class='icon xr-icon-file-text2'><use xlink:href='#icon-file-text2'></use></svg></label><input id='data-846b0315-9a6d-4090-87fa-5da81fa89597' class='xr-var-data-in' type='checkbox'><label for='data-846b0315-9a6d-4090-87fa-5da81fa89597' title='Show/Hide data repr'><svg class='icon xr-icon-database'><use xlink:href='#icon-database'></use></svg></label><div class='xr-var-attrs'><dl class='xr-attrs'></dl></div><div class='xr-var-data'><pre>array([-547.851562, -543.554688, -539.257812, ...,  539.257812,  543.554688,\n        547.851562])</pre></div></li><li class='xr-var-item'><div class='xr-var-name'><span class='xr-has-index'>y</span></div><div class='xr-var-dims'>(y)</div><div class='xr-var-dtype'>float64</div><div class='xr-var-preview xr-preview'>-104.9 -100.6 -96.3 ... 100.6 104.9</div><input id='attrs-4628d37a-7a31-445b-b7cf-abffea3f65d2' class='xr-var-attrs-in' type='checkbox' disabled><label for='attrs-4628d37a-7a31-445b-b7cf-abffea3f65d2' title='Show/Hide attributes'><svg class='icon xr-icon-file-text2'><use xlink:href='#icon-file-text2'></use></svg></label><input id='data-f41749ca-6e27-476e-bd34-3671a155e9ba' class='xr-var-data-in' type='checkbox'><label for='data-f41749ca-6e27-476e-bd34-3671a155e9ba' title='Show/Hide data repr'><svg class='icon xr-icon-database'><use xlink:href='#icon-database'></use></svg></label><div class='xr-var-attrs'><dl class='xr-attrs'></dl></div><div class='xr-var-data'><pre>array([-104.86, -100.58,  -96.3 ,  -92.02,  -87.74,  -83.46,  -79.18,  -74.9 ,\n        -70.62,  -66.34,  -62.06,  -57.78,  -53.5 ,  -49.22,  -44.94,  -40.66,\n        -36.38,  -32.1 ,  -27.82,  -23.54,  -19.26,  -14.98,  -10.7 ,   -6.42,\n         -2.14,    2.14,    6.42,   10.7 ,   14.98,   19.26,   23.54,   27.82,\n         32.1 ,   36.38,   40.66,   44.94,   49.22,   53.5 ,   57.78,   62.06,\n         66.34,   70.62,   74.9 ,   79.18,   83.46,   87.74,   92.02,   96.3 ,\n        100.58,  104.86])</pre></div></li><li class='xr-var-item'><div class='xr-var-name'><span class='xr-has-index'>shot</span></div><div class='xr-var-dims'>(shot)</div><div class='xr-var-dtype'>MultiIndex</div><div class='xr-var-preview xr-preview'>(tmstp, dDDSred)</div><input id='attrs-299116bc-e437-4aac-9bb5-a112efe25b47' class='xr-var-attrs-in' type='checkbox' disabled><label for='attrs-299116bc-e437-4aac-9bb5-a112efe25b47' title='Show/Hide attributes'><svg class='icon xr-icon-file-text2'><use xlink:href='#icon-file-text2'></use></svg></label><input id='data-351e8f88-0b28-4073-92e3-99a668ee5ef7' class='xr-var-data-in' type='checkbox'><label for='data-351e8f88-0b28-4073-92e3-99a668ee5ef7' title='Show/Hide data repr'><svg class='icon xr-icon-database'><use xlink:href='#icon-database'></use></svg></label><div class='xr-var-attrs'><dl class='xr-attrs'></dl></div><div class='xr-var-data'><pre>array([(Timestamp(&#x27;2021-01-27 11:43:06&#x27;), 3.0),\n       (Timestamp(&#x27;2021-01-27 11:43:09&#x27;), -9.0),\n       (Timestamp(&#x27;2021-01-27 11:43:12&#x27;), -7.0), ...,\n       (Timestamp(&#x27;2021-01-27 12:04:50&#x27;), -4.0),\n       (Timestamp(&#x27;2021-01-27 12:04:52&#x27;), -7.0),\n       (Timestamp(&#x27;2021-01-27 12:04:55&#x27;), 6.0)], dtype=object)</pre></div></li><li class='xr-var-item'><div class='xr-var-name'><span>tmstp</span></div><div class='xr-var-dims'>(shot)</div><div class='xr-var-dtype'>datetime64[ns]</div><div class='xr-var-preview xr-preview'>2021-01-27T11:43:06 ... 2021-01-...</div><input id='attrs-dfadc1be-feda-4810-ac2e-b08c499d4960' class='xr-var-attrs-in' type='checkbox' disabled><label for='attrs-dfadc1be-feda-4810-ac2e-b08c499d4960' title='Show/Hide attributes'><svg class='icon xr-icon-file-text2'><use xlink:href='#icon-file-text2'></use></svg></label><input id='data-3d48884e-1f3e-46d7-a049-137726a9ff19' class='xr-var-data-in' type='checkbox'><label for='data-3d48884e-1f3e-46d7-a049-137726a9ff19' title='Show/Hide data repr'><svg class='icon xr-icon-database'><use xlink:href='#icon-database'></use></svg></label><div class='xr-var-attrs'><dl class='xr-attrs'></dl></div><div class='xr-var-data'><pre>array([&#x27;2021-01-27T11:43:06.000000000&#x27;, &#x27;2021-01-27T11:43:09.000000000&#x27;,\n       &#x27;2021-01-27T11:43:12.000000000&#x27;, ..., &#x27;2021-01-27T12:04:50.000000000&#x27;,\n       &#x27;2021-01-27T12:04:52.000000000&#x27;, &#x27;2021-01-27T12:04:55.000000000&#x27;],\n      dtype=&#x27;datetime64[ns]&#x27;)</pre></div></li><li class='xr-var-item'><div class='xr-var-name'><span>dDDSred</span></div><div class='xr-var-dims'>(shot)</div><div class='xr-var-dtype'>float64</div><div class='xr-var-preview xr-preview'>3.0 -9.0 -7.0 6.0 ... -4.0 -7.0 6.0</div><input id='attrs-2e4745a7-25db-4507-ae6d-d51075de35fd' class='xr-var-attrs-in' type='checkbox' disabled><label for='attrs-2e4745a7-25db-4507-ae6d-d51075de35fd' title='Show/Hide attributes'><svg class='icon xr-icon-file-text2'><use xlink:href='#icon-file-text2'></use></svg></label><input id='data-b7ca55f9-36e9-4594-92b7-6a4a49fb132f' class='xr-var-data-in' type='checkbox'><label for='data-b7ca55f9-36e9-4594-92b7-6a4a49fb132f' title='Show/Hide data repr'><svg class='icon xr-icon-database'><use xlink:href='#icon-database'></use></svg></label><div class='xr-var-attrs'><dl class='xr-attrs'></dl></div><div class='xr-var-data'><pre>array([ 3., -9., -7., ..., -4., -7.,  6.])</pre></div></li></ul></div></li><li class='xr-section-item'><input id='section-eff97171-bb21-4dc9-9d42-f3ba00b838bb' class='xr-section-summary-in' type='checkbox'  checked><label for='section-eff97171-bb21-4dc9-9d42-f3ba00b838bb' class='xr-section-summary' >Data variables: <span>(6)</span></label><div class='xr-section-inline-details'></div><div class='xr-section-details'><ul class='xr-var-list'><li class='xr-var-item'><div class='xr-var-name'><span>image_00</span></div><div class='xr-var-dims'>(shot, x, y)</div><div class='xr-var-dtype'>float32</div><div class='xr-var-preview xr-preview'>206.0 215.0 208.0 ... 213.0 213.0</div><input id='attrs-6b0d7667-3335-41b1-a661-0d68502b4d12' class='xr-var-attrs-in' type='checkbox' disabled><label for='attrs-6b0d7667-3335-41b1-a661-0d68502b4d12' title='Show/Hide attributes'><svg class='icon xr-icon-file-text2'><use xlink:href='#icon-file-text2'></use></svg></label><input id='data-8d887483-dd0a-4a5c-94d6-da3bb005b699' class='xr-var-data-in' type='checkbox'><label for='data-8d887483-dd0a-4a5c-94d6-da3bb005b699' title='Show/Hide data repr'><svg class='icon xr-icon-database'><use xlink:href='#icon-database'></use></svg></label><div class='xr-var-attrs'><dl class='xr-attrs'></dl></div><div class='xr-var-data'><pre>array([[[206., 215., 208., ..., 211., 225., 204.],\n        [212., 207., 213., ..., 216., 215., 223.],\n        [216., 201., 209., ..., 215., 221., 221.],\n        ...,\n        [212., 214., 219., ..., 214., 223., 247.],\n        [209., 208., 217., ..., 225., 212., 223.],\n        [205., 215., 208., ..., 212., 213., 215.]],\n\n       [[214., 209., 215., ..., 215., 217., 214.],\n        [206., 210., 209., ..., 213., 214., 215.],\n        [209., 210., 203., ..., 205., 220., 213.],\n        ...,\n        [205., 210., 213., ..., 217., 228., 239.],\n        [214., 217., 215., ..., 219., 216., 231.],\n        [219., 213., 212., ..., 215., 212., 212.]],\n\n       [[213., 211., 223., ..., 206., 210., 218.],\n        [221., 212., 213., ..., 214., 222., 229.],\n        [198., 219., 214., ..., 224., 214., 221.],\n        ...,\n...\n        ...,\n        [208., 217., 215., ..., 202., 224., 245.],\n        [217., 221., 214., ..., 210., 213., 219.],\n        [208., 212., 210., ..., 215., 207., 217.]],\n\n       [[208., 213., 211., ..., 213., 217., 234.],\n        [201., 214., 219., ..., 230., 218., 220.],\n        [210., 203., 217., ..., 217., 218., 225.],\n        ...,\n        [216., 215., 215., ..., 225., 215., 247.],\n        [204., 206., 216., ..., 224., 214., 231.],\n        [213., 218., 217., ..., 222., 219., 231.]],\n\n       [[212., 213., 212., ..., 218., 212., 219.],\n        [210., 214., 226., ..., 218., 214., 219.],\n        [217., 210., 206., ..., 217., 227., 215.],\n        ...,\n        [212., 215., 216., ..., 221., 220., 244.],\n        [213., 209., 215., ..., 219., 224., 228.],\n        [214., 211., 216., ..., 217., 213., 213.]]], dtype=float32)</pre></div></li><li class='xr-var-item'><div class='xr-var-name'><span>image_01</span></div><div class='xr-var-dims'>(shot, x, y)</div><div class='xr-var-dtype'>float32</div><div class='xr-var-preview xr-preview'>217.0 218.0 220.0 ... 452.0 381.0</div><input id='attrs-d04ce66f-ef83-491a-9a43-5f5cac91f2c5' class='xr-var-attrs-in' type='checkbox' disabled><label for='attrs-d04ce66f-ef83-491a-9a43-5f5cac91f2c5' title='Show/Hide attributes'><svg class='icon xr-icon-file-text2'><use xlink:href='#icon-file-text2'></use></svg></label><input id='data-5daee905-be80-431f-8b07-ec871406f1ef' class='xr-var-data-in' type='checkbox'><label for='data-5daee905-be80-431f-8b07-ec871406f1ef' title='Show/Hide data repr'><svg class='icon xr-icon-database'><use xlink:href='#icon-database'></use></svg></label><div class='xr-var-attrs'><dl class='xr-attrs'></dl></div><div class='xr-var-data'><pre>array([[[ 217.,  218.,  220., ...,  217.,  224.,  206.],\n        [ 215.,  222.,  218., ...,  224.,  213.,  219.],\n        [ 227.,  218.,  222., ...,  235.,  228.,  225.],\n        ...,\n        [ 237.,  381.,  730., ..., 1027., 1497., 1114.],\n        [ 232.,  291.,  497., ...,  547.,  736.,  624.],\n        [ 213.,  253.,  324., ...,  314.,  376.,  336.]],\n\n       [[ 227.,  220.,  212., ...,  221.,  220.,  211.],\n        [ 226.,  217.,  213., ...,  229.,  209.,  217.],\n        [ 222.,  221.,  222., ...,  239.,  225.,  213.],\n        ...,\n        [ 252.,  363.,  731., ...,  968., 1343., 1101.],\n        [ 235.,  273.,  484., ...,  537.,  710.,  582.],\n        [ 215.,  239.,  311., ...,  331.,  391.,  322.]],\n\n       [[ 215.,  214.,  214., ...,  222.,  222.,  219.],\n        [ 223.,  211.,  219., ...,  234.,  213.,  215.],\n        [ 212.,  213.,  219., ...,  227.,  217.,  228.],\n        ...,\n...\n        ...,\n        [ 255.,  382.,  868., ..., 1304., 1855., 1522.],\n        [ 250.,  299.,  577., ...,  661.,  922.,  792.],\n        [ 226.,  242.,  350., ...,  359.,  440.,  392.]],\n\n       [[ 226.,  219.,  217., ...,  225.,  217.,  226.],\n        [ 221.,  231.,  216., ...,  238.,  221.,  216.],\n        [ 223.,  225.,  230., ...,  234.,  232.,  219.],\n        ...,\n        [ 267.,  398.,  846., ..., 1289., 1895., 1454.],\n        [ 246.,  304.,  566., ...,  674.,  923.,  723.],\n        [ 226.,  247.,  352., ...,  362.,  429.,  370.]],\n\n       [[ 220.,  219.,  225., ...,  211.,  221.,  214.],\n        [ 229.,  221.,  224., ...,  223.,  216.,  219.],\n        [ 220.,  217.,  219., ...,  235.,  228.,  216.],\n        ...,\n        [ 253.,  390.,  861., ..., 1310., 1820., 1538.],\n        [ 248.,  299.,  526., ...,  654.,  888.,  760.],\n        [ 216.,  240.,  348., ...,  376.,  452.,  381.]]], dtype=float32)</pre></div></li><li class='xr-var-item'><div class='xr-var-name'><span>image_02</span></div><div class='xr-var-dims'>(shot, x, y)</div><div class='xr-var-dtype'>float32</div><div class='xr-var-preview xr-preview'>208.0 216.0 217.0 ... 227.0 225.0</div><input id='attrs-4b6a494a-40f2-444a-a950-570f44fd19f3' class='xr-var-attrs-in' type='checkbox' disabled><label for='attrs-4b6a494a-40f2-444a-a950-570f44fd19f3' title='Show/Hide attributes'><svg class='icon xr-icon-file-text2'><use xlink:href='#icon-file-text2'></use></svg></label><input id='data-4cb67ad8-58b8-4549-88ce-70f98d8910a8' class='xr-var-data-in' type='checkbox'><label for='data-4cb67ad8-58b8-4549-88ce-70f98d8910a8' title='Show/Hide data repr'><svg class='icon xr-icon-database'><use xlink:href='#icon-database'></use></svg></label><div class='xr-var-attrs'><dl class='xr-attrs'></dl></div><div class='xr-var-data'><pre>array([[[208., 216., 217., ..., 224., 221., 221.],\n        [215., 217., 211., ..., 223., 220., 227.],\n        [209., 217., 206., ..., 217., 220., 219.],\n        ...,\n        [584., 323., 247., ..., 214., 235., 254.],\n        [358., 264., 232., ..., 226., 221., 231.],\n        [271., 233., 223., ..., 214., 228., 225.]],\n\n       [[216., 220., 209., ..., 226., 220., 215.],\n        [215., 217., 207., ..., 217., 224., 217.],\n        [211., 206., 210., ..., 216., 215., 218.],\n        ...,\n        [545., 301., 251., ..., 226., 225., 250.],\n        [355., 260., 230., ..., 220., 227., 230.],\n        [234., 231., 219., ..., 233., 212., 224.]],\n\n       [[208., 203., 217., ..., 216., 216., 219.],\n        [227., 220., 222., ..., 219., 230., 212.],\n        [212., 218., 218., ..., 212., 216., 222.],\n        ...,\n...\n        ...,\n        [669., 380., 276., ..., 224., 232., 247.],\n        [415., 277., 243., ..., 227., 227., 245.],\n        [296., 237., 224., ..., 231., 224., 222.]],\n\n       [[213., 216., 217., ..., 228., 213., 230.],\n        [217., 221., 214., ..., 225., 223., 226.],\n        [224., 217., 222., ..., 219., 230., 237.],\n        ...,\n        [720., 359., 271., ..., 234., 242., 248.],\n        [410., 280., 245., ..., 217., 242., 236.],\n        [298., 233., 217., ..., 220., 223., 226.]],\n\n       [[220., 211., 211., ..., 213., 223., 225.],\n        [218., 200., 217., ..., 222., 213., 212.],\n        [223., 210., 212., ..., 218., 226., 226.],\n        ...,\n        [723., 352., 269., ..., 234., 242., 253.],\n        [442., 294., 244., ..., 219., 221., 220.],\n        [282., 244., 226., ..., 231., 227., 225.]]], dtype=float32)</pre></div></li><li class='xr-var-item'><div class='xr-var-name'><span>image_03</span></div><div class='xr-var-dims'>(shot, x, y)</div><div class='xr-var-dtype'>float32</div><div class='xr-var-preview xr-preview'>229.0 216.0 221.0 ... 448.0 369.0</div><input id='attrs-68564ce2-3055-420c-94de-6931403cb19d' class='xr-var-attrs-in' type='checkbox' disabled><label for='attrs-68564ce2-3055-420c-94de-6931403cb19d' title='Show/Hide attributes'><svg class='icon xr-icon-file-text2'><use xlink:href='#icon-file-text2'></use></svg></label><input id='data-52edde39-3008-4cf1-9ce3-238f186a8fb5' class='xr-var-data-in' type='checkbox'><label for='data-52edde39-3008-4cf1-9ce3-238f186a8fb5' title='Show/Hide data repr'><svg class='icon xr-icon-database'><use xlink:href='#icon-database'></use></svg></label><div class='xr-var-attrs'><dl class='xr-attrs'></dl></div><div class='xr-var-data'><pre>array([[[ 229.,  216.,  221., ...,  216.,  219.,  223.],\n        [ 221.,  221.,  205., ...,  214.,  220.,  216.],\n        [ 223.,  231.,  223., ...,  235.,  220.,  218.],\n        ...,\n        [ 252.,  364.,  780., ...,  995., 1483., 1133.],\n        [ 249.,  294.,  481., ...,  558.,  752.,  627.],\n        [ 224.,  247.,  309., ...,  337.,  389.,  371.]],\n\n       [[ 229.,  223.,  225., ...,  218.,  229.,  207.],\n        [ 222.,  223.,  214., ...,  242.,  213.,  218.],\n        [ 230.,  222.,  220., ...,  236.,  215.,  223.],\n        ...,\n        [ 258.,  352.,  746., ...,  976., 1522., 1147.],\n        [ 234.,  295.,  490., ...,  541.,  778.,  583.],\n        [ 217.,  236.,  292., ...,  333.,  379.,  354.]],\n\n       [[ 209.,  211.,  223., ...,  214.,  226.,  211.],\n        [ 213.,  217.,  218., ...,  220.,  202.,  205.],\n        [ 222.,  220.,  222., ...,  232.,  230.,  217.],\n        ...,\n...\n        ...,\n        [ 275.,  378.,  868., ..., 1302., 1939., 1563.],\n        [ 260.,  300.,  526., ...,  630.,  919.,  765.],\n        [ 220.,  258.,  326., ...,  364.,  447.,  385.]],\n\n       [[ 224.,  225.,  223., ...,  226.,  226.,  225.],\n        [ 224.,  223.,  225., ...,  217.,  217.,  222.],\n        [ 220.,  222.,  219., ...,  236.,  225.,  220.],\n        ...,\n        [ 263.,  417.,  838., ..., 1255., 1821., 1456.],\n        [ 256.,  294.,  559., ...,  654.,  922.,  705.],\n        [ 225.,  253.,  338., ...,  381.,  419.,  383.]],\n\n       [[ 220.,  218.,  232., ...,  234.,  224.,  215.],\n        [ 224.,  223.,  212., ...,  226.,  227.,  206.],\n        [ 221.,  220.,  238., ...,  226.,  226.,  235.],\n        ...,\n        [ 266.,  391.,  890., ..., 1251., 1884., 1469.],\n        [ 243.,  300.,  537., ...,  658.,  919.,  754.],\n        [ 226.,  251.,  341., ...,  377.,  448.,  369.]]], dtype=float32)</pre></div></li><li class='xr-var-item'><div class='xr-var-name'><span>image_04</span></div><div class='xr-var-dims'>(shot, x, y)</div><div class='xr-var-dtype'>float32</div><div class='xr-var-preview xr-preview'>210.0 196.0 198.0 ... 200.0 208.0</div><input id='attrs-844b05ab-a249-4a7d-a4fe-97e5b0e006a8' class='xr-var-attrs-in' type='checkbox' disabled><label for='attrs-844b05ab-a249-4a7d-a4fe-97e5b0e006a8' title='Show/Hide attributes'><svg class='icon xr-icon-file-text2'><use xlink:href='#icon-file-text2'></use></svg></label><input id='data-2d753f5d-13c9-4b4c-8d28-906ba17dd970' class='xr-var-data-in' type='checkbox'><label for='data-2d753f5d-13c9-4b4c-8d28-906ba17dd970' title='Show/Hide data repr'><svg class='icon xr-icon-database'><use xlink:href='#icon-database'></use></svg></label><div class='xr-var-attrs'><dl class='xr-attrs'></dl></div><div class='xr-var-data'><pre>array([[[210., 196., 198., ..., 199., 196., 211.],\n        [218., 209., 206., ..., 199., 205., 208.],\n        [228., 203., 208., ..., 211., 203., 204.],\n        ...,\n        [550., 323., 238., ..., 200., 203., 202.],\n        [350., 243., 220., ..., 197., 212., 201.],\n        [261., 216., 209., ..., 206., 198., 204.]],\n\n       [[219., 207., 199., ..., 201., 207., 204.],\n        [204., 208., 210., ..., 211., 200., 206.],\n        [213., 212., 207., ..., 202., 209., 211.],\n        ...,\n        [551., 307., 228., ..., 207., 210., 208.],\n        [357., 255., 218., ..., 208., 206., 195.],\n        [264., 240., 211., ..., 207., 207., 190.]],\n\n       [[210., 202., 204., ..., 204., 207., 208.],\n        [214., 208., 201., ..., 212., 212., 200.],\n        [208., 204., 215., ..., 204., 206., 207.],\n        ...,\n...\n        ...,\n        [727., 356., 257., ..., 202., 197., 209.],\n        [421., 257., 225., ..., 207., 203., 198.],\n        [306., 241., 208., ..., 207., 200., 213.]],\n\n       [[225., 212., 204., ..., 208., 211., 201.],\n        [224., 199., 203., ..., 211., 211., 208.],\n        [223., 205., 203., ..., 197., 202., 204.],\n        ...,\n        [728., 357., 261., ..., 205., 209., 220.],\n        [416., 272., 237., ..., 208., 208., 211.],\n        [289., 238., 202., ..., 201., 204., 202.]],\n\n       [[220., 205., 203., ..., 206., 199., 200.],\n        [215., 206., 212., ..., 200., 212., 212.],\n        [217., 209., 203., ..., 205., 196., 204.],\n        ...,\n        [702., 355., 256., ..., 208., 209., 201.],\n        [444., 273., 224., ..., 196., 211., 209.],\n        [279., 225., 218., ..., 203., 200., 208.]]], dtype=float32)</pre></div></li><li class='xr-var-item'><div class='xr-var-name'><span>image_05</span></div><div class='xr-var-dims'>(shot, x, y)</div><div class='xr-var-dtype'>float32</div><div class='xr-var-preview xr-preview'>205.0 204.0 200.0 ... 206.0 201.0</div><input id='attrs-6b9ef51b-35a6-48d4-8ac2-94f778b202c1' class='xr-var-attrs-in' type='checkbox' disabled><label for='attrs-6b9ef51b-35a6-48d4-8ac2-94f778b202c1' title='Show/Hide attributes'><svg class='icon xr-icon-file-text2'><use xlink:href='#icon-file-text2'></use></svg></label><input id='data-96b796c1-81e0-4cca-979c-0d0cd3976dc2' class='xr-var-data-in' type='checkbox'><label for='data-96b796c1-81e0-4cca-979c-0d0cd3976dc2' title='Show/Hide data repr'><svg class='icon xr-icon-database'><use xlink:href='#icon-database'></use></svg></label><div class='xr-var-attrs'><dl class='xr-attrs'></dl></div><div class='xr-var-data'><pre>array([[[205., 204., 200., ..., 213., 201., 205.],\n        [203., 203., 203., ..., 206., 212., 203.],\n        [210., 206., 207., ..., 208., 201., 206.],\n        ...,\n        [208., 207., 202., ..., 203., 202., 213.],\n        [208., 203., 205., ..., 199., 211., 208.],\n        [202., 204., 202., ..., 209., 211., 216.]],\n\n       [[207., 202., 206., ..., 207., 203., 209.],\n        [207., 205., 198., ..., 208., 211., 206.],\n        [206., 203., 202., ..., 208., 202., 210.],\n        ...,\n        [209., 206., 208., ..., 209., 209., 204.],\n        [209., 209., 200., ..., 203., 209., 201.],\n        [210., 212., 208., ..., 208., 207., 215.]],\n\n       [[191., 208., 201., ..., 199., 202., 204.],\n        [193., 207., 204., ..., 209., 204., 204.],\n        [202., 206., 212., ..., 212., 211., 212.],\n        ...,\n...\n        ...,\n        [203., 204., 202., ..., 204., 208., 209.],\n        [196., 211., 202., ..., 212., 213., 208.],\n        [204., 205., 205., ..., 206., 208., 204.]],\n\n       [[206., 199., 204., ..., 210., 202., 209.],\n        [203., 206., 210., ..., 206., 209., 207.],\n        [215., 203., 202., ..., 210., 206., 217.],\n        ...,\n        [205., 203., 211., ..., 206., 207., 206.],\n        [205., 201., 198., ..., 203., 208., 211.],\n        [206., 192., 204., ..., 212., 218., 206.]],\n\n       [[204., 196., 201., ..., 212., 207., 205.],\n        [200., 209., 203., ..., 201., 205., 199.],\n        [207., 203., 200., ..., 204., 203., 206.],\n        ...,\n        [205., 195., 203., ..., 203., 201., 206.],\n        [208., 204., 209., ..., 213., 206., 210.],\n        [200., 207., 207., ..., 205., 206., 201.]]], dtype=float32)</pre></div></li></ul></div></li><li class='xr-section-item'><input id='section-07e5b792-a0f4-4363-9bfa-aae7ca329ad6' class='xr-section-summary-in' type='checkbox' disabled ><label for='section-07e5b792-a0f4-4363-9bfa-aae7ca329ad6' class='xr-section-summary'  title='Expand/collapse section'>Attributes: <span>(0)</span></label><div class='xr-section-inline-details'></div><div class='xr-section-details'><dl class='xr-attrs'></dl></div></li></ul></div></div>"
     },
     "metadata": {},
     "execution_count": 114
    }
   ],
   "source": [
    "data = ra.load_data(path / \"raw_data\", to_multiindex=True)\n",
    "images = data.ryd_data.images\n",
    "images.load()"
   ]
  },
  {
   "source": [
    "# Analysis\n",
    "## Analyse ground state images\n",
    "### Choose square mask to remove edges of the images"
   ],
   "cell_type": "markdown",
   "metadata": {}
  },
  {
   "cell_type": "code",
   "execution_count": 115,
   "metadata": {},
   "outputs": [],
   "source": [
    "#ground_state_images = images.sel(tCAM=0)\n",
    "\n",
    "background = images.image_05.mean(\"shot\")\n",
    "absorption = images.image_01\n",
    "light = images.image_03\n",
    "#background"
   ]
  },
  {
   "cell_type": "code",
   "execution_count": 116,
   "metadata": {},
   "outputs": [
    {
     "output_type": "display_data",
     "data": {
      "text/plain": "Canvas(toolbar=Toolbar(toolitems=[('Home', 'Reset original view', 'home', 'home'), ('Back', 'Back to previous …",
      "application/vnd.jupyter.widget-view+json": {
       "version_major": 2,
       "version_minor": 0,
       "model_id": "7b0b36d8316e414caa2e5fb859b00498"
      }
     },
     "metadata": {}
    }
   ],
   "source": [
    "mean_light_image = light.mean(\"shot\")\n",
    "\n",
    "fig, ax = plt.subplots(figsize=(6, 2))\n",
    "mean_light_image.T.plot(ax=ax, robust=True)\n",
    "ax.set_xlabel(\"x [$\\mu$m]\")\n",
    "ax.set_ylabel(\"y [$\\mu$m]\")\n",
    "fig.tight_layout()"
   ]
  },
  {
   "cell_type": "code",
   "execution_count": 117,
   "metadata": {},
   "outputs": [
    {
     "output_type": "display_data",
     "data": {
      "text/plain": "Canvas(toolbar=Toolbar(toolitems=[('Home', 'Reset original view', 'home', 'home'), ('Back', 'Back to previous …",
      "application/vnd.jupyter.widget-view+json": {
       "version_major": 2,
       "version_minor": 0,
       "model_id": "5f35b3be91d94aa4bd65ea533472a70b"
      }
     },
     "metadata": {}
    }
   ],
   "source": [
    "## Select square mask\n",
    "### Mask in imaging system \n",
    "polygon_mask_indices = [(-500, -90), (500, -90), (500, 90), (-500, 90)]\n",
    "square_mask = mean_light_image.polygon_mask.get_mask(polygon_mask_indices)\n",
    "mean_light_image_removed_edges = mean_light_image.where(square_mask)\n",
    "\n",
    "fig, ax = plt.subplots(figsize=(6, 2))\n",
    "mean_light_image_removed_edges.T.plot(ax=ax, robust=True);\n",
    "ax.set_xlabel(\"x [$\\mu$m]\")\n",
    "ax.set_ylabel(\"y [$\\mu$m]\")\n",
    "fig.tight_layout()"
   ]
  },
  {
   "cell_type": "code",
   "execution_count": 118,
   "metadata": {},
   "outputs": [],
   "source": [
    "### Simple density calculation without pca"
   ]
  },
  {
   "cell_type": "code",
   "execution_count": 119,
   "metadata": {},
   "outputs": [
    {
     "output_type": "display_data",
     "data": {
      "text/plain": "Canvas(toolbar=Toolbar(toolitems=[('Home', 'Reset original view', 'home', 'home'), ('Back', 'Back to previous …",
      "application/vnd.jupyter.widget-view+json": {
       "version_major": 2,
       "version_minor": 0,
       "model_id": "c91722851089447d824a9f13d6f4863a"
      }
     },
     "metadata": {}
    }
   ],
   "source": [
    "fig, axes = plt.subplots(3, sharex=True)\n",
    "\n",
    "absorption.mean(\"shot\").where(square_mask).T.plot(ax=axes[0])\n",
    "light.mean(\"shot\").where(square_mask).T.plot(ax=axes[1])\n",
    "background.where(square_mask).T.plot(ax=axes[2])\n",
    "fig.tight_layout()"
   ]
  },
  {
   "cell_type": "code",
   "execution_count": 120,
   "metadata": {},
   "outputs": [
    {
     "output_type": "display_data",
     "data": {
      "text/plain": "Canvas(toolbar=Toolbar(toolitems=[('Home', 'Reset original view', 'home', 'home'), ('Back', 'Back to previous …",
      "application/vnd.jupyter.widget-view+json": {
       "version_major": 2,
       "version_minor": 0,
       "model_id": "a9767b886077449d88076f7fac84b3e0"
      }
     },
     "metadata": {}
    }
   ],
   "source": [
    "# build_simple imaging\n",
    "\n",
    "#background = 0  # Set background to 0 because obviously the image sequence was not correct\n",
    "#background = ground_state_images.image_05.mean(\"tmstp\")\n",
    "\n",
    "imaging_simple = ra.AbsorptionImaging(absorption - background, mean_light_image - background, t_exp=None, binning=2)\n",
    "density = imaging_simple.density[2].where(square_mask)\n",
    "\n",
    "fig, ax = plt.subplots(figsize=(6, 2))\n",
    "density.T.plot(ax=ax, robust=True);\n",
    "ax.set_xlabel(\"x [$\\mu$m]\")\n",
    "ax.set_ylabel(\"y [$\\mu$m]\")\n",
    "fig.tight_layout()"
   ]
  },
  {
   "cell_type": "code",
   "execution_count": 121,
   "metadata": {},
   "outputs": [
    {
     "output_type": "display_data",
     "data": {
      "text/plain": "Canvas(toolbar=Toolbar(toolitems=[('Home', 'Reset original view', 'home', 'home'), ('Back', 'Back to previous …",
      "application/vnd.jupyter.widget-view+json": {
       "version_major": 2,
       "version_minor": 0,
       "model_id": "cad95e8b88624c859c0d32c910b7705f"
      }
     },
     "metadata": {}
    },
    {
     "output_type": "execute_result",
     "data": {
      "text/plain": [
       "<matplotlib.collections.QuadMesh at 0x207dd035c70>"
      ]
     },
     "metadata": {},
     "execution_count": 121
    }
   ],
   "source": [
    "fig, ax = plt.subplots(figsize=(6, 2))\n",
    "dDDSlist = np.unique(images.dDDSred)\n",
    "\n",
    "simple = imaging_simple.density.groupby(\"dDDSred\").mean().where(square_mask)\n",
    "\n",
    "simple.sel(dDDSred = -10).T.plot(ax=ax)"
   ]
  },
  {
   "cell_type": "code",
   "execution_count": 122,
   "metadata": {},
   "outputs": [],
   "source": [
    "def fit_gs(im):\n",
    "    model = ra.Gaussian2D()\n",
    "    params = model.make_params()\n",
    "    params.add(\"amp\", value=4e12, min=0, max=1e13, vary=True)\n",
    "    params.add(\"cen_x\", value=-220, vary=True)\n",
    "    params.add(\"cen_y\", value=50, vary=True)\n",
    "    params.add(\"sig_x\", value=50, min=0, vary=True)\n",
    "    params.add(\"sig_y\", value=50, min=0, vary=True) \t\n",
    "    params.add(\"offset\", value=0 , vary=False) \t\n",
    "    params.add(\"theta\", value=0, vary=False) \n",
    "\n",
    "    fit_result =  model.fit(im, params=params)\n",
    "    ampl = fit_result.best_values['amp']\n",
    "    return ampl, fit_result"
   ]
  },
  {
   "cell_type": "code",
   "execution_count": 123,
   "metadata": {},
   "outputs": [],
   "source": [
    "def get_error(fit_result, param):\n",
    "    conf = fit_result.conf_interval()[param]\n",
    "    return conf[4][1] - conf[2][1]"
   ]
  },
  {
   "cell_type": "code",
   "execution_count": 131,
   "metadata": {},
   "outputs": [],
   "source": [
    "amp_se = pd.Series(dtype=float)\n",
    "amp_se_err = pd.Series(dtype=float)\n",
    "\n",
    "for dDDS in dDDSlist[5:15]: \n",
    "    ampl, res = fit_gs(simple.sel(dDDSred = dDDS))\n",
    "    amp_se[dDDS] = ampl"
   ]
  },
  {
   "cell_type": "code",
   "execution_count": 132,
   "metadata": {},
   "outputs": [
    {
     "output_type": "execute_result",
     "data": {
      "text/plain": [
       "-5.0    1.727588e+12\n",
       "-4.0    2.521422e+12\n",
       "-3.0    3.414137e+12\n",
       "-2.0    4.295330e+12\n",
       "-1.0    4.900498e+12\n",
       " 0.0    4.743143e+12\n",
       " 1.0    3.877848e+12\n",
       " 2.0    1.993474e+12\n",
       " 3.0    2.101451e+12\n",
       " 4.0    1.290472e+12\n",
       "dtype: float64"
      ]
     },
     "metadata": {},
     "execution_count": 132
    }
   ],
   "source": [
    "amp_se"
   ]
  },
  {
   "cell_type": "code",
   "execution_count": 133,
   "metadata": {},
   "outputs": [
    {
     "output_type": "display_data",
     "data": {
      "text/plain": "Canvas(toolbar=Toolbar(toolitems=[('Home', 'Reset original view', 'home', 'home'), ('Back', 'Back to previous …",
      "application/vnd.jupyter.widget-view+json": {
       "version_major": 2,
       "version_minor": 0,
       "model_id": "94f2a0975b57466d89d5a1dc6d5ba822"
      }
     },
     "metadata": {}
    },
    {
     "output_type": "execute_result",
     "data": {
      "text/plain": [
       "<AxesSubplot:>"
      ]
     },
     "metadata": {},
     "execution_count": 133
    }
   ],
   "source": [
    "fig, ax = plt.subplots()\n",
    "amp_se.plot(ax=ax,marker = 'o')"
   ]
  },
  {
   "cell_type": "code",
   "execution_count": 134,
   "metadata": {},
   "outputs": [
    {
     "output_type": "display_data",
     "data": {
      "text/plain": "Canvas(toolbar=Toolbar(toolitems=[('Home', 'Reset original view', 'home', 'home'), ('Back', 'Back to previous …",
      "application/vnd.jupyter.widget-view+json": {
       "version_major": 2,
       "version_minor": 0,
       "model_id": "4220ca61e8d84708b042b11aff9cb73f"
      }
     },
     "metadata": {}
    },
    {
     "output_type": "execute_result",
     "data": {
      "text/plain": [
       "<lmfit.model.ModelResult at 0x207d68001f0>"
      ],
      "text/html": "<h2> Model</h2> Model(lorentzian) <h2>Fit Statistics</h2><table><tr><td>fitting method</td><td>leastsq</td><td></td></tr><tr><td># function evals</td><td>54</td><td></td></tr><tr><td># data points</td><td>10</td><td></td></tr><tr><td># variables</td><td>3</td><td></td></tr><tr><td>chi-square</td><td> 5.6819e+23</td><td></td></tr><tr><td>reduced chi-square</td><td> 8.1170e+22</td><td></td></tr><tr><td>Akaike info crit.</td><td> 529.941583</td><td></td></tr><tr><td>Bayesian info crit.</td><td> 530.849338</td><td></td></tr></table><h2>Variables</h2><table><tr><th> name </th><th> value </th><th> standard error </th><th> relative error </th><th> initial value </th><th> min </th><th> max </th><th> vary </th><th> expression </th></tr><tr><td> amplitude </td><td>  4.6987e+13 </td><td>  2.2116e+12 </td><td> (4.71%) </td><td> 1000000000000.0 </td><td>        -inf </td><td>         inf </td><td> True </td><td>  </td></tr><tr><td> center </td><td> -0.89058008 </td><td>  0.11453517 </td><td> (12.86%) </td><td> 0 </td><td>        -inf </td><td>         inf </td><td> True </td><td>  </td></tr><tr><td> sigma </td><td>  2.98053343 </td><td>  0.19806785 </td><td> (6.65%) </td><td> 4 </td><td>        -inf </td><td>         inf </td><td> True </td><td>  </td></tr><tr><td> fwhm </td><td>  5.96106686 </td><td>  0.39613570 </td><td> (6.65%) </td><td> 8.0 </td><td>        -inf </td><td>         inf </td><td> False </td><td> 2.0000000*sigma </td></tr><tr><td> height </td><td>  5.0180e+12 </td><td>  1.9547e+11 </td><td> (3.90%) </td><td> 79577475000.0 </td><td>        -inf </td><td>         inf </td><td> False </td><td> 0.3183099*amplitude/max(2.220446049250313e-16, sigma) </td></tr></table><h2>Correlations (unreported correlations are < 0.100)</h2><table><tr><td>amplitude</td><td>sigma</td><td>0.8175</td></tr></table>"
     },
     "metadata": {},
     "execution_count": 134
    }
   ],
   "source": [
    "from lmfit.models import LorentzianModel\n",
    "\n",
    "model = LorentzianModel()\n",
    "params = model.make_params()\n",
    "params.add('center', value = 0)\n",
    "params.add('sigma', value = 4 )\n",
    "params.add('amplitude', value = 1e12 )\n",
    "\n",
    "fit_result =  model.fit(amp_se.array.to_numpy(), params=params, x = amp_se.index.to_list())\n",
    "fit_result.plot()\n",
    "fit_result"
   ]
  },
  {
   "cell_type": "code",
   "execution_count": 226,
   "metadata": {},
   "outputs": [
    {
     "output_type": "display_data",
     "data": {
      "text/plain": "Canvas(toolbar=Toolbar(toolitems=[('Home', 'Reset original view', 'home', 'home'), ('Back', 'Back to previous …",
      "application/vnd.jupyter.widget-view+json": {
       "version_major": 2,
       "version_minor": 0,
       "model_id": "b9584193e80f43a2b322dc67bcd2ac04"
      }
     },
     "metadata": {}
    }
   ],
   "source": []
  },
  {
   "cell_type": "code",
   "execution_count": 158,
   "metadata": {},
   "outputs": [
    {
     "output_type": "display_data",
     "data": {
      "text/plain": "Canvas(toolbar=Toolbar(toolitems=[('Home', 'Reset original view', 'home', 'home'), ('Back', 'Back to previous …",
      "application/vnd.jupyter.widget-view+json": {
       "version_major": 2,
       "version_minor": 0,
       "model_id": "f131f7e1cf2c4bc39c787e7708f93eaf"
      }
     },
     "metadata": {}
    },
    {
     "output_type": "execute_result",
     "data": {
      "text/plain": [
       "(<Figure size 640x640 with 4 Axes>, GridSpec(2, 1, height_ratios=[1, 4]))"
      ]
     },
     "metadata": {},
     "execution_count": 158
    }
   ],
   "source": [
    "ampl, res = fit_gs(simple.sel(dDDSred = -4))\n",
    "res.plot()"
   ]
  },
  {
   "cell_type": "code",
   "execution_count": 15,
   "metadata": {},
   "outputs": [
    {
     "output_type": "display_data",
     "data": {
      "text/plain": "Canvas(toolbar=Toolbar(toolitems=[('Home', 'Reset original view', 'home', 'home'), ('Back', 'Back to previous …",
      "application/vnd.jupyter.widget-view+json": {
       "version_major": 2,
       "version_minor": 0,
       "model_id": "042b9f94ab614fdd9e330f3d449dc7f1"
      }
     },
     "metadata": {}
    }
   ],
   "source": [
    "# build_simple imaging\n",
    "\n",
    "background = 0  # Set background to 0 because obviously the image sequence was not correct\n",
    "# background = ground_state_images.image_05.mean(\"tmstp\")\n",
    "\n",
    "imaging_simple = ra.AbsorptionImaging(absorption - background, light.mean(\"tmstp\") - background, t_exp=None, binning=2)\n",
    "density2 = imaging_simple.density.mean(\"tmstp\").where(square_mask)\n",
    "\n",
    "fig, ax = plt.subplots(figsize=(6, 2))\n",
    "((density - density2) / density).T.plot(ax=ax, robust=True);\n",
    "ax.set_xlabel(\"x [$\\mu$m]\")\n",
    "ax.set_ylabel(\"y [$\\mu$m]\")\n",
    "fig.tight_layout()"
   ]
  },
  {
   "cell_type": "code",
   "execution_count": 18,
   "metadata": {},
   "outputs": [
    {
     "output_type": "display_data",
     "data": {
      "text/plain": "Canvas(toolbar=Toolbar(toolitems=[('Home', 'Reset original view', 'home', 'home'), ('Back', 'Back to previous …",
      "application/vnd.jupyter.widget-view+json": {
       "version_major": 2,
       "version_minor": 0,
       "model_id": "2c97757379b84a31a8598fa4e583c57b"
      }
     },
     "metadata": {}
    }
   ],
   "source": [
    "# build_simple imaging\n",
    "\n",
    "background = 0  # Set background to 0 because obviously the image sequence was not correct\n",
    "# background = ground_state_images.image_05.mean(\"tmstp\")\n",
    "\n",
    "imaging_simple = ra.AbsorptionImaging(absorption - background, light.mean(\"tmstp\") - background, t_exp=None, binning=2)\n",
    "density2 = imaging_simple.density.mean(\"tmstp\").where(square_mask)\n",
    "\n",
    "fig, ax = plt.subplots(figsize=(6, 2))\n",
    "((density - density2) / density).sel(y=0, method=\"nearest\").plot(ax=ax);\n",
    "ax.set_xlabel(\"x [$\\mu$m]\")\n",
    "ax.set_ylabel(\"y [$\\mu$m]\")\n",
    "fig.tight_layout()"
   ]
  },
  {
   "cell_type": "markdown",
   "metadata": {},
   "source": [
    " ## Advanced analysis involving Principle component analysis (PCA)"
   ]
  },
  {
   "cell_type": "code",
   "execution_count": 112,
   "metadata": {},
   "outputs": [
    {
     "output_type": "display_data",
     "data": {
      "text/plain": "Canvas(toolbar=Toolbar(toolitems=[('Home', 'Reset original view', 'home', 'home'), ('Back', 'Back to previous …",
      "application/vnd.jupyter.widget-view+json": {
       "version_major": 2,
       "version_minor": 0,
       "model_id": "e73c07d6807f4cfdbf96b4663c4ccd0c"
      }
     },
     "metadata": {}
    }
   ],
   "source": [
    "# Select atom mask\n",
    "\n",
    "atom_mask = images.elliptical_mask.get_mask(*[-220, 0, 350, 200])\n",
    "\n",
    "fig, ax = plt.subplots(figsize=(6, 2))\n",
    "density.where(np.logical_not(atom_mask)).T.plot(ax=ax, robust=True);\n",
    "ax.set_xlabel(\"x [$\\mu$m]\")\n",
    "ax.set_ylabel(\"y [$\\mu$m]\")\n",
    "fig.tight_layout()"
   ]
  },
  {
   "cell_type": "code",
   "execution_count": 118,
   "metadata": {},
   "outputs": [],
   "source": [
    "pca = light.pca(n_components=1)\n",
    "no_atoms_mask = np.logical_not(atom_mask)\n",
    "light_images = pca.find_references(absorption, no_atoms_mask)\n",
    "\n",
    "ground_state_imaging = ra.AbsorptionImaging(absorption.where(square_mask) - background, light_images - background, t_exp=None, binning=2)"
   ]
  },
  {
   "cell_type": "code",
   "execution_count": 119,
   "metadata": {},
   "outputs": [
    {
     "output_type": "display_data",
     "data": {
      "text/plain": "Canvas(toolbar=Toolbar(toolitems=[('Home', 'Reset original view', 'home', 'home'), ('Back', 'Back to previous …",
      "application/vnd.jupyter.widget-view+json": {
       "version_major": 2,
       "version_minor": 0,
       "model_id": "c9b9edd382e542bc9c905317367de722"
      }
     },
     "metadata": {}
    }
   ],
   "source": [
    "## Select atom mask\n",
    "\n",
    "atom_mask = images.elliptical_mask.get_mask(*[-220, 0, 350, 200])\n",
    "\n",
    "fig, ax = plt.subplots(figsize=(6, 2))\n",
    "ground_state_imaging.density.mean(\"tmstp\").T.plot(ax=ax, robust=True)\n",
    "ax.set_xlabel(\"x [$\\mu$m]\")\n",
    "ax.set_ylabel(\"y [$\\mu$m]\")\n",
    "fig.tight_layout()"
   ]
  },
  {
   "cell_type": "code",
   "execution_count": 120,
   "metadata": {},
   "outputs": [
    {
     "output_type": "display_data",
     "data": {
      "text/plain": "Canvas(toolbar=Toolbar(toolitems=[('Home', 'Reset original view', 'home', 'home'), ('Back', 'Back to previous …",
      "application/vnd.jupyter.widget-view+json": {
       "version_major": 2,
       "version_minor": 0,
       "model_id": "2ad453f7e6144620a7b54848134a053c"
      }
     },
     "metadata": {}
    }
   ],
   "source": [
    "## compare both analysis methods\n",
    "\n",
    "atom_mask = images.elliptical_mask.get_mask(*[-220, 0, 350, 200])\n",
    "\n",
    "fig, ax = plt.subplots(figsize=(6, 2))\n",
    "(ground_state_imaging.density.mean(\"tmstp\") - density_removed_edges).T.plot(ax=ax, robust=True);\n",
    "ax.set_xlabel(\"x [$\\mu$m]\")\n",
    "ax.set_ylabel(\"y [$\\mu$m]\")\n",
    "fig.tight_layout()"
   ]
  },
  {
   "source": [
    "The analysis with pca is problematic for multiple reasons:\n",
    "\n",
    "- The imaging timing was not correct and we still see some remanences of the shifting on the andor sensor\n",
    "- The background picture is not useful\n",
    "- The size of the atom cloud is so large, that the remaining space for pca is too little\n",
    "\n",
    "The pca tries to avoid these features and does weird things. We will continue without pca"
   ],
   "cell_type": "markdown",
   "metadata": {}
  },
  {
   "cell_type": "code",
   "execution_count": 124,
   "metadata": {},
   "outputs": [],
   "source": [
    "ground_state_imaging = imaging_simple"
   ]
  },
  {
   "cell_type": "code",
   "execution_count": 130,
   "metadata": {},
   "outputs": [
    {
     "output_type": "display_data",
     "data": {
      "text/plain": "Canvas(toolbar=Toolbar(toolitems=[('Home', 'Reset original view', 'home', 'home'), ('Back', 'Back to previous …",
      "application/vnd.jupyter.widget-view+json": {
       "version_major": 2,
       "version_minor": 0,
       "model_id": "48828889064b45da8c358f5c658d0d86"
      }
     },
     "metadata": {}
    },
    {
     "output_type": "execute_result",
     "data": {
      "text/plain": [
       "[<matplotlib.lines.Line2D at 0x24359d70460>]"
      ]
     },
     "metadata": {},
     "execution_count": 130
    }
   ],
   "source": [
    "fig, ax = plt.subplots()\n",
    "\n",
    "ground_state_imaging.density.where(atom_mask).mean([\"x\", \"y\"]).plot(ax=ax)\n"
   ]
  },
  {
   "cell_type": "code",
   "execution_count": 162,
   "metadata": {},
   "outputs": [],
   "source": [
    "model = ra.Gaussian2D()\n",
    "params = model.make_params()\n",
    "params.add(\"amp\", value=12e11, min=0, max=4e11)\n",
    "params.add(\"cen_x\", value=-244, vary=True)\n",
    "params.add(\"cen_y\", value=30, vary=True)\n",
    "params.add(\"sig_x\", value=250, min=0, vary=False)\n",
    "params.add(\"sig_y\", value=250, min=0, vary=False) \t\n",
    "params.add(\"offset\", value=0 , vary=True) \t\n",
    "params.add(\"theta\", value=0, vary=False) \n",
    "\n",
    "density = ground_state_imaging.density.mean(\"tmstp\").where(square_mask)\n",
    "fit_result =  model.fit(density, params=params, method=\"powell\")"
   ]
  },
  {
   "cell_type": "code",
   "execution_count": 164,
   "metadata": {},
   "outputs": [
    {
     "output_type": "display_data",
     "data": {
      "text/plain": "Canvas(toolbar=Toolbar(toolitems=[('Home', 'Reset original view', 'home', 'home'), ('Back', 'Back to previous …",
      "application/vnd.jupyter.widget-view+json": {
       "version_major": 2,
       "version_minor": 0,
       "model_id": "1108320c68284ab1a8a30bea90f9fce1"
      }
     },
     "metadata": {}
    },
    {
     "output_type": "execute_result",
     "data": {
      "text/plain": [
       "<rydanalysis.fitting.fitting_2d.model2d.ModelResult2d at 0x24361c63970>"
      ],
      "text/html": "<h2> Model</h2> Model(gaussian) <h2>Fit Statistics</h2><table><tr><td>fitting method</td><td>Powell</td><td></td></tr><tr><td># function evals</td><td>279</td><td></td></tr><tr><td># data points</td><td>9784</td><td></td></tr><tr><td># variables</td><td>4</td><td></td></tr><tr><td>chi-square</td><td> 1.5127e+24</td><td></td></tr><tr><td>reduced chi-square</td><td> 1.5467e+20</td><td></td></tr><tr><td>Akaike info crit.</td><td> 454840.878</td><td></td></tr><tr><td>Bayesian info crit.</td><td> 454869.633</td><td></td></tr></table><h2>Variables</h2><table><tr><th> name </th><th> value </th><th> initial value </th><th> min </th><th> max </th><th> vary </th></tr><tr><td> amp </td><td>  1.6599e+11 </td><td> 400000000000.0 </td><td>  0.00000000 </td><td>  4.0000e+11 </td><td> True </td></tr><tr><td> cen_x </td><td> -252.319698 </td><td> -244 </td><td>        -inf </td><td>         inf </td><td> True </td></tr><tr><td> cen_y </td><td> -34.1764854 </td><td> 30 </td><td>        -inf </td><td>         inf </td><td> True </td></tr><tr><td> sig_x </td><td>  250.000000 </td><td> 250 </td><td>  0.00000000 </td><td>         inf </td><td> False </td></tr><tr><td> sig_y </td><td>  250.000000 </td><td> 250 </td><td>  0.00000000 </td><td>         inf </td><td> False </td></tr><tr><td> offset </td><td>  4.8564e+09 </td><td> 0 </td><td>        -inf </td><td>         inf </td><td> True </td></tr><tr><td> theta </td><td>  0.00000000 </td><td> 0 </td><td>        -inf </td><td>         inf </td><td> False </td></tr></table>"
     },
     "metadata": {},
     "execution_count": 164
    }
   ],
   "source": [
    "fit_result.plot()\n",
    "fit_result"
   ]
  },
  {
   "cell_type": "markdown",
   "metadata": {},
   "source": [
    "## Depletion Imaging"
   ]
  },
  {
   "cell_type": "code",
   "execution_count": 177,
   "metadata": {},
   "outputs": [],
   "source": [
    "def get_rydberg_density(images, tCAM=0.02, do_pca=False):\n",
    "    background = 0  # images.image_05.where(square_mask).mean(\"shot\")\n",
    "\n",
    "    gs_images = images.image_01.sel(tCAM=0).where(square_mask) - background\n",
    "    rydberg_images = images.image_01.sel(tCAM=tCAM, method=\"bfill\").where(square_mask) - background\n",
    "    \n",
    "    if do_pca:\n",
    "        pca = gs_images.pca(n_components=1)\n",
    "        optimized_gs_images = pca.find_references(rydberg_images, np.logical_not(mask))\n",
    "    else:\n",
    "        optimized_gs_images = gs_images.mean(\"tmstp\")\n",
    "    return -ra.get_density(rydberg_images, optimized_gs_images, saturation_parameter=0)\n",
    "\n",
    "def fit_rydberg_density(rydberg_density, params=None):\n",
    "    model = ra.Gaussian2D()\n",
    "    if params is None:\n",
    "        params = model.make_params()\n",
    "        params.add(\"amp\", value=1e11, min=0, max=4e11)\n",
    "        params.add(\"cen_x\", value=-218, vary=True)\n",
    "        params.add(\"cen_y\", value=30, vary=True)\n",
    "        params.add(\"sig_x\", value=100, min=0, vary=True)\n",
    "        params.add(\"sig_y\", value=50, min=0, vary=True) \t\n",
    "        params.add(\"offset\", value=0 , vary=True) \t\n",
    "        params.add(\"theta\", value=0, vary=False) \n",
    "\n",
    "    return model.fit(rydberg_density.mean(\"tmstp\"), params=params)\n",
    "\n",
    "def get_n_Ry(fit_result):\n",
    "    return 2 * np.pi * np.abs(\n",
    "        fit_result.best_values['sig_x'] * fit_result.best_values['sig_y']*1e-12 * \n",
    "        fit_result.best_values['amp'])"
   ]
  },
  {
   "cell_type": "code",
   "execution_count": 251,
   "metadata": {},
   "outputs": [],
   "source": [
    "tCAM = np.unique(images.tCAM)[5]"
   ]
  },
  {
   "cell_type": "code",
   "execution_count": 252,
   "metadata": {},
   "outputs": [],
   "source": [
    "rydberg_density = get_rydberg_density(images, tCAM=tCAM)"
   ]
  },
  {
   "cell_type": "code",
   "execution_count": 253,
   "metadata": {},
   "outputs": [
    {
     "output_type": "display_data",
     "data": {
      "text/plain": "Canvas(toolbar=Toolbar(toolitems=[('Home', 'Reset original view', 'home', 'home'), ('Back', 'Back to previous …",
      "application/vnd.jupyter.widget-view+json": {
       "version_major": 2,
       "version_minor": 0,
       "model_id": "361dbb0476a04b62aaf095044f586022"
      }
     },
     "metadata": {}
    },
    {
     "output_type": "execute_result",
     "data": {
      "text/plain": [
       "<matplotlib.collections.QuadMesh at 0x243857df070>"
      ]
     },
     "metadata": {},
     "execution_count": 253
    }
   ],
   "source": [
    "fig, ax = plt.subplots()\n",
    "rydberg_density.mean(\"tmstp\").T.plot(ax=ax)"
   ]
  },
  {
   "cell_type": "code",
   "execution_count": 254,
   "metadata": {},
   "outputs": [
    {
     "output_type": "display_data",
     "data": {
      "text/plain": "Canvas(toolbar=Toolbar(toolitems=[('Home', 'Reset original view', 'home', 'home'), ('Back', 'Back to previous …",
      "application/vnd.jupyter.widget-view+json": {
       "version_major": 2,
       "version_minor": 0,
       "model_id": "31e0012d8bdf4fbf8ecb68b1ca86b562"
      }
     },
     "metadata": {}
    },
    {
     "output_type": "execute_result",
     "data": {
      "text/plain": [
       "Text(0, 0.5, 'Rydbberg density (integrated along x)')"
      ]
     },
     "metadata": {},
     "execution_count": 254
    }
   ],
   "source": [
    "fig, ax = plt.subplots()\n",
    "\n",
    "rydberg_density.mean(\"tmstp\").sel(x=-233, method=\"nearest\").plot(ax=ax)\n",
    "ax.set_ylabel(\"Rydbberg density (integrated along x)\")"
   ]
  },
  {
   "cell_type": "code",
   "execution_count": 255,
   "metadata": {},
   "outputs": [
    {
     "output_type": "execute_result",
     "data": {
      "text/plain": [
       "601.682345047004"
      ]
     },
     "metadata": {},
     "execution_count": 255
    }
   ],
   "source": [
    "fit_result = fit_rydberg_density(rydberg_density, params=None)\n",
    "n_Ry = get_n_Ry(fit_result)\n",
    "n_Ry"
   ]
  },
  {
   "cell_type": "code",
   "execution_count": 256,
   "metadata": {},
   "outputs": [
    {
     "output_type": "display_data",
     "data": {
      "text/plain": "Canvas(toolbar=Toolbar(toolitems=[('Home', 'Reset original view', 'home', 'home'), ('Back', 'Back to previous …",
      "application/vnd.jupyter.widget-view+json": {
       "version_major": 2,
       "version_minor": 0,
       "model_id": "91b7c581c2a7424fa1964df62a45f146"
      }
     },
     "metadata": {}
    },
    {
     "output_type": "execute_result",
     "data": {
      "text/plain": [
       "<rydanalysis.fitting.fitting_2d.model2d.ModelResult2d at 0x2438693d370>"
      ],
      "text/html": "<h2> Model</h2> Model(gaussian) <h2>Fit Statistics</h2><table><tr><td>fitting method</td><td>leastsq</td><td></td></tr><tr><td># function evals</td><td>86</td><td></td></tr><tr><td># data points</td><td>9784</td><td></td></tr><tr><td># variables</td><td>6</td><td></td></tr><tr><td>chi-square</td><td> 3.7301e+23</td><td></td></tr><tr><td>reduced chi-square</td><td> 3.8148e+19</td><td></td></tr><tr><td>Akaike info crit.</td><td> 441146.949</td><td></td></tr><tr><td>Bayesian info crit.</td><td> 441190.080</td><td></td></tr></table><h2>Variables</h2><table><tr><th> name </th><th> value </th><th> standard error </th><th> relative error </th><th> initial value </th><th> min </th><th> max </th><th> vary </th></tr><tr><td> amp </td><td>  5.1706e+10 </td><td>  4.9844e+08 </td><td> (0.96%) </td><td> 100000000000.0 </td><td>  0.00000000 </td><td>  4.0000e+11 </td><td> True </td></tr><tr><td> cen_x </td><td> -224.722764 </td><td>  0.44779081 </td><td> (0.20%) </td><td> -218 </td><td>        -inf </td><td>         inf </td><td> True </td></tr><tr><td> cen_y </td><td>  24.3354157 </td><td>  0.38210127 </td><td> (1.57%) </td><td> 30 </td><td>        -inf </td><td>         inf </td><td> True </td></tr><tr><td> sig_x </td><td>  47.0456821 </td><td>  0.46454199 </td><td> (0.99%) </td><td> 100 </td><td>  0.00000000 </td><td>         inf </td><td> True </td></tr><tr><td> sig_y </td><td>  39.3667808 </td><td>  0.41501795 </td><td> (1.05%) </td><td> 50 </td><td>  0.00000000 </td><td>         inf </td><td> True </td></tr><tr><td> offset </td><td>  3.2891e+10 </td><td>  70318483.9 </td><td> (0.21%) </td><td> 0 </td><td>        -inf </td><td>         inf </td><td> True </td></tr><tr><td> theta </td><td>  0.00000000 </td><td>  0.00000000 </td><td>  </td><td> 0 </td><td>        -inf </td><td>         inf </td><td> False </td></tr></table><h2>Correlations (unreported correlations are < 0.100)</h2><table><tr><td>amp</td><td>sig_y</td><td>-0.5011</td></tr><tr><td>amp</td><td>sig_x</td><td>-0.4668</td></tr><tr><td>sig_x</td><td>offset</td><td>-0.2661</td></tr><tr><td>sig_y</td><td>offset</td><td>-0.1936</td></tr></table>"
     },
     "metadata": {},
     "execution_count": 256
    }
   ],
   "source": [
    "fig, (ax0, ax1) = plt.subplots(2, figsize=(12, 8))\n",
    "fit_result.plot_residuals(ax=ax0)\n",
    "fit_result.plot_fit(ax=ax1)\n",
    "fit_result"
   ]
  },
  {
   "cell_type": "code",
   "execution_count": 257,
   "metadata": {},
   "outputs": [],
   "source": [
    "params = fit_result.params\n",
    "params[\"cen_x\"].vary = True\n",
    "params[\"cen_y\"].vary = True\n",
    "params[\"sig_x\"].vary = True\n",
    "params[\"sig_y\"].vary = True"
   ]
  },
  {
   "cell_type": "code",
   "execution_count": 258,
   "metadata": {},
   "outputs": [
    {
     "output_type": "display_data",
     "data": {
      "text/plain": "HBox(children=(HTML(value=''), FloatProgress(value=0.0, max=14.0), HTML(value='')))",
      "application/vnd.jupyter.widget-view+json": {
       "version_major": 2,
       "version_minor": 0,
       "model_id": "302b41448ab142d28ddd6ee4c8a3a052"
      }
     },
     "metadata": {}
    },
    {
     "output_type": "stream",
     "name": "stdout",
     "text": [
      "\n"
     ]
    }
   ],
   "source": [
    "nRy_series = pd.Series(dtype=float)\n",
    "for tCAM, _ in tqdm(list(images.groupby(\"tCAM\"))[2:]):\n",
    "    rydberg_density = get_rydberg_density(images, tCAM=tCAM)\n",
    "    fit_result = fit_rydberg_density(rydberg_density, params=params)\n",
    "    n_Ry = get_n_Ry(fit_result)\n",
    "    nRy_series[tCAM] = n_Ry"
   ]
  },
  {
   "cell_type": "code",
   "execution_count": 259,
   "metadata": {},
   "outputs": [],
   "source": [
    "nRy_series.to_csv(\"n_Ry_depletion.csv\")"
   ]
  },
  {
   "cell_type": "code",
   "execution_count": 260,
   "metadata": {},
   "outputs": [
    {
     "output_type": "display_data",
     "data": {
      "text/plain": "Canvas(toolbar=Toolbar(toolitems=[('Home', 'Reset original view', 'home', 'home'), ('Back', 'Back to previous …",
      "application/vnd.jupyter.widget-view+json": {
       "version_major": 2,
       "version_minor": 0,
       "model_id": "a6fc055a821048f0bc6d159e740ce554"
      }
     },
     "metadata": {}
    },
    {
     "output_type": "execute_result",
     "data": {
      "text/plain": [
       "<AxesSubplot:>"
      ]
     },
     "metadata": {},
     "execution_count": 260
    }
   ],
   "source": [
    "fig, ax = plt.subplots()\n",
    "\n",
    "nRy_series.plot(ax=ax)\n",
    "# ax.set_ylim(0, 13000)"
   ]
  },
  {
   "cell_type": "markdown",
   "metadata": {},
   "source": [
    "Compare to counts"
   ]
  },
  {
   "cell_type": "code",
   "execution_count": 23,
   "metadata": {},
   "outputs": [
    {
     "data": {
      "application/vnd.jupyter.widget-view+json": {
       "model_id": "deb980c747ea4e2abdd19c4ca1fe9e2c",
       "version_major": 2,
       "version_minor": 0
      },
      "text/plain": [
       "HBox(children=(HTML(value=''), FloatProgress(value=0.0, max=1917.0), HTML(value='')))"
      ]
     },
     "metadata": {},
     "output_type": "display_data"
    },
    {
     "name": "stdout",
     "output_type": "stream",
     "text": [
      "\n"
     ]
    }
   ],
   "source": [
    "peak_df = data.scope_traces.peaks_summary.get_peak_description(width=2e-9, height=0.0007, distance=None)"
   ]
  },
  {
   "cell_type": "code",
   "execution_count": 24,
   "metadata": {},
   "outputs": [],
   "source": [
    "peak_df.to_csv(\"peak_df.csv\")"
   ]
  },
  {
   "cell_type": "code",
   "execution_count": 208,
   "metadata": {},
   "outputs": [],
   "source": [
    "peak_df = pd.read_csv(\"peak_df.csv\", index_col=[0, 1, 2])\n",
    "nRy_series = pd.read_csv(\"n_Ry_depletion.csv\", index_col=0, squeeze=True)"
   ]
  },
  {
   "cell_type": "code",
   "execution_count": 209,
   "metadata": {},
   "outputs": [],
   "source": [
    "counts = ra.summarize_peak_description(peak_df).counts\n",
    "ion_int = data.scope_traces.peaks_summary.integrate(height = 0.0007)\n",
    "# ion_int.load()"
   ]
  },
  {
   "cell_type": "code",
   "execution_count": 210,
   "metadata": {},
   "outputs": [
    {
     "output_type": "display_data",
     "data": {
      "text/plain": "Canvas(toolbar=Toolbar(toolitems=[('Home', 'Reset original view', 'home', 'home'), ('Back', 'Back to previous …",
      "application/vnd.jupyter.widget-view+json": {
       "version_major": 2,
       "version_minor": 0,
       "model_id": "b442e476f5404289a0d214e4381c7040"
      }
     },
     "metadata": {}
    }
   ],
   "source": [
    "fig, ax = plt.subplots()\n",
    "\n",
    "# plot ion counts\n",
    "\n",
    "groupby = counts.groupby(\"tCAM\")\n",
    "detection_efficiency = 0.32\n",
    "ax.errorbar(groupby.mean().tCAM*1e3, groupby.mean()/detection_efficiency, groupby.reduce(sem), label=r\"ion count / {}%\".format(detection_efficiency * 100),\n",
    "            linestyle='', marker='o')\n",
    "\n",
    "# plot ion integrated\n",
    "\n",
    "groupby = ion_int.groupby(\"tCAM\")\n",
    "#ax.errorbar(groupby.mean().tCAM*1e3, groupby.mean()/0.02, groupby.reduce(sem), label=\"ion integrated / 0.48%\",\n",
    "#            linestyle='', marker='.')\n",
    "\n",
    "# plot depletion imaging\n",
    "ax.plot(nRy_series.index*1e3, nRy_series, label=\"depletion imaging\",\n",
    "            linestyle='', marker='o')\n",
    "\n",
    "ax.legend()\n",
    "ax.set_xlabel(r\"time [$\\mu$s]\")\n",
    "ax.set_ylabel(\"Rydberg number\")\n",
    "fig.savefig(\"depletion.png\", dpi=300, bbox_inches=\"tight\")"
   ]
  },
  {
   "cell_type": "code",
   "execution_count": 250,
   "metadata": {},
   "outputs": [
    {
     "output_type": "display_data",
     "data": {
      "text/plain": "Canvas(toolbar=Toolbar(toolitems=[('Home', 'Reset original view', 'home', 'home'), ('Back', 'Back to previous …",
      "application/vnd.jupyter.widget-view+json": {
       "version_major": 2,
       "version_minor": 0,
       "model_id": "574de45cadb1405195840b36ed6627b3"
      }
     },
     "metadata": {}
    }
   ],
   "source": [
    "fig, ax = plt.subplots()\n",
    "\n",
    "# plot ion counts\n",
    "counts = ra.summarize_peak_description(peak_df).counts\n",
    "groupby = counts.groupby(\"tCAM\")\n",
    "ax.errorbar(nRy_series, groupby.mean()[2:], groupby.reduce(sem)[2:],\n",
    "            linestyle='', marker='o')\n",
    "ax.plot([0, 1000], [0, 400])\n",
    "ax.set_xlabel(r\"rydberg (depletion imaging)\")\n",
    "ax.set_ylabel(\"rydberg (ions)\")\n",
    "ax.set_xlim(left=0)\n",
    "ax.set_ylim(bottom=0)\n",
    "fig.savefig(\"depletion_ion_vs_depletion.png\", dpi=300, bbox_inches=\"tight\")"
   ]
  },
  {
   "cell_type": "code",
   "execution_count": 248,
   "metadata": {},
   "outputs": [
    {
     "output_type": "execute_result",
     "data": {
      "text/plain": [
       "<lmfit.model.ModelResult at 0x243850e7ee0>"
      ],
      "text/html": "<h2> Model</h2> Model(exponential_sat) <h2>Fit Statistics</h2><table><tr><td>fitting method</td><td>leastsq</td><td></td></tr><tr><td># function evals</td><td>16</td><td></td></tr><tr><td># data points</td><td>14</td><td></td></tr><tr><td># variables</td><td>2</td><td></td></tr><tr><td>chi-square</td><td> 29217.3224</td><td></td></tr><tr><td>reduced chi-square</td><td> 2434.77687</td><td></td></tr><tr><td>Akaike info crit.</td><td> 111.008436</td><td></td></tr><tr><td>Bayesian info crit.</td><td> 112.286551</td><td></td></tr></table><h2>Variables</h2><table><tr><th> name </th><th> value </th><th> standard error </th><th> relative error </th><th> initial value </th><th> min </th><th> max </th><th> vary </th></tr><tr><td> amp </td><td>  1399.74270 </td><td>  2181.11456 </td><td> (155.82%) </td><td> 350 </td><td>  0.00000000 </td><td>         inf </td><td> True </td></tr><tr><td> tau </td><td>  3850.25745 </td><td>  6857.77952 </td><td> (178.11%) </td><td> 1000 </td><td>  0.00000000 </td><td>         inf </td><td> True </td></tr><tr><td> offset </td><td>  0.00000000 </td><td>  0.00000000 </td><td>  </td><td> 0 </td><td>        -inf </td><td>         inf </td><td> False </td></tr></table><h2>Correlations (unreported correlations are < 0.100)</h2><table><tr><td>amp</td><td>tau</td><td>0.9996</td></tr></table>"
     },
     "metadata": {},
     "execution_count": 248
    }
   ],
   "source": [
    "exp_sat_model = ra.ExpSatModel()\n",
    "exp_sat_params = exp_sat_model.make_params()\n",
    "exp_sat_params.add(\"amp\", value=350, min=0, vary=True)\n",
    "exp_sat_params.add(\"offset\", value=0, vary=False)\n",
    "exp_sat_params.add(\"tau\", value=1000, min=0, vary=True)\n",
    "exp_sat_fit = exp_sat_model.fit(groupby.mean()[2:], x=nRy_series, params=exp_sat_params)\n",
    "exp_sat_fit"
   ]
  },
  {
   "cell_type": "code",
   "execution_count": 249,
   "metadata": {},
   "outputs": [
    {
     "output_type": "display_data",
     "data": {
      "text/plain": "Canvas(toolbar=Toolbar(toolitems=[('Home', 'Reset original view', 'home', 'home'), ('Back', 'Back to previous …",
      "application/vnd.jupyter.widget-view+json": {
       "version_major": 2,
       "version_minor": 0,
       "model_id": "9af576822f1e4534873b3b413ac68117"
      }
     },
     "metadata": {}
    }
   ],
   "source": [
    "fig, ax = plt.subplots()\n",
    "\n",
    "ax.errorbar(nRy_series, groupby.mean()[2:], groupby.reduce(sem)[2:],\n",
    "            linestyle='', marker='o')\n",
    "x = np.linspace(0, max(nRy_series))\n",
    "ax.plot(x, exp_sat_fit.eval(x=x))\n",
    "ax.set_xlabel(r\"rydberg (depletion imaging)\")\n",
    "ax.set_ylabel(\"rydberg (ions)\")\n",
    "ax.set_xlim(left=0)\n",
    "ax.set_ylim(bottom=0)\n",
    "fig.savefig(\"try_exp_fit.png\", dpi=300, bbox_inches=\"tight\")"
   ]
  },
  {
   "cell_type": "code",
   "execution_count": null,
   "metadata": {},
   "outputs": [],
   "source": []
  }
 ],
 "metadata": {
  "kernelspec": {
   "display_name": "Python 3",
   "language": "python",
   "name": "python3"
  },
  "language_info": {
   "codemirror_mode": {
    "name": "ipython",
    "version": 3
   },
   "file_extension": ".py",
   "mimetype": "text/x-python",
   "name": "python",
   "nbconvert_exporter": "python",
   "pygments_lexer": "ipython3",
   "version": "3.8.5-final"
  }
 },
 "nbformat": 4,
 "nbformat_minor": 4
}