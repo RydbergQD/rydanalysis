{
 "cells": [
  {
   "cell_type": "code",
   "execution_count": 1,
   "metadata": {},
   "outputs": [],
   "source": [
    "%load_ext autoreload\r\n",
    "%autoreload 2\r\n",
    "\r\n",
    "import rydanalysis\r\n",
    "import rydanalysis as ra\r\n",
    "\r\n",
    "import matplotlib.pyplot as plt\r\n",
    "import numpy as np\r\n",
    "import pandas as pd\r\n",
    "import xarray as xr\r\n",
    "from scipy.signal import find_peaks\r\n",
    "from scipy.stats import sem\r\n",
    "from tqdm.notebook import tqdm\r\n",
    "import arc\r\n",
    "from pathlib import Path\r\n",
    "\r\n",
    "\r\n",
    "%matplotlib widget"
   ]
  },
  {
   "cell_type": "markdown",
   "metadata": {},
   "source": [
    "# Load data"
   ]
  },
  {
   "cell_type": "code",
   "execution_count": 2,
   "metadata": {},
   "outputs": [
    {
     "data": {
      "text/plain": "WindowsPath('d:/Dropbox/Rydberg/Software/analysis/test_fitting')"
     },
     "execution_count": 2,
     "metadata": {},
     "output_type": "execute_result"
    }
   ],
   "source": [
    "path = Path.cwd().parent\n",
    "path"
   ]
  },
  {
   "cell_type": "code",
   "execution_count": 3,
   "metadata": {},
   "outputs": [
    {
     "data": {
      "text/html": "<div><svg style=\"position: absolute; width: 0; height: 0; overflow: hidden\">\n<defs>\n<symbol id=\"icon-database\" viewBox=\"0 0 32 32\">\n<path d=\"M16 0c-8.837 0-16 2.239-16 5v4c0 2.761 7.163 5 16 5s16-2.239 16-5v-4c0-2.761-7.163-5-16-5z\"></path>\n<path d=\"M16 17c-8.837 0-16-2.239-16-5v6c0 2.761 7.163 5 16 5s16-2.239 16-5v-6c0 2.761-7.163 5-16 5z\"></path>\n<path d=\"M16 26c-8.837 0-16-2.239-16-5v6c0 2.761 7.163 5 16 5s16-2.239 16-5v-6c0 2.761-7.163 5-16 5z\"></path>\n</symbol>\n<symbol id=\"icon-file-text2\" viewBox=\"0 0 32 32\">\n<path d=\"M28.681 7.159c-0.694-0.947-1.662-2.053-2.724-3.116s-2.169-2.030-3.116-2.724c-1.612-1.182-2.393-1.319-2.841-1.319h-15.5c-1.378 0-2.5 1.121-2.5 2.5v27c0 1.378 1.122 2.5 2.5 2.5h23c1.378 0 2.5-1.122 2.5-2.5v-19.5c0-0.448-0.137-1.23-1.319-2.841zM24.543 5.457c0.959 0.959 1.712 1.825 2.268 2.543h-4.811v-4.811c0.718 0.556 1.584 1.309 2.543 2.268zM28 29.5c0 0.271-0.229 0.5-0.5 0.5h-23c-0.271 0-0.5-0.229-0.5-0.5v-27c0-0.271 0.229-0.5 0.5-0.5 0 0 15.499-0 15.5 0v7c0 0.552 0.448 1 1 1h7v19.5z\"></path>\n<path d=\"M23 26h-14c-0.552 0-1-0.448-1-1s0.448-1 1-1h14c0.552 0 1 0.448 1 1s-0.448 1-1 1z\"></path>\n<path d=\"M23 22h-14c-0.552 0-1-0.448-1-1s0.448-1 1-1h14c0.552 0 1 0.448 1 1s-0.448 1-1 1z\"></path>\n<path d=\"M23 18h-14c-0.552 0-1-0.448-1-1s0.448-1 1-1h14c0.552 0 1 0.448 1 1s-0.448 1-1 1z\"></path>\n</symbol>\n</defs>\n</svg>\n<style>/* CSS stylesheet for displaying xarray objects in jupyterlab.\n *\n */\n\n:root {\n  --xr-font-color0: var(--jp-content-font-color0, rgba(0, 0, 0, 1));\n  --xr-font-color2: var(--jp-content-font-color2, rgba(0, 0, 0, 0.54));\n  --xr-font-color3: var(--jp-content-font-color3, rgba(0, 0, 0, 0.38));\n  --xr-border-color: var(--jp-border-color2, #e0e0e0);\n  --xr-disabled-color: var(--jp-layout-color3, #bdbdbd);\n  --xr-background-color: var(--jp-layout-color0, white);\n  --xr-background-color-row-even: var(--jp-layout-color1, white);\n  --xr-background-color-row-odd: var(--jp-layout-color2, #eeeeee);\n}\n\nhtml[theme=dark],\nbody.vscode-dark {\n  --xr-font-color0: rgba(255, 255, 255, 1);\n  --xr-font-color2: rgba(255, 255, 255, 0.54);\n  --xr-font-color3: rgba(255, 255, 255, 0.38);\n  --xr-border-color: #1F1F1F;\n  --xr-disabled-color: #515151;\n  --xr-background-color: #111111;\n  --xr-background-color-row-even: #111111;\n  --xr-background-color-row-odd: #313131;\n}\n\n.xr-wrap {\n  display: block;\n  min-width: 300px;\n  max-width: 700px;\n}\n\n.xr-text-repr-fallback {\n  /* fallback to plain text repr when CSS is not injected (untrusted notebook) */\n  display: none;\n}\n\n.xr-header {\n  padding-top: 6px;\n  padding-bottom: 6px;\n  margin-bottom: 4px;\n  border-bottom: solid 1px var(--xr-border-color);\n}\n\n.xr-header > div,\n.xr-header > ul {\n  display: inline;\n  margin-top: 0;\n  margin-bottom: 0;\n}\n\n.xr-obj-type,\n.xr-array-name {\n  margin-left: 2px;\n  margin-right: 10px;\n}\n\n.xr-obj-type {\n  color: var(--xr-font-color2);\n}\n\n.xr-sections {\n  padding-left: 0 !important;\n  display: grid;\n  grid-template-columns: 150px auto auto 1fr 20px 20px;\n}\n\n.xr-section-item {\n  display: contents;\n}\n\n.xr-section-item input {\n  display: none;\n}\n\n.xr-section-item input + label {\n  color: var(--xr-disabled-color);\n}\n\n.xr-section-item input:enabled + label {\n  cursor: pointer;\n  color: var(--xr-font-color2);\n}\n\n.xr-section-item input:enabled + label:hover {\n  color: var(--xr-font-color0);\n}\n\n.xr-section-summary {\n  grid-column: 1;\n  color: var(--xr-font-color2);\n  font-weight: 500;\n}\n\n.xr-section-summary > span {\n  display: inline-block;\n  padding-left: 0.5em;\n}\n\n.xr-section-summary-in:disabled + label {\n  color: var(--xr-font-color2);\n}\n\n.xr-section-summary-in + label:before {\n  display: inline-block;\n  content: '►';\n  font-size: 11px;\n  width: 15px;\n  text-align: center;\n}\n\n.xr-section-summary-in:disabled + label:before {\n  color: var(--xr-disabled-color);\n}\n\n.xr-section-summary-in:checked + label:before {\n  content: '▼';\n}\n\n.xr-section-summary-in:checked + label > span {\n  display: none;\n}\n\n.xr-section-summary,\n.xr-section-inline-details {\n  padding-top: 4px;\n  padding-bottom: 4px;\n}\n\n.xr-section-inline-details {\n  grid-column: 2 / -1;\n}\n\n.xr-section-details {\n  display: none;\n  grid-column: 1 / -1;\n  margin-bottom: 5px;\n}\n\n.xr-section-summary-in:checked ~ .xr-section-details {\n  display: contents;\n}\n\n.xr-array-wrap {\n  grid-column: 1 / -1;\n  display: grid;\n  grid-template-columns: 20px auto;\n}\n\n.xr-array-wrap > label {\n  grid-column: 1;\n  vertical-align: top;\n}\n\n.xr-preview {\n  color: var(--xr-font-color3);\n}\n\n.xr-array-preview,\n.xr-array-data {\n  padding: 0 5px !important;\n  grid-column: 2;\n}\n\n.xr-array-data,\n.xr-array-in:checked ~ .xr-array-preview {\n  display: none;\n}\n\n.xr-array-in:checked ~ .xr-array-data,\n.xr-array-preview {\n  display: inline-block;\n}\n\n.xr-dim-list {\n  display: inline-block !important;\n  list-style: none;\n  padding: 0 !important;\n  margin: 0;\n}\n\n.xr-dim-list li {\n  display: inline-block;\n  padding: 0;\n  margin: 0;\n}\n\n.xr-dim-list:before {\n  content: '(';\n}\n\n.xr-dim-list:after {\n  content: ')';\n}\n\n.xr-dim-list li:not(:last-child):after {\n  content: ',';\n  padding-right: 5px;\n}\n\n.xr-has-index {\n  font-weight: bold;\n}\n\n.xr-var-list,\n.xr-var-item {\n  display: contents;\n}\n\n.xr-var-item > div,\n.xr-var-item label,\n.xr-var-item > .xr-var-name span {\n  background-color: var(--xr-background-color-row-even);\n  margin-bottom: 0;\n}\n\n.xr-var-item > .xr-var-name:hover span {\n  padding-right: 5px;\n}\n\n.xr-var-list > li:nth-child(odd) > div,\n.xr-var-list > li:nth-child(odd) > label,\n.xr-var-list > li:nth-child(odd) > .xr-var-name span {\n  background-color: var(--xr-background-color-row-odd);\n}\n\n.xr-var-name {\n  grid-column: 1;\n}\n\n.xr-var-dims {\n  grid-column: 2;\n}\n\n.xr-var-dtype {\n  grid-column: 3;\n  text-align: right;\n  color: var(--xr-font-color2);\n}\n\n.xr-var-preview {\n  grid-column: 4;\n}\n\n.xr-var-name,\n.xr-var-dims,\n.xr-var-dtype,\n.xr-preview,\n.xr-attrs dt {\n  white-space: nowrap;\n  overflow: hidden;\n  text-overflow: ellipsis;\n  padding-right: 10px;\n}\n\n.xr-var-name:hover,\n.xr-var-dims:hover,\n.xr-var-dtype:hover,\n.xr-attrs dt:hover {\n  overflow: visible;\n  width: auto;\n  z-index: 1;\n}\n\n.xr-var-attrs,\n.xr-var-data {\n  display: none;\n  background-color: var(--xr-background-color) !important;\n  padding-bottom: 5px !important;\n}\n\n.xr-var-attrs-in:checked ~ .xr-var-attrs,\n.xr-var-data-in:checked ~ .xr-var-data {\n  display: block;\n}\n\n.xr-var-data > table {\n  float: right;\n}\n\n.xr-var-name span,\n.xr-var-data,\n.xr-attrs {\n  padding-left: 25px !important;\n}\n\n.xr-attrs,\n.xr-var-attrs,\n.xr-var-data {\n  grid-column: 1 / -1;\n}\n\ndl.xr-attrs {\n  padding: 0;\n  margin: 0;\n  display: grid;\n  grid-template-columns: 125px auto;\n}\n\n.xr-attrs dt,\n.xr-attrs dd {\n  padding: 0;\n  margin: 0;\n  float: left;\n  padding-right: 10px;\n  width: auto;\n}\n\n.xr-attrs dt {\n  font-weight: normal;\n  grid-column: 1;\n}\n\n.xr-attrs dt:hover span {\n  display: inline-block;\n  background: var(--xr-background-color);\n  padding-right: 10px;\n}\n\n.xr-attrs dd {\n  grid-column: 2;\n  white-space: pre-wrap;\n  word-break: break-all;\n}\n\n.xr-icon-database,\n.xr-icon-file-text2 {\n  display: inline-block;\n  vertical-align: middle;\n  width: 1em;\n  height: 1.5em !important;\n  stroke-width: 0;\n  stroke: currentColor;\n  fill: currentColor;\n}\n</style><pre class='xr-text-repr-fallback'>&lt;xarray.Dataset&gt;\nDimensions:   (shot: 145, x: 256, y: 50)\nCoordinates:\n  * x         (x) float64 -547.9 -543.6 -539.3 -535.0 ... 539.3 543.6 547.9\n  * y         (y) float64 -104.9 -100.6 -96.3 -92.02 ... 92.02 96.3 100.6 104.9\n  * shot      (shot) MultiIndex\n  - tmstp     (shot) datetime64[ns] 2021-05-20T16:05:09 ... 2021-05-20T16:11:19\n  - tCAM      (shot) float64 0.01 0.0 0.0005 0.001 ... 0.007 0.0075 0.008 0.0085\nData variables:\n    image_00  (shot, x, y) float32 428.0 647.0 686.0 792.0 ... 357.0 356.0 270.0\n    image_01  (shot, x, y) float32 660.0 422.0 363.0 324.0 ... 221.0 216.0 225.0\n    image_02  (shot, x, y) float32 264.0 269.0 267.0 275.0 ... 229.0 227.0 224.0\n    image_03  (shot, x, y) float32 261.0 242.0 227.0 235.0 ... 223.0 220.0 216.0\n    image_04  (shot, x, y) float32 238.0 267.0 283.0 279.0 ... 238.0 244.0 221.0\n    image_05  (shot, x, y) float32 268.0 214.0 223.0 223.0 ... 220.0 216.0 216.0</pre><div class='xr-wrap' hidden><div class='xr-header'><div class='xr-obj-type'>xarray.Dataset</div></div><ul class='xr-sections'><li class='xr-section-item'><input id='section-2fa5e753-21c8-4b56-a292-e3b618a5dcd1' class='xr-section-summary-in' type='checkbox' disabled ><label for='section-2fa5e753-21c8-4b56-a292-e3b618a5dcd1' class='xr-section-summary'  title='Expand/collapse section'>Dimensions:</label><div class='xr-section-inline-details'><ul class='xr-dim-list'><li><span class='xr-has-index'>shot</span>: 145</li><li><span class='xr-has-index'>x</span>: 256</li><li><span class='xr-has-index'>y</span>: 50</li></ul></div><div class='xr-section-details'></div></li><li class='xr-section-item'><input id='section-2a9c4999-5320-43fc-a58e-e8e3aeb5f718' class='xr-section-summary-in' type='checkbox'  checked><label for='section-2a9c4999-5320-43fc-a58e-e8e3aeb5f718' class='xr-section-summary' >Coordinates: <span>(3)</span></label><div class='xr-section-inline-details'></div><div class='xr-section-details'><ul class='xr-var-list'><li class='xr-var-item'><div class='xr-var-name'><span class='xr-has-index'>x</span></div><div class='xr-var-dims'>(x)</div><div class='xr-var-dtype'>float64</div><div class='xr-var-preview xr-preview'>-547.9 -543.6 ... 543.6 547.9</div><input id='attrs-9bf24d42-642c-4900-acbc-7a0a2f0190e4' class='xr-var-attrs-in' type='checkbox' disabled><label for='attrs-9bf24d42-642c-4900-acbc-7a0a2f0190e4' title='Show/Hide attributes'><svg class='icon xr-icon-file-text2'><use xlink:href='#icon-file-text2'></use></svg></label><input id='data-96b59137-93db-426f-8897-526cb49e2160' class='xr-var-data-in' type='checkbox'><label for='data-96b59137-93db-426f-8897-526cb49e2160' title='Show/Hide data repr'><svg class='icon xr-icon-database'><use xlink:href='#icon-database'></use></svg></label><div class='xr-var-attrs'><dl class='xr-attrs'></dl></div><div class='xr-var-data'><pre>array([-547.851562, -543.554688, -539.257812, ...,  539.257812,  543.554688,\n        547.851562])</pre></div></li><li class='xr-var-item'><div class='xr-var-name'><span class='xr-has-index'>y</span></div><div class='xr-var-dims'>(y)</div><div class='xr-var-dtype'>float64</div><div class='xr-var-preview xr-preview'>-104.9 -100.6 -96.3 ... 100.6 104.9</div><input id='attrs-f2c894ba-dc35-4a0d-a489-a80777e1f80d' class='xr-var-attrs-in' type='checkbox' disabled><label for='attrs-f2c894ba-dc35-4a0d-a489-a80777e1f80d' title='Show/Hide attributes'><svg class='icon xr-icon-file-text2'><use xlink:href='#icon-file-text2'></use></svg></label><input id='data-61612bfe-1a71-41c4-ba27-c00e9904f461' class='xr-var-data-in' type='checkbox'><label for='data-61612bfe-1a71-41c4-ba27-c00e9904f461' title='Show/Hide data repr'><svg class='icon xr-icon-database'><use xlink:href='#icon-database'></use></svg></label><div class='xr-var-attrs'><dl class='xr-attrs'></dl></div><div class='xr-var-data'><pre>array([-104.86, -100.58,  -96.3 ,  -92.02,  -87.74,  -83.46,  -79.18,  -74.9 ,\n        -70.62,  -66.34,  -62.06,  -57.78,  -53.5 ,  -49.22,  -44.94,  -40.66,\n        -36.38,  -32.1 ,  -27.82,  -23.54,  -19.26,  -14.98,  -10.7 ,   -6.42,\n         -2.14,    2.14,    6.42,   10.7 ,   14.98,   19.26,   23.54,   27.82,\n         32.1 ,   36.38,   40.66,   44.94,   49.22,   53.5 ,   57.78,   62.06,\n         66.34,   70.62,   74.9 ,   79.18,   83.46,   87.74,   92.02,   96.3 ,\n        100.58,  104.86])</pre></div></li><li class='xr-var-item'><div class='xr-var-name'><span class='xr-has-index'>shot</span></div><div class='xr-var-dims'>(shot)</div><div class='xr-var-dtype'>MultiIndex</div><div class='xr-var-preview xr-preview'>(tmstp, tCAM)</div><input id='attrs-fdb89dba-34e4-40ef-b9a7-7477dfe2ccb8' class='xr-var-attrs-in' type='checkbox' disabled><label for='attrs-fdb89dba-34e4-40ef-b9a7-7477dfe2ccb8' title='Show/Hide attributes'><svg class='icon xr-icon-file-text2'><use xlink:href='#icon-file-text2'></use></svg></label><input id='data-48c90bac-71d6-455b-a50f-7aa48e013a5d' class='xr-var-data-in' type='checkbox'><label for='data-48c90bac-71d6-455b-a50f-7aa48e013a5d' title='Show/Hide data repr'><svg class='icon xr-icon-database'><use xlink:href='#icon-database'></use></svg></label><div class='xr-var-attrs'><dl class='xr-attrs'></dl></div><div class='xr-var-data'><pre>array([(Timestamp(&#x27;2021-05-20 16:05:09&#x27;), 0.01),\n       (Timestamp(&#x27;2021-05-20 16:05:12&#x27;), 0.0),\n       (Timestamp(&#x27;2021-05-20 16:05:14&#x27;), 0.0005),\n       (Timestamp(&#x27;2021-05-20 16:05:17&#x27;), 0.001),\n       (Timestamp(&#x27;2021-05-20 16:05:19&#x27;), 0.0015),\n       (Timestamp(&#x27;2021-05-20 16:05:22&#x27;), 0.002),\n       (Timestamp(&#x27;2021-05-20 16:05:24&#x27;), 0.0025),\n       (Timestamp(&#x27;2021-05-20 16:05:27&#x27;), 0.003),\n       (Timestamp(&#x27;2021-05-20 16:05:30&#x27;), 0.0035),\n       (Timestamp(&#x27;2021-05-20 16:05:32&#x27;), 0.004),\n       (Timestamp(&#x27;2021-05-20 16:05:35&#x27;), 0.0045),\n       (Timestamp(&#x27;2021-05-20 16:05:38&#x27;), 0.005),\n       (Timestamp(&#x27;2021-05-20 16:05:40&#x27;), 0.0055),\n       (Timestamp(&#x27;2021-05-20 16:05:43&#x27;), 0.006),\n       (Timestamp(&#x27;2021-05-20 16:05:45&#x27;), 0.0065),\n       (Timestamp(&#x27;2021-05-20 16:05:48&#x27;), 0.007),\n       (Timestamp(&#x27;2021-05-20 16:05:50&#x27;), 0.0075),\n       (Timestamp(&#x27;2021-05-20 16:05:53&#x27;), 0.008),\n       (Timestamp(&#x27;2021-05-20 16:05:56&#x27;), 0.0085),\n       (Timestamp(&#x27;2021-05-20 16:05:58&#x27;), 0.009),\n       (Timestamp(&#x27;2021-05-20 16:06:01&#x27;), 0.0095),\n       (Timestamp(&#x27;2021-05-20 16:06:03&#x27;), 0.01),\n       (Timestamp(&#x27;2021-05-20 16:06:06&#x27;), 0.0),\n       (Timestamp(&#x27;2021-05-20 16:06:08&#x27;), 0.0005),\n       (Timestamp(&#x27;2021-05-20 16:06:11&#x27;), 0.001),\n       (Timestamp(&#x27;2021-05-20 16:06:14&#x27;), 0.0015),\n       (Timestamp(&#x27;2021-05-20 16:06:16&#x27;), 0.002),\n       (Timestamp(&#x27;2021-05-20 16:06:19&#x27;), 0.0025),\n       (Timestamp(&#x27;2021-05-20 16:06:21&#x27;), 0.003),\n       (Timestamp(&#x27;2021-05-20 16:06:24&#x27;), 0.0035),\n       (Timestamp(&#x27;2021-05-20 16:06:26&#x27;), 0.004),\n       (Timestamp(&#x27;2021-05-20 16:06:29&#x27;), 0.0045),\n       (Timestamp(&#x27;2021-05-20 16:06:31&#x27;), 0.005),\n       (Timestamp(&#x27;2021-05-20 16:06:34&#x27;), 0.0055),\n       (Timestamp(&#x27;2021-05-20 16:06:37&#x27;), 0.006),\n       (Timestamp(&#x27;2021-05-20 16:06:39&#x27;), 0.0065),\n       (Timestamp(&#x27;2021-05-20 16:06:42&#x27;), 0.007),\n       (Timestamp(&#x27;2021-05-20 16:06:45&#x27;), 0.0075),\n       (Timestamp(&#x27;2021-05-20 16:06:47&#x27;), 0.008),\n       (Timestamp(&#x27;2021-05-20 16:06:49&#x27;), 0.0085),\n       (Timestamp(&#x27;2021-05-20 16:06:52&#x27;), 0.009),\n       (Timestamp(&#x27;2021-05-20 16:06:55&#x27;), 0.0095),\n       (Timestamp(&#x27;2021-05-20 16:06:57&#x27;), 0.01),\n       (Timestamp(&#x27;2021-05-20 16:07:00&#x27;), 0.0),\n       (Timestamp(&#x27;2021-05-20 16:07:02&#x27;), 0.0005),\n       (Timestamp(&#x27;2021-05-20 16:07:05&#x27;), 0.001),\n       (Timestamp(&#x27;2021-05-20 16:07:07&#x27;), 0.0015),\n       (Timestamp(&#x27;2021-05-20 16:07:10&#x27;), 0.002),\n       (Timestamp(&#x27;2021-05-20 16:07:13&#x27;), 0.0025),\n       (Timestamp(&#x27;2021-05-20 16:07:15&#x27;), 0.003),\n       (Timestamp(&#x27;2021-05-20 16:07:18&#x27;), 0.0035),\n       (Timestamp(&#x27;2021-05-20 16:07:20&#x27;), 0.004),\n       (Timestamp(&#x27;2021-05-20 16:07:23&#x27;), 0.0045),\n       (Timestamp(&#x27;2021-05-20 16:07:25&#x27;), 0.005),\n       (Timestamp(&#x27;2021-05-20 16:07:28&#x27;), 0.0055),\n       (Timestamp(&#x27;2021-05-20 16:07:31&#x27;), 0.006),\n       (Timestamp(&#x27;2021-05-20 16:07:33&#x27;), 0.0065),\n       (Timestamp(&#x27;2021-05-20 16:07:36&#x27;), 0.007),\n       (Timestamp(&#x27;2021-05-20 16:07:38&#x27;), 0.0075),\n       (Timestamp(&#x27;2021-05-20 16:07:41&#x27;), 0.008),\n       (Timestamp(&#x27;2021-05-20 16:07:44&#x27;), 0.0085),\n       (Timestamp(&#x27;2021-05-20 16:07:46&#x27;), 0.009),\n       (Timestamp(&#x27;2021-05-20 16:07:49&#x27;), 0.0095),\n       (Timestamp(&#x27;2021-05-20 16:07:51&#x27;), 0.01),\n       (Timestamp(&#x27;2021-05-20 16:07:54&#x27;), 0.0),\n       (Timestamp(&#x27;2021-05-20 16:07:57&#x27;), 0.0005),\n       (Timestamp(&#x27;2021-05-20 16:07:59&#x27;), 0.001),\n       (Timestamp(&#x27;2021-05-20 16:08:02&#x27;), 0.0015),\n       (Timestamp(&#x27;2021-05-20 16:08:04&#x27;), 0.002),\n       (Timestamp(&#x27;2021-05-20 16:08:07&#x27;), 0.0025),\n       (Timestamp(&#x27;2021-05-20 16:08:09&#x27;), 0.003),\n       (Timestamp(&#x27;2021-05-20 16:08:12&#x27;), 0.0035),\n       (Timestamp(&#x27;2021-05-20 16:08:15&#x27;), 0.004),\n       (Timestamp(&#x27;2021-05-20 16:08:17&#x27;), 0.0045),\n       (Timestamp(&#x27;2021-05-20 16:08:20&#x27;), 0.005),\n       (Timestamp(&#x27;2021-05-20 16:08:22&#x27;), 0.0055),\n       (Timestamp(&#x27;2021-05-20 16:08:25&#x27;), 0.006),\n       (Timestamp(&#x27;2021-05-20 16:08:27&#x27;), 0.0065),\n       (Timestamp(&#x27;2021-05-20 16:08:30&#x27;), 0.007),\n       (Timestamp(&#x27;2021-05-20 16:08:32&#x27;), 0.0075),\n       (Timestamp(&#x27;2021-05-20 16:08:35&#x27;), 0.008),\n       (Timestamp(&#x27;2021-05-20 16:08:38&#x27;), 0.0085),\n       (Timestamp(&#x27;2021-05-20 16:08:40&#x27;), 0.009),\n       (Timestamp(&#x27;2021-05-20 16:08:43&#x27;), 0.0095),\n       (Timestamp(&#x27;2021-05-20 16:08:45&#x27;), 0.01),\n       (Timestamp(&#x27;2021-05-20 16:08:48&#x27;), 0.0),\n       (Timestamp(&#x27;2021-05-20 16:08:51&#x27;), 0.0005),\n       (Timestamp(&#x27;2021-05-20 16:08:53&#x27;), 0.001),\n       (Timestamp(&#x27;2021-05-20 16:08:56&#x27;), 0.0015),\n       (Timestamp(&#x27;2021-05-20 16:08:58&#x27;), 0.002),\n       (Timestamp(&#x27;2021-05-20 16:09:01&#x27;), 0.0025),\n       (Timestamp(&#x27;2021-05-20 16:09:03&#x27;), 0.003),\n       (Timestamp(&#x27;2021-05-20 16:09:06&#x27;), 0.0035),\n       (Timestamp(&#x27;2021-05-20 16:09:08&#x27;), 0.004),\n       (Timestamp(&#x27;2021-05-20 16:09:11&#x27;), 0.0045),\n       (Timestamp(&#x27;2021-05-20 16:09:13&#x27;), 0.005),\n       (Timestamp(&#x27;2021-05-20 16:09:16&#x27;), 0.0055),\n       (Timestamp(&#x27;2021-05-20 16:09:18&#x27;), 0.006),\n       (Timestamp(&#x27;2021-05-20 16:09:21&#x27;), 0.0065),\n       (Timestamp(&#x27;2021-05-20 16:09:24&#x27;), 0.007),\n       (Timestamp(&#x27;2021-05-20 16:09:26&#x27;), 0.0075),\n       (Timestamp(&#x27;2021-05-20 16:09:29&#x27;), 0.008),\n       (Timestamp(&#x27;2021-05-20 16:09:31&#x27;), 0.0085),\n       (Timestamp(&#x27;2021-05-20 16:09:34&#x27;), 0.009),\n       (Timestamp(&#x27;2021-05-20 16:09:37&#x27;), 0.0095),\n       (Timestamp(&#x27;2021-05-20 16:09:39&#x27;), 0.01),\n       (Timestamp(&#x27;2021-05-20 16:09:42&#x27;), 0.0),\n       (Timestamp(&#x27;2021-05-20 16:09:44&#x27;), 0.0005),\n       (Timestamp(&#x27;2021-05-20 16:09:47&#x27;), 0.001),\n       (Timestamp(&#x27;2021-05-20 16:09:49&#x27;), 0.0015),\n       (Timestamp(&#x27;2021-05-20 16:09:52&#x27;), 0.002),\n       (Timestamp(&#x27;2021-05-20 16:09:54&#x27;), 0.0025),\n       (Timestamp(&#x27;2021-05-20 16:09:57&#x27;), 0.003),\n       (Timestamp(&#x27;2021-05-20 16:10:00&#x27;), 0.0035),\n       (Timestamp(&#x27;2021-05-20 16:10:02&#x27;), 0.004),\n       (Timestamp(&#x27;2021-05-20 16:10:05&#x27;), 0.0045),\n       (Timestamp(&#x27;2021-05-20 16:10:08&#x27;), 0.005),\n       (Timestamp(&#x27;2021-05-20 16:10:10&#x27;), 0.0055),\n       (Timestamp(&#x27;2021-05-20 16:10:13&#x27;), 0.006),\n       (Timestamp(&#x27;2021-05-20 16:10:15&#x27;), 0.0065),\n       (Timestamp(&#x27;2021-05-20 16:10:18&#x27;), 0.007),\n       (Timestamp(&#x27;2021-05-20 16:10:20&#x27;), 0.0075),\n       (Timestamp(&#x27;2021-05-20 16:10:23&#x27;), 0.008),\n       (Timestamp(&#x27;2021-05-20 16:10:25&#x27;), 0.0085),\n       (Timestamp(&#x27;2021-05-20 16:10:28&#x27;), 0.009),\n       (Timestamp(&#x27;2021-05-20 16:10:30&#x27;), 0.0095),\n       (Timestamp(&#x27;2021-05-20 16:10:33&#x27;), 0.01),\n       (Timestamp(&#x27;2021-05-20 16:10:36&#x27;), 0.0),\n       (Timestamp(&#x27;2021-05-20 16:10:38&#x27;), 0.0005),\n       (Timestamp(&#x27;2021-05-20 16:10:40&#x27;), 0.001),\n       (Timestamp(&#x27;2021-05-20 16:10:43&#x27;), 0.0015),\n       (Timestamp(&#x27;2021-05-20 16:10:45&#x27;), 0.002),\n       (Timestamp(&#x27;2021-05-20 16:10:48&#x27;), 0.0025),\n       (Timestamp(&#x27;2021-05-20 16:10:50&#x27;), 0.003),\n       (Timestamp(&#x27;2021-05-20 16:10:53&#x27;), 0.0035),\n       (Timestamp(&#x27;2021-05-20 16:10:56&#x27;), 0.004),\n       (Timestamp(&#x27;2021-05-20 16:10:59&#x27;), 0.0045),\n       (Timestamp(&#x27;2021-05-20 16:11:01&#x27;), 0.005),\n       (Timestamp(&#x27;2021-05-20 16:11:04&#x27;), 0.0055),\n       (Timestamp(&#x27;2021-05-20 16:11:07&#x27;), 0.006),\n       (Timestamp(&#x27;2021-05-20 16:11:09&#x27;), 0.0065),\n       (Timestamp(&#x27;2021-05-20 16:11:12&#x27;), 0.007),\n       (Timestamp(&#x27;2021-05-20 16:11:14&#x27;), 0.0075),\n       (Timestamp(&#x27;2021-05-20 16:11:17&#x27;), 0.008),\n       (Timestamp(&#x27;2021-05-20 16:11:19&#x27;), 0.0085)], dtype=object)</pre></div></li><li class='xr-var-item'><div class='xr-var-name'><span>tmstp</span></div><div class='xr-var-dims'>(shot)</div><div class='xr-var-dtype'>datetime64[ns]</div><div class='xr-var-preview xr-preview'>2021-05-20T16:05:09 ... 2021-05-...</div><input id='attrs-381fed8b-351a-40d3-8f98-7ea242867c91' class='xr-var-attrs-in' type='checkbox' disabled><label for='attrs-381fed8b-351a-40d3-8f98-7ea242867c91' title='Show/Hide attributes'><svg class='icon xr-icon-file-text2'><use xlink:href='#icon-file-text2'></use></svg></label><input id='data-eebe6821-ad9a-4f26-848d-1e5e0b757d77' class='xr-var-data-in' type='checkbox'><label for='data-eebe6821-ad9a-4f26-848d-1e5e0b757d77' title='Show/Hide data repr'><svg class='icon xr-icon-database'><use xlink:href='#icon-database'></use></svg></label><div class='xr-var-attrs'><dl class='xr-attrs'></dl></div><div class='xr-var-data'><pre>array([&#x27;2021-05-20T16:05:09.000000000&#x27;, &#x27;2021-05-20T16:05:12.000000000&#x27;,\n       &#x27;2021-05-20T16:05:14.000000000&#x27;, &#x27;2021-05-20T16:05:17.000000000&#x27;,\n       &#x27;2021-05-20T16:05:19.000000000&#x27;, &#x27;2021-05-20T16:05:22.000000000&#x27;,\n       &#x27;2021-05-20T16:05:24.000000000&#x27;, &#x27;2021-05-20T16:05:27.000000000&#x27;,\n       &#x27;2021-05-20T16:05:30.000000000&#x27;, &#x27;2021-05-20T16:05:32.000000000&#x27;,\n       &#x27;2021-05-20T16:05:35.000000000&#x27;, &#x27;2021-05-20T16:05:38.000000000&#x27;,\n       &#x27;2021-05-20T16:05:40.000000000&#x27;, &#x27;2021-05-20T16:05:43.000000000&#x27;,\n       &#x27;2021-05-20T16:05:45.000000000&#x27;, &#x27;2021-05-20T16:05:48.000000000&#x27;,\n       &#x27;2021-05-20T16:05:50.000000000&#x27;, &#x27;2021-05-20T16:05:53.000000000&#x27;,\n       &#x27;2021-05-20T16:05:56.000000000&#x27;, &#x27;2021-05-20T16:05:58.000000000&#x27;,\n       &#x27;2021-05-20T16:06:01.000000000&#x27;, &#x27;2021-05-20T16:06:03.000000000&#x27;,\n       &#x27;2021-05-20T16:06:06.000000000&#x27;, &#x27;2021-05-20T16:06:08.000000000&#x27;,\n       &#x27;2021-05-20T16:06:11.000000000&#x27;, &#x27;2021-05-20T16:06:14.000000000&#x27;,\n       &#x27;2021-05-20T16:06:16.000000000&#x27;, &#x27;2021-05-20T16:06:19.000000000&#x27;,\n       &#x27;2021-05-20T16:06:21.000000000&#x27;, &#x27;2021-05-20T16:06:24.000000000&#x27;,\n       &#x27;2021-05-20T16:06:26.000000000&#x27;, &#x27;2021-05-20T16:06:29.000000000&#x27;,\n       &#x27;2021-05-20T16:06:31.000000000&#x27;, &#x27;2021-05-20T16:06:34.000000000&#x27;,\n       &#x27;2021-05-20T16:06:37.000000000&#x27;, &#x27;2021-05-20T16:06:39.000000000&#x27;,\n       &#x27;2021-05-20T16:06:42.000000000&#x27;, &#x27;2021-05-20T16:06:45.000000000&#x27;,\n       &#x27;2021-05-20T16:06:47.000000000&#x27;, &#x27;2021-05-20T16:06:49.000000000&#x27;,\n       &#x27;2021-05-20T16:06:52.000000000&#x27;, &#x27;2021-05-20T16:06:55.000000000&#x27;,\n       &#x27;2021-05-20T16:06:57.000000000&#x27;, &#x27;2021-05-20T16:07:00.000000000&#x27;,\n       &#x27;2021-05-20T16:07:02.000000000&#x27;, &#x27;2021-05-20T16:07:05.000000000&#x27;,\n       &#x27;2021-05-20T16:07:07.000000000&#x27;, &#x27;2021-05-20T16:07:10.000000000&#x27;,\n       &#x27;2021-05-20T16:07:13.000000000&#x27;, &#x27;2021-05-20T16:07:15.000000000&#x27;,\n       &#x27;2021-05-20T16:07:18.000000000&#x27;, &#x27;2021-05-20T16:07:20.000000000&#x27;,\n       &#x27;2021-05-20T16:07:23.000000000&#x27;, &#x27;2021-05-20T16:07:25.000000000&#x27;,\n       &#x27;2021-05-20T16:07:28.000000000&#x27;, &#x27;2021-05-20T16:07:31.000000000&#x27;,\n       &#x27;2021-05-20T16:07:33.000000000&#x27;, &#x27;2021-05-20T16:07:36.000000000&#x27;,\n       &#x27;2021-05-20T16:07:38.000000000&#x27;, &#x27;2021-05-20T16:07:41.000000000&#x27;,\n       &#x27;2021-05-20T16:07:44.000000000&#x27;, &#x27;2021-05-20T16:07:46.000000000&#x27;,\n       &#x27;2021-05-20T16:07:49.000000000&#x27;, &#x27;2021-05-20T16:07:51.000000000&#x27;,\n       &#x27;2021-05-20T16:07:54.000000000&#x27;, &#x27;2021-05-20T16:07:57.000000000&#x27;,\n       &#x27;2021-05-20T16:07:59.000000000&#x27;, &#x27;2021-05-20T16:08:02.000000000&#x27;,\n       &#x27;2021-05-20T16:08:04.000000000&#x27;, &#x27;2021-05-20T16:08:07.000000000&#x27;,\n       &#x27;2021-05-20T16:08:09.000000000&#x27;, &#x27;2021-05-20T16:08:12.000000000&#x27;,\n       &#x27;2021-05-20T16:08:15.000000000&#x27;, &#x27;2021-05-20T16:08:17.000000000&#x27;,\n       &#x27;2021-05-20T16:08:20.000000000&#x27;, &#x27;2021-05-20T16:08:22.000000000&#x27;,\n       &#x27;2021-05-20T16:08:25.000000000&#x27;, &#x27;2021-05-20T16:08:27.000000000&#x27;,\n       &#x27;2021-05-20T16:08:30.000000000&#x27;, &#x27;2021-05-20T16:08:32.000000000&#x27;,\n       &#x27;2021-05-20T16:08:35.000000000&#x27;, &#x27;2021-05-20T16:08:38.000000000&#x27;,\n       &#x27;2021-05-20T16:08:40.000000000&#x27;, &#x27;2021-05-20T16:08:43.000000000&#x27;,\n       &#x27;2021-05-20T16:08:45.000000000&#x27;, &#x27;2021-05-20T16:08:48.000000000&#x27;,\n       &#x27;2021-05-20T16:08:51.000000000&#x27;, &#x27;2021-05-20T16:08:53.000000000&#x27;,\n       &#x27;2021-05-20T16:08:56.000000000&#x27;, &#x27;2021-05-20T16:08:58.000000000&#x27;,\n       &#x27;2021-05-20T16:09:01.000000000&#x27;, &#x27;2021-05-20T16:09:03.000000000&#x27;,\n       &#x27;2021-05-20T16:09:06.000000000&#x27;, &#x27;2021-05-20T16:09:08.000000000&#x27;,\n       &#x27;2021-05-20T16:09:11.000000000&#x27;, &#x27;2021-05-20T16:09:13.000000000&#x27;,\n       &#x27;2021-05-20T16:09:16.000000000&#x27;, &#x27;2021-05-20T16:09:18.000000000&#x27;,\n       &#x27;2021-05-20T16:09:21.000000000&#x27;, &#x27;2021-05-20T16:09:24.000000000&#x27;,\n       &#x27;2021-05-20T16:09:26.000000000&#x27;, &#x27;2021-05-20T16:09:29.000000000&#x27;,\n       &#x27;2021-05-20T16:09:31.000000000&#x27;, &#x27;2021-05-20T16:09:34.000000000&#x27;,\n       &#x27;2021-05-20T16:09:37.000000000&#x27;, &#x27;2021-05-20T16:09:39.000000000&#x27;,\n       &#x27;2021-05-20T16:09:42.000000000&#x27;, &#x27;2021-05-20T16:09:44.000000000&#x27;,\n       &#x27;2021-05-20T16:09:47.000000000&#x27;, &#x27;2021-05-20T16:09:49.000000000&#x27;,\n       &#x27;2021-05-20T16:09:52.000000000&#x27;, &#x27;2021-05-20T16:09:54.000000000&#x27;,\n       &#x27;2021-05-20T16:09:57.000000000&#x27;, &#x27;2021-05-20T16:10:00.000000000&#x27;,\n       &#x27;2021-05-20T16:10:02.000000000&#x27;, &#x27;2021-05-20T16:10:05.000000000&#x27;,\n       &#x27;2021-05-20T16:10:08.000000000&#x27;, &#x27;2021-05-20T16:10:10.000000000&#x27;,\n       &#x27;2021-05-20T16:10:13.000000000&#x27;, &#x27;2021-05-20T16:10:15.000000000&#x27;,\n       &#x27;2021-05-20T16:10:18.000000000&#x27;, &#x27;2021-05-20T16:10:20.000000000&#x27;,\n       &#x27;2021-05-20T16:10:23.000000000&#x27;, &#x27;2021-05-20T16:10:25.000000000&#x27;,\n       &#x27;2021-05-20T16:10:28.000000000&#x27;, &#x27;2021-05-20T16:10:30.000000000&#x27;,\n       &#x27;2021-05-20T16:10:33.000000000&#x27;, &#x27;2021-05-20T16:10:36.000000000&#x27;,\n       &#x27;2021-05-20T16:10:38.000000000&#x27;, &#x27;2021-05-20T16:10:40.000000000&#x27;,\n       &#x27;2021-05-20T16:10:43.000000000&#x27;, &#x27;2021-05-20T16:10:45.000000000&#x27;,\n       &#x27;2021-05-20T16:10:48.000000000&#x27;, &#x27;2021-05-20T16:10:50.000000000&#x27;,\n       &#x27;2021-05-20T16:10:53.000000000&#x27;, &#x27;2021-05-20T16:10:56.000000000&#x27;,\n       &#x27;2021-05-20T16:10:59.000000000&#x27;, &#x27;2021-05-20T16:11:01.000000000&#x27;,\n       &#x27;2021-05-20T16:11:04.000000000&#x27;, &#x27;2021-05-20T16:11:07.000000000&#x27;,\n       &#x27;2021-05-20T16:11:09.000000000&#x27;, &#x27;2021-05-20T16:11:12.000000000&#x27;,\n       &#x27;2021-05-20T16:11:14.000000000&#x27;, &#x27;2021-05-20T16:11:17.000000000&#x27;,\n       &#x27;2021-05-20T16:11:19.000000000&#x27;], dtype=&#x27;datetime64[ns]&#x27;)</pre></div></li><li class='xr-var-item'><div class='xr-var-name'><span>tCAM</span></div><div class='xr-var-dims'>(shot)</div><div class='xr-var-dtype'>float64</div><div class='xr-var-preview xr-preview'>0.01 0.0 0.0005 ... 0.008 0.0085</div><input id='attrs-d2cb168e-e32e-4f23-b407-6958b17544c7' class='xr-var-attrs-in' type='checkbox' disabled><label for='attrs-d2cb168e-e32e-4f23-b407-6958b17544c7' title='Show/Hide attributes'><svg class='icon xr-icon-file-text2'><use xlink:href='#icon-file-text2'></use></svg></label><input id='data-40b3e68c-1766-46c0-8c6a-e449f6d4a884' class='xr-var-data-in' type='checkbox'><label for='data-40b3e68c-1766-46c0-8c6a-e449f6d4a884' title='Show/Hide data repr'><svg class='icon xr-icon-database'><use xlink:href='#icon-database'></use></svg></label><div class='xr-var-attrs'><dl class='xr-attrs'></dl></div><div class='xr-var-data'><pre>array([0.01  , 0.    , 0.0005, 0.001 , 0.0015, 0.002 , 0.0025, 0.003 , 0.0035,\n       0.004 , 0.0045, 0.005 , 0.0055, 0.006 , 0.0065, 0.007 , 0.0075, 0.008 ,\n       0.0085, 0.009 , 0.0095, 0.01  , 0.    , 0.0005, 0.001 , 0.0015, 0.002 ,\n       0.0025, 0.003 , 0.0035, 0.004 , 0.0045, 0.005 , 0.0055, 0.006 , 0.0065,\n       0.007 , 0.0075, 0.008 , 0.0085, 0.009 , 0.0095, 0.01  , 0.    , 0.0005,\n       0.001 , 0.0015, 0.002 , 0.0025, 0.003 , 0.0035, 0.004 , 0.0045, 0.005 ,\n       0.0055, 0.006 , 0.0065, 0.007 , 0.0075, 0.008 , 0.0085, 0.009 , 0.0095,\n       0.01  , 0.    , 0.0005, 0.001 , 0.0015, 0.002 , 0.0025, 0.003 , 0.0035,\n       0.004 , 0.0045, 0.005 , 0.0055, 0.006 , 0.0065, 0.007 , 0.0075, 0.008 ,\n       0.0085, 0.009 , 0.0095, 0.01  , 0.    , 0.0005, 0.001 , 0.0015, 0.002 ,\n       0.0025, 0.003 , 0.0035, 0.004 , 0.0045, 0.005 , 0.0055, 0.006 , 0.0065,\n       0.007 , 0.0075, 0.008 , 0.0085, 0.009 , 0.0095, 0.01  , 0.    , 0.0005,\n       0.001 , 0.0015, 0.002 , 0.0025, 0.003 , 0.0035, 0.004 , 0.0045, 0.005 ,\n       0.0055, 0.006 , 0.0065, 0.007 , 0.0075, 0.008 , 0.0085, 0.009 , 0.0095,\n       0.01  , 0.    , 0.0005, 0.001 , 0.0015, 0.002 , 0.0025, 0.003 , 0.0035,\n       0.004 , 0.0045, 0.005 , 0.0055, 0.006 , 0.0065, 0.007 , 0.0075, 0.008 ,\n       0.0085])</pre></div></li></ul></div></li><li class='xr-section-item'><input id='section-652261f7-11bf-421e-b6c3-83ec67ae3624' class='xr-section-summary-in' type='checkbox'  checked><label for='section-652261f7-11bf-421e-b6c3-83ec67ae3624' class='xr-section-summary' >Data variables: <span>(6)</span></label><div class='xr-section-inline-details'></div><div class='xr-section-details'><ul class='xr-var-list'><li class='xr-var-item'><div class='xr-var-name'><span>image_00</span></div><div class='xr-var-dims'>(shot, x, y)</div><div class='xr-var-dtype'>float32</div><div class='xr-var-preview xr-preview'>428.0 647.0 686.0 ... 356.0 270.0</div><input id='attrs-f1b35a4f-50e9-4e27-9ee0-0f58e3349211' class='xr-var-attrs-in' type='checkbox' disabled><label for='attrs-f1b35a4f-50e9-4e27-9ee0-0f58e3349211' title='Show/Hide attributes'><svg class='icon xr-icon-file-text2'><use xlink:href='#icon-file-text2'></use></svg></label><input id='data-0d9e0408-af2b-40be-8161-935eacfcbdb3' class='xr-var-data-in' type='checkbox'><label for='data-0d9e0408-af2b-40be-8161-935eacfcbdb3' title='Show/Hide data repr'><svg class='icon xr-icon-database'><use xlink:href='#icon-database'></use></svg></label><div class='xr-var-attrs'><dl class='xr-attrs'></dl></div><div class='xr-var-data'><pre>array([[[ 428.,  647.,  686., ...,  490.,  368.,  600.],\n        [ 457.,  911.,  450., ...,  851.,  620., 1000.],\n        [ 641.,  577.,  567., ..., 2490., 2053., 2788.],\n        ...,\n        [ 337.,  534.,  891., ..., 1213.,  945.,  433.],\n        [ 263.,  399.,  486., ...,  640.,  484.,  317.],\n        [ 260.,  302.,  347., ...,  372.,  363.,  271.]],\n\n       [[ 216.,  206.,  209., ...,  217.,  223.,  217.],\n        [ 211.,  213.,  210., ...,  201.,  212.,  222.],\n        [ 216.,  218.,  214., ...,  209.,  224.,  213.],\n        ...,\n        [ 217.,  208.,  217., ...,  214.,  204.,  218.],\n        [ 222.,  209.,  219., ...,  219.,  211.,  218.],\n        [ 218.,  211.,  209., ...,  219.,  211.,  216.]],\n\n       [[ 206.,  226.,  230., ...,  220.,  210.,  238.],\n        [ 219.,  229.,  238., ...,  245.,  228.,  257.],\n        [ 231.,  235.,  222., ...,  321.,  296.,  332.],\n        ...,\n...\n        ...,\n        [ 306.,  427.,  735., ...,  986.,  754.,  389.],\n        [ 253.,  347.,  431., ...,  525.,  396.,  279.],\n        [ 241.,  295.,  313., ...,  345.,  317.,  255.]],\n\n       [[ 364.,  513.,  581., ...,  427.,  336.,  531.],\n        [ 434.,  772.,  421., ...,  721.,  514.,  852.],\n        [ 545.,  533.,  485., ..., 1963., 1663., 2221.],\n        ...,\n        [ 322.,  500.,  782., ...,  952.,  780.,  387.],\n        [ 269.,  346.,  461., ...,  530.,  431.,  299.],\n        [ 251.,  294.,  325., ...,  313.,  332.,  272.]],\n\n       [[ 383.,  568.,  602., ...,  472.,  348.,  527.],\n        [ 436.,  811.,  427., ...,  780.,  558.,  907.],\n        [ 569.,  540.,  495., ..., 2149., 1834., 2275.],\n        ...,\n        [ 312.,  472.,  828., ..., 1035.,  825.,  393.],\n        [ 272.,  372.,  443., ...,  537.,  425.,  296.],\n        [ 255.,  310.,  344., ...,  357.,  356.,  270.]]], dtype=float32)</pre></div></li><li class='xr-var-item'><div class='xr-var-name'><span>image_01</span></div><div class='xr-var-dims'>(shot, x, y)</div><div class='xr-var-dtype'>float32</div><div class='xr-var-preview xr-preview'>660.0 422.0 363.0 ... 216.0 225.0</div><input id='attrs-a55408d6-9c93-48a9-aa64-16a5ec2ffab4' class='xr-var-attrs-in' type='checkbox' disabled><label for='attrs-a55408d6-9c93-48a9-aa64-16a5ec2ffab4' title='Show/Hide attributes'><svg class='icon xr-icon-file-text2'><use xlink:href='#icon-file-text2'></use></svg></label><input id='data-912a5cd2-0d99-46ca-85d4-b4b5c71b6764' class='xr-var-data-in' type='checkbox'><label for='data-912a5cd2-0d99-46ca-85d4-b4b5c71b6764' title='Show/Hide data repr'><svg class='icon xr-icon-database'><use xlink:href='#icon-database'></use></svg></label><div class='xr-var-attrs'><dl class='xr-attrs'></dl></div><div class='xr-var-data'><pre>array([[[ 660.,  422.,  363., ...,  247.,  232.,  242.],\n        [1196.,  744.,  485., ...,  253.,  267.,  261.],\n        [3012., 1573.,  795., ...,  254.,  242.,  252.],\n        ...,\n        [ 372.,  286.,  230., ...,  224.,  223.,  226.],\n        [ 278.,  234.,  234., ...,  226.,  225.,  221.],\n        [ 261.,  226.,  227., ...,  220.,  221.,  232.]],\n\n       [[ 211.,  213.,  219., ...,  228.,  234.,  233.],\n        [ 213.,  218.,  206., ...,  238.,  241.,  242.],\n        [ 225.,  214.,  219., ...,  240.,  235.,  233.],\n        ...,\n        [ 214.,  211.,  211., ...,  214.,  226.,  228.],\n        [ 215.,  214.,  214., ...,  208.,  222.,  231.],\n        [ 212.,  212.,  216., ...,  211.,  211.,  217.]],\n\n       [[ 233.,  229.,  212., ...,  225.,  221.,  220.],\n        [ 254.,  234.,  232., ...,  231.,  246.,  236.],\n        [ 339.,  260.,  227., ...,  240.,  236.,  237.],\n        ...,\n...\n        ...,\n        [ 297.,  258.,  232., ...,  226.,  222.,  222.],\n        [ 270.,  233.,  229., ...,  233.,  228.,  223.],\n        [ 248.,  226.,  229., ...,  225.,  219.,  222.]],\n\n       [[ 515.,  352.,  311., ...,  239.,  228.,  243.],\n        [ 987.,  637.,  428., ...,  253.,  254.,  269.],\n        [2392., 1344.,  645., ...,  246.,  257.,  253.],\n        ...,\n        [ 319.,  271.,  242., ...,  223.,  218.,  227.],\n        [ 261.,  245.,  230., ...,  226.,  227.,  220.],\n        [ 240.,  230.,  237., ...,  223.,  224.,  225.]],\n\n       [[ 554.,  374.,  339., ...,  243.,  247.,  245.],\n        [1071.,  605.,  411., ...,  241.,  256.,  265.],\n        [2457., 1409.,  705., ...,  239.,  244.,  239.],\n        ...,\n        [ 326.,  264.,  243., ...,  204.,  222.,  231.],\n        [ 281.,  247.,  232., ...,  223.,  229.,  222.],\n        [ 262.,  226.,  236., ...,  221.,  216.,  225.]]], dtype=float32)</pre></div></li><li class='xr-var-item'><div class='xr-var-name'><span>image_02</span></div><div class='xr-var-dims'>(shot, x, y)</div><div class='xr-var-dtype'>float32</div><div class='xr-var-preview xr-preview'>264.0 269.0 267.0 ... 227.0 224.0</div><input id='attrs-0cafc3cc-2b38-4f7a-b145-6a8edfc0d83f' class='xr-var-attrs-in' type='checkbox' disabled><label for='attrs-0cafc3cc-2b38-4f7a-b145-6a8edfc0d83f' title='Show/Hide attributes'><svg class='icon xr-icon-file-text2'><use xlink:href='#icon-file-text2'></use></svg></label><input id='data-beea5653-b0fe-4f55-ab38-7a594110fa33' class='xr-var-data-in' type='checkbox'><label for='data-beea5653-b0fe-4f55-ab38-7a594110fa33' title='Show/Hide data repr'><svg class='icon xr-icon-database'><use xlink:href='#icon-database'></use></svg></label><div class='xr-var-attrs'><dl class='xr-attrs'></dl></div><div class='xr-var-data'><pre>array([[[264., 269., 267., ..., 255., 239., 258.],\n        [256., 309., 246., ..., 293., 256., 317.],\n        [289., 266., 243., ..., 498., 431., 518.],\n        ...,\n        [228., 256., 300., ..., 343., 327., 238.],\n        [232., 242., 244., ..., 255., 249., 230.],\n        [219., 216., 236., ..., 240., 236., 211.]],\n\n       [[235., 259., 270., ..., 247., 234., 271.],\n        [233., 298., 244., ..., 297., 268., 305.],\n        [280., 279., 244., ..., 517., 437., 536.],\n        ...,\n        [240., 248., 293., ..., 332., 321., 229.],\n        [219., 236., 255., ..., 274., 242., 226.],\n        [213., 225., 230., ..., 236., 226., 217.]],\n\n       [[227., 260., 273., ..., 251., 236., 254.],\n        [243., 290., 251., ..., 298., 269., 313.],\n        [275., 263., 265., ..., 485., 433., 525.],\n        ...,\n...\n        ...,\n        [227., 247., 298., ..., 335., 300., 236.],\n        [220., 242., 246., ..., 248., 246., 222.],\n        [228., 223., 216., ..., 231., 231., 228.]],\n\n       [[262., 251., 281., ..., 241., 231., 262.],\n        [254., 304., 251., ..., 310., 256., 302.],\n        [289., 267., 259., ..., 498., 440., 536.],\n        ...,\n        [228., 249., 306., ..., 356., 299., 244.],\n        [228., 246., 246., ..., 249., 253., 216.],\n        [224., 224., 231., ..., 221., 234., 212.]],\n\n       [[249., 266., 274., ..., 255., 237., 260.],\n        [252., 303., 256., ..., 305., 267., 336.],\n        [269., 249., 257., ..., 495., 442., 509.],\n        ...,\n        [237., 253., 298., ..., 331., 305., 257.],\n        [219., 234., 259., ..., 266., 251., 225.],\n        [236., 231., 233., ..., 229., 227., 224.]]], dtype=float32)</pre></div></li><li class='xr-var-item'><div class='xr-var-name'><span>image_03</span></div><div class='xr-var-dims'>(shot, x, y)</div><div class='xr-var-dtype'>float32</div><div class='xr-var-preview xr-preview'>261.0 242.0 227.0 ... 220.0 216.0</div><input id='attrs-5dbf81fd-d945-48e9-8b2c-d585fedd62ac' class='xr-var-attrs-in' type='checkbox' disabled><label for='attrs-5dbf81fd-d945-48e9-8b2c-d585fedd62ac' title='Show/Hide attributes'><svg class='icon xr-icon-file-text2'><use xlink:href='#icon-file-text2'></use></svg></label><input id='data-d43dec99-b744-49c8-af0d-2e0cfa1c8f13' class='xr-var-data-in' type='checkbox'><label for='data-d43dec99-b744-49c8-af0d-2e0cfa1c8f13' title='Show/Hide data repr'><svg class='icon xr-icon-database'><use xlink:href='#icon-database'></use></svg></label><div class='xr-var-attrs'><dl class='xr-attrs'></dl></div><div class='xr-var-data'><pre>array([[[261., 242., 227., ..., 235., 226., 238.],\n        [329., 277., 251., ..., 249., 240., 244.],\n        [530., 379., 290., ..., 251., 239., 240.],\n        ...,\n        [232., 223., 218., ..., 211., 218., 238.],\n        [217., 219., 211., ..., 239., 224., 220.],\n        [219., 214., 207., ..., 220., 223., 216.]],\n\n       [[256., 240., 239., ..., 230., 238., 218.],\n        [343., 273., 255., ..., 245., 243., 262.],\n        [585., 350., 275., ..., 243., 248., 247.],\n        ...,\n        [218., 212., 209., ..., 227., 219., 218.],\n        [222., 213., 215., ..., 225., 216., 226.],\n        [217., 232., 217., ..., 226., 220., 222.]],\n\n       [[256., 242., 234., ..., 240., 224., 217.],\n        [353., 282., 248., ..., 234., 240., 243.],\n        [575., 380., 281., ..., 249., 237., 247.],\n        ...,\n...\n        ...,\n        [228., 219., 220., ..., 208., 220., 226.],\n        [216., 226., 216., ..., 211., 215., 218.],\n        [216., 212., 218., ..., 222., 228., 214.]],\n\n       [[258., 237., 223., ..., 227., 235., 231.],\n        [369., 289., 243., ..., 238., 243., 253.],\n        [552., 366., 287., ..., 246., 248., 264.],\n        ...,\n        [228., 216., 221., ..., 219., 215., 225.],\n        [226., 229., 218., ..., 232., 222., 216.],\n        [212., 216., 215., ..., 212., 209., 219.]],\n\n       [[259., 227., 233., ..., 229., 232., 240.],\n        [339., 277., 245., ..., 239., 240., 250.],\n        [533., 376., 291., ..., 245., 235., 252.],\n        ...,\n        [229., 232., 216., ..., 221., 224., 221.],\n        [223., 225., 224., ..., 218., 230., 222.],\n        [213., 218., 218., ..., 223., 220., 216.]]], dtype=float32)</pre></div></li><li class='xr-var-item'><div class='xr-var-name'><span>image_04</span></div><div class='xr-var-dims'>(shot, x, y)</div><div class='xr-var-dtype'>float32</div><div class='xr-var-preview xr-preview'>238.0 267.0 283.0 ... 244.0 221.0</div><input id='attrs-59e9e781-caee-4270-828b-49bd15e5f0ea' class='xr-var-attrs-in' type='checkbox' disabled><label for='attrs-59e9e781-caee-4270-828b-49bd15e5f0ea' title='Show/Hide attributes'><svg class='icon xr-icon-file-text2'><use xlink:href='#icon-file-text2'></use></svg></label><input id='data-ac90098f-412e-4ed6-beb8-c9224288c73a' class='xr-var-data-in' type='checkbox'><label for='data-ac90098f-412e-4ed6-beb8-c9224288c73a' title='Show/Hide data repr'><svg class='icon xr-icon-database'><use xlink:href='#icon-database'></use></svg></label><div class='xr-var-attrs'><dl class='xr-attrs'></dl></div><div class='xr-var-data'><pre>array([[[238., 267., 283., ..., 251., 232., 259.],\n        [245., 291., 251., ..., 296., 264., 322.],\n        [267., 278., 266., ..., 477., 432., 514.],\n        ...,\n        [234., 253., 297., ..., 349., 290., 242.],\n        [228., 239., 246., ..., 262., 244., 227.],\n        [217., 230., 241., ..., 235., 228., 219.]],\n\n       [[233., 252., 276., ..., 254., 231., 268.],\n        [248., 329., 243., ..., 307., 267., 310.],\n        [278., 275., 267., ..., 493., 439., 516.],\n        ...,\n        [232., 268., 296., ..., 353., 281., 246.],\n        [225., 247., 249., ..., 250., 248., 219.],\n        [226., 222., 235., ..., 240., 236., 230.]],\n\n       [[232., 254., 281., ..., 250., 224., 274.],\n        [243., 311., 248., ..., 301., 263., 324.],\n        [294., 258., 255., ..., 479., 439., 519.],\n        ...,\n...\n        ...,\n        [228., 255., 299., ..., 350., 297., 235.],\n        [220., 239., 243., ..., 265., 255., 217.],\n        [225., 219., 235., ..., 237., 235., 233.]],\n\n       [[234., 266., 270., ..., 244., 223., 260.],\n        [260., 301., 250., ..., 282., 263., 307.],\n        [284., 256., 258., ..., 521., 427., 519.],\n        ...,\n        [224., 258., 308., ..., 356., 326., 242.],\n        [221., 235., 246., ..., 266., 253., 230.],\n        [221., 216., 223., ..., 240., 233., 226.]],\n\n       [[244., 270., 276., ..., 238., 238., 260.],\n        [261., 300., 244., ..., 293., 268., 310.],\n        [293., 281., 253., ..., 518., 425., 530.],\n        ...,\n        [226., 268., 313., ..., 342., 294., 245.],\n        [229., 232., 253., ..., 261., 243., 219.],\n        [233., 212., 239., ..., 238., 244., 221.]]], dtype=float32)</pre></div></li><li class='xr-var-item'><div class='xr-var-name'><span>image_05</span></div><div class='xr-var-dims'>(shot, x, y)</div><div class='xr-var-dtype'>float32</div><div class='xr-var-preview xr-preview'>268.0 214.0 223.0 ... 216.0 216.0</div><input id='attrs-76c30c20-702c-4ef7-a4f6-5f00204ba67a' class='xr-var-attrs-in' type='checkbox' disabled><label for='attrs-76c30c20-702c-4ef7-a4f6-5f00204ba67a' title='Show/Hide attributes'><svg class='icon xr-icon-file-text2'><use xlink:href='#icon-file-text2'></use></svg></label><input id='data-00aa5dd5-b14c-4433-8e30-853703feb127' class='xr-var-data-in' type='checkbox'><label for='data-00aa5dd5-b14c-4433-8e30-853703feb127' title='Show/Hide data repr'><svg class='icon xr-icon-database'><use xlink:href='#icon-database'></use></svg></label><div class='xr-var-attrs'><dl class='xr-attrs'></dl></div><div class='xr-var-data'><pre>array([[[268., 214., 223., ..., 219., 229., 221.],\n        [335., 263., 238., ..., 224., 224., 227.],\n        [538., 402., 280., ..., 217., 220., 227.],\n        ...,\n        [229., 203., 207., ..., 211., 226., 215.],\n        [223., 203., 200., ..., 226., 221., 219.],\n        [218., 210., 206., ..., 212., 230., 225.]],\n\n       [[271., 227., 227., ..., 222., 222., 217.],\n        [328., 275., 239., ..., 224., 232., 221.],\n        [558., 391., 289., ..., 224., 219., 217.],\n        ...,\n        [225., 212., 198., ..., 206., 231., 219.],\n        [235., 214., 203., ..., 208., 217., 213.],\n        [213., 199., 205., ..., 227., 219., 231.]],\n\n       [[264., 226., 218., ..., 217., 218., 225.],\n        [333., 259., 237., ..., 220., 222., 228.],\n        [552., 362., 279., ..., 220., 211., 224.],\n        ...,\n...\n        ...,\n        [224., 209., 203., ..., 229., 226., 218.],\n        [222., 210., 209., ..., 214., 219., 218.],\n        [215., 200., 199., ..., 221., 220., 225.]],\n\n       [[266., 228., 220., ..., 221., 218., 224.],\n        [326., 273., 223., ..., 221., 221., 212.],\n        [560., 365., 284., ..., 225., 220., 214.],\n        ...,\n        [224., 207., 207., ..., 230., 213., 215.],\n        [215., 206., 201., ..., 225., 213., 226.],\n        [212., 201., 204., ..., 217., 216., 217.]],\n\n       [[268., 220., 209., ..., 223., 218., 208.],\n        [346., 264., 231., ..., 222., 226., 227.],\n        [542., 382., 277., ..., 213., 223., 225.],\n        ...,\n        [224., 211., 207., ..., 212., 210., 227.],\n        [221., 206., 205., ..., 218., 220., 216.],\n        [222., 197., 201., ..., 220., 216., 216.]]], dtype=float32)</pre></div></li></ul></div></li><li class='xr-section-item'><input id='section-a974de4c-69b3-4a8e-9a00-30c69b97898a' class='xr-section-summary-in' type='checkbox' disabled ><label for='section-a974de4c-69b3-4a8e-9a00-30c69b97898a' class='xr-section-summary'  title='Expand/collapse section'>Attributes: <span>(0)</span></label><div class='xr-section-inline-details'></div><div class='xr-section-details'><dl class='xr-attrs'></dl></div></li></ul></div></div>",
      "text/plain": "<xarray.Dataset>\nDimensions:   (shot: 145, x: 256, y: 50)\nCoordinates:\n  * x         (x) float64 -547.9 -543.6 -539.3 -535.0 ... 539.3 543.6 547.9\n  * y         (y) float64 -104.9 -100.6 -96.3 -92.02 ... 92.02 96.3 100.6 104.9\n  * shot      (shot) MultiIndex\n  - tmstp     (shot) datetime64[ns] 2021-05-20T16:05:09 ... 2021-05-20T16:11:19\n  - tCAM      (shot) float64 0.01 0.0 0.0005 0.001 ... 0.007 0.0075 0.008 0.0085\nData variables:\n    image_00  (shot, x, y) float32 428.0 647.0 686.0 792.0 ... 357.0 356.0 270.0\n    image_01  (shot, x, y) float32 660.0 422.0 363.0 324.0 ... 221.0 216.0 225.0\n    image_02  (shot, x, y) float32 264.0 269.0 267.0 275.0 ... 229.0 227.0 224.0\n    image_03  (shot, x, y) float32 261.0 242.0 227.0 235.0 ... 223.0 220.0 216.0\n    image_04  (shot, x, y) float32 238.0 267.0 283.0 279.0 ... 238.0 244.0 221.0\n    image_05  (shot, x, y) float32 268.0 214.0 223.0 223.0 ... 220.0 216.0 216.0"
     },
     "execution_count": 3,
     "metadata": {},
     "output_type": "execute_result"
    }
   ],
   "source": [
    "data = ra.load_data(path / \"raw_data\", to_multiindex=True)\n",
    "images = data.ryd_data.images\n",
    "images.load()"
   ]
  },
  {
   "cell_type": "markdown",
   "metadata": {},
   "source": [
    "# Analysis\n",
    "## Analyse ground state images\n",
    "### Choose square mask to remove edges of the images"
   ]
  },
  {
   "cell_type": "code",
   "execution_count": 4,
   "metadata": {},
   "outputs": [],
   "source": [
    "ground_state_images = images.sel(tCAM=0)\r\n",
    "\r\n",
    "background = ground_state_images.image_05.mean(\"tmstp\")\r\n",
    "absorption = ground_state_images.image_02\r\n",
    "light = ground_state_images.image_04\r\n",
    "\r\n",
    "## Select square mask\r\n",
    "### Mask in imaging system \r\n",
    "polygon_mask_indices = [(-500, -80), (500, -80), (500, 90), (-500, 90)]\r\n",
    "square_mask = light.isel(tmstp=0).polygon_mask.get_mask(polygon_mask_indices)"
   ]
  },
  {
   "cell_type": "code",
   "execution_count": 5,
   "metadata": {},
   "outputs": [
    {
     "data": {
      "application/vnd.jupyter.widget-view+json": {
       "model_id": "63acee0fb2044c799011033dc1fcaf66",
       "version_major": 2,
       "version_minor": 0
      },
      "text/plain": "Canvas(toolbar=Toolbar(toolitems=[('Home', 'Reset original view', 'home', 'home'), ('Back', 'Back to previous …"
     },
     "metadata": {},
     "output_type": "display_data"
    }
   ],
   "source": [
    "mean_light_image = light.mean(\"tmstp\")\r\n",
    "\r\n",
    "fig, axes = plt.subplots(2, figsize=(6, 4), sharex=True)\r\n",
    "\r\n",
    "ax = axes[0]\r\n",
    "mean_light_image.T.plot(ax=ax, robust=True)\r\n",
    "ax.set_ylabel(\"y [$\\mu$m]\")\r\n",
    "\r\n",
    "ax = axes[1]\r\n",
    "mean_light_image.where(square_mask).T.plot(ax=ax, robust=True)\r\n",
    "ax.set_xlabel(\"x [$\\mu$m]\")\r\n",
    "ax.set_ylabel(\"y [$\\mu$m]\")\r\n",
    "fig.tight_layout()"
   ]
  },
  {
   "cell_type": "markdown",
   "metadata": {},
   "source": [
    "### Simple density calculation without pca"
   ]
  },
  {
   "cell_type": "code",
   "execution_count": 6,
   "metadata": {},
   "outputs": [
    {
     "data": {
      "application/vnd.jupyter.widget-view+json": {
       "model_id": "5cd47e4a61f045689e1af6c61fb6ec34",
       "version_major": 2,
       "version_minor": 0
      },
      "text/plain": "Canvas(toolbar=Toolbar(toolitems=[('Home', 'Reset original view', 'home', 'home'), ('Back', 'Back to previous …"
     },
     "metadata": {},
     "output_type": "display_data"
    }
   ],
   "source": [
    "show_mask = True\r\n",
    "\r\n",
    "if show_mask:\r\n",
    "    mask = square_mask\r\n",
    "else:\r\n",
    "    mask = 1\r\n",
    "\r\n",
    "fig, axes = plt.subplots(3, sharex=True)\r\n",
    "\r\n",
    "absorption.mean(\"tmstp\").where(mask).T.plot(ax=axes[0])\r\n",
    "light.mean(\"tmstp\").where(mask).T.plot(ax=axes[1])\r\n",
    "background.where(mask).T.plot(ax=axes[2], robust=True)\r\n",
    "fig.tight_layout()"
   ]
  },
  {
   "cell_type": "code",
   "execution_count": 7,
   "metadata": {},
   "outputs": [
    {
     "data": {
      "application/vnd.jupyter.widget-view+json": {
       "model_id": "d72f060a80ac49ce986f9c9b73a21f69",
       "version_major": 2,
       "version_minor": 0
      },
      "text/plain": "Canvas(toolbar=Toolbar(toolitems=[('Home', 'Reset original view', 'home', 'home'), ('Back', 'Back to previous …"
     },
     "metadata": {},
     "output_type": "display_data"
    }
   ],
   "source": [
    "fig, ax = plt.subplots()\n",
    "\n",
    "absorption.where(square_mask).mean(['x', 'y']).plot(ax=ax, label='absorption light')\n",
    "light.where(square_mask).mean(['x', 'y']).plot(ax=ax, label='reference light')\n",
    "ground_state_images.image_05.where(square_mask).mean(['x', 'y']).plot(ax=ax, label='background')\n",
    "ax.legend()\n",
    "ax.set_xlabel('timestamp')\n",
    "ax.set_ylabel('signal')\n",
    "fig.tight_layout()\n",
    "fig.savefig('temporal_evolution_of_light_intenstity.png',dpi=600)"
   ]
  },
  {
   "cell_type": "code",
   "execution_count": 13,
   "metadata": {},
   "outputs": [
    {
     "data": {
      "application/vnd.jupyter.widget-view+json": {
       "model_id": "e4cf95bbb3e743078ea3c8aeb815c490",
       "version_major": 2,
       "version_minor": 0
      },
      "text/plain": "Canvas(toolbar=Toolbar(toolitems=[('Home', 'Reset original view', 'home', 'home'), ('Back', 'Back to previous …"
     },
     "metadata": {},
     "output_type": "display_data"
    }
   ],
   "source": [
    "# build imaging with averaged light images\r\n",
    "atom_images = absorption.where(square_mask) - background\r\n",
    "reference_images = light.mean(\"tmstp\") - background\r\n",
    "\r\n",
    "imaging_averaged = ra.AbsorptionImaging(atom_images, reference_images, t_exp=150e-3, binning=2)\r\n",
    "density_averaged = imaging_averaged.density.isel(tmstp=0)\r\n",
    "\r\n",
    "# build imaging with single light images\r\n",
    "atom_images = absorption.where(square_mask) - background\r\n",
    "reference_images = light.where(square_mask) - background\r\n",
    "\r\n",
    "imaging_single = ra.AbsorptionImaging(atom_images, reference_images, t_exp=None, binning=2)\r\n",
    "density_single = imaging_single.density.isel(tmstp=0)\r\n",
    "\r\n",
    "# plot\r\n",
    "fig, axes = plt.subplots(3, figsize=(6, 6), sharex=True)\r\n",
    "density_single.T.plot(ax=axes[0], robust=True)\r\n",
    "axes[0].set_title('no averge')\r\n",
    "\r\n",
    "density_averaged.T.plot(ax=axes[1], robust=True)\r\n",
    "axes[1].set_title('averged over reference')\r\n",
    "\r\n",
    "(density_single - density_averaged).T.plot(ax=axes[2], robust=True)\r\n",
    "axes[2].set_title('relative difference')\r\n",
    "ax.set_xlabel(\"x [$\\mu$m]\")\r\n",
    "ax.set_ylabel(\"y [$\\mu$m]\")\r\n",
    "fig.tight_layout()\r\n",
    "fig.savefig('comparison_background.png', bbox_inches='tight', dpi=600)"
   ]
  },
  {
   "cell_type": "markdown",
   "metadata": {},
   "source": [
    " ## Advanced analysis involving Principle component analysis (PCA)"
   ]
  },
  {
   "cell_type": "code",
   "execution_count": 15,
   "metadata": {},
   "outputs": [
    {
     "data": {
      "application/vnd.jupyter.widget-view+json": {
       "model_id": "c3a63a766fd041cf9425575e6815be45",
       "version_major": 2,
       "version_minor": 0
      },
      "text/plain": "Canvas(toolbar=Toolbar(toolitems=[('Home', 'Reset original view', 'home', 'home'), ('Back', 'Back to previous …"
     },
     "metadata": {},
     "output_type": "display_data"
    }
   ],
   "source": [
    "# Select atom mask\r\n",
    "\r\n",
    "atom_mask = images.elliptical_mask.get_mask(*[25, 11, 200, 200])\r\n",
    "\r\n",
    "fig, axes = plt.subplots(2, figsize=(6, 3), sharex=True)\r\n",
    "ax = axes[0]\r\n",
    "density_averaged.where(atom_mask).T.plot(ax=ax, robust=True)\r\n",
    "ax.set_ylabel(\"y [$\\mu$m]\")\r\n",
    "\r\n",
    "ax = axes[1]\r\n",
    "density_averaged.where(np.logical_not(atom_mask)).T.plot(ax=ax, robust=True)\r\n",
    "ax.set_xlabel(\"x [$\\mu$m]\")\r\n",
    "ax.set_ylabel(\"y [$\\mu$m]\")\r\n",
    "fig.tight_layout()"
   ]
  },
  {
   "cell_type": "code",
   "execution_count": 26,
   "metadata": {},
   "outputs": [],
   "source": [
    "background = images.image_05.mean(\"shot\")\r\n",
    "absorption = images.image_02\r\n",
    "light = images.image_04"
   ]
  },
  {
   "cell_type": "code",
   "execution_count": 33,
   "metadata": {},
   "outputs": [],
   "source": [
    "atom_images = absorption.where(square_mask) - background\r\n",
    "pca = light.pca(n_components=2)\r\n",
    "no_atoms_mask = np.logical_not(atom_mask)\r\n",
    "reference_images = pca.find_references(absorption, no_atoms_mask) - background\r\n",
    "\r\n",
    "imaging_pca = ra.AbsorptionImaging(atom_images, reference_images, t_exp=150e-3, binning=2)\r\n",
    "density_pca = imaging_pca.density.isel(shot=0)"
   ]
  },
  {
   "cell_type": "code",
   "execution_count": 34,
   "metadata": {},
   "outputs": [
    {
     "data": {
      "application/vnd.jupyter.widget-view+json": {
       "model_id": "7ccb6069e0f34efa9e6c19755543ddaf",
       "version_major": 2,
       "version_minor": 0
      },
      "text/plain": "Canvas(toolbar=Toolbar(toolitems=[('Home', 'Reset original view', 'home', 'home'), ('Back', 'Back to previous …"
     },
     "metadata": {},
     "output_type": "display_data"
    }
   ],
   "source": [
    "## compare both analysis methods\r\n",
    "\r\n",
    "atom_mask = images.elliptical_mask.get_mask(*[-220, 0, 350, 200])\r\n",
    "\r\n",
    "fig, axes = plt.subplots(3, figsize=(6, 4), sharex=True)\r\n",
    "density_pca.T.plot(ax=axes[0], robust=True);\r\n",
    "axes[0].set_title('with pca')\r\n",
    "axes[0].set_ylabel(\"y [$\\mu$m]\")\r\n",
    "\r\n",
    "density_single.T.plot(ax=axes[1], robust=True);\r\n",
    "axes[1].set_title('no pca')\r\n",
    "axes[1].set_ylabel(\"y [$\\mu$m]\")\r\n",
    "\r\n",
    "\r\n",
    "(density_pca - density_single).T.plot(ax=axes[2], robust=True);\r\n",
    "axes[2].set_title('relative difference')\r\n",
    "axes[2].set_ylabel(\"y [$\\mu$m]\")\r\n",
    "\r\n",
    "fig.tight_layout()\r\n",
    "fig.tight_layout()\r\n",
    "fig.savefig('comparison_pca.png', bbox_inches='tight')"
   ]
  },
  {
   "cell_type": "markdown",
   "metadata": {},
   "source": [
    "The analysis with pca is problematic for multiple reasons:\n",
    "\n",
    "- The imaging timing was not correct and we still see some remanences of the shifting on the andor sensor\n",
    "- The background picture is not useful\n",
    "- The size of the atom cloud is so large, that the remaining space for pca is too little\n",
    "\n",
    "The pca tries to avoid these features and does weird things. We will continue without pca"
   ]
  },
  {
   "cell_type": "code",
   "execution_count": 40,
   "metadata": {},
   "outputs": [
    {
     "data": {
      "text/plain": "4"
     },
     "execution_count": 40,
     "metadata": {},
     "output_type": "execute_result"
    }
   ],
   "source": [
    "x, y = np.sort([1, 4])\r\n",
    "y"
   ]
  },
  {
   "cell_type": "code",
   "execution_count": 41,
   "metadata": {},
   "outputs": [
    {
     "name": "stdout",
     "output_type": "stream",
     "text": [
      "Wall time: 34 ms\n"
     ]
    },
    {
     "data": {
      "application/vnd.jupyter.widget-view+json": {
       "model_id": "98dc1a0fd9394b75b7a7cc582f667030",
       "version_major": 2,
       "version_minor": 0
      },
      "text/plain": "Canvas(toolbar=Toolbar(toolitems=[('Home', 'Reset original view', 'home', 'home'), ('Back', 'Back to previous …"
     },
     "metadata": {},
     "output_type": "display_data"
    },
    {
     "data": {
      "text/plain": "height       1.983214e+11\ncenter_x     1.098154e+01\ncenter_y     2.662139e+01\nsig_x        5.901240e+01\nsig_y        8.360091e+01\nN            6.147573e+03\ndensity3d    1.094058e+09\ndtype: float64"
     },
     "execution_count": 41,
     "metadata": {},
     "output_type": "execute_result"
    }
   ],
   "source": [
    "image = ra.Image(density_pca)\r\n",
    "%time fit_params = image.fitgaussian\r\n",
    "fig, ax = plt.subplots(figsize=(8, 2))\r\n",
    "\r\n",
    "image.plot_fit(ax=ax)\r\n",
    "fit_params"
   ]
  },
  {
   "cell_type": "code",
   "execution_count": 57,
   "metadata": {},
   "outputs": [
    {
     "data": {
      "application/vnd.jupyter.widget-view+json": {
       "model_id": "b79305d1807f4bc287e2fa274376b0c7",
       "version_major": 2,
       "version_minor": 0
      },
      "text/plain": "  0%|          | 0/145 [00:00<?, ?it/s]"
     },
     "metadata": {},
     "output_type": "display_data"
    }
   ],
   "source": [
    "fit_results = []\r\n",
    "for tmstp, image in tqdm(imaging_pca.density.groupby(\"shot\")):\r\n",
    "    i = ra.Image(image)\r\n",
    "    fit_results.append(i.fitgaussian)\r\n",
    "fit_results = pd.concat(fit_results, axis=1).T\r\n",
    "fit_results.index = imaging_pca.density.shot.to_index()\r\n",
    "# fit_results.index.name = \"tmstp\""
   ]
  },
  {
   "cell_type": "code",
   "execution_count": 58,
   "metadata": {},
   "outputs": [
    {
     "data": {
      "application/vnd.jupyter.widget-view+json": {
       "model_id": "5ddd18c9956a481395f4174584119476",
       "version_major": 2,
       "version_minor": 0
      },
      "text/plain": "Canvas(toolbar=Toolbar(toolitems=[('Home', 'Reset original view', 'home', 'home'), ('Back', 'Back to previous …"
     },
     "metadata": {},
     "output_type": "display_data"
    },
    {
     "data": {
      "text/plain": "Text(0, 0.5, 'density [1/cm³]')"
     },
     "execution_count": 58,
     "metadata": {},
     "output_type": "execute_result"
    }
   ],
   "source": [
    "fig, axes = plt.subplots(3, figsize=(6, 5), sharex=True)\r\n",
    "\r\n",
    "ax = axes[0]\r\n",
    "fit_results[[\"center_x\", \"center_y\"]].plot(ax=ax)\r\n",
    "ax.set_ylabel(\"position [$\\mu$m]\")\r\n",
    "\r\n",
    "ax = axes[1]\r\n",
    "fit_results[[\"sig_x\", \"sig_y\"]].plot(ax=ax)\r\n",
    "ax.set_ylabel(\"position [$\\mu$m]\")\r\n",
    "\r\n",
    "ax = axes[2]\r\n",
    "fit_results[\"density3d\"].plot(ax=ax)\r\n",
    "ax.set_ylim(bottom=0)\r\n",
    "ax.set_ylabel(\"density [1/cm³]\")"
   ]
  },
  {
   "cell_type": "code",
   "execution_count": 61,
   "metadata": {},
   "outputs": [
    {
     "data": {
      "application/vnd.jupyter.widget-view+json": {
       "model_id": "770ca71b04ee44abb6c072b079dc24c0",
       "version_major": 2,
       "version_minor": 0
      },
      "text/plain": "Canvas(toolbar=Toolbar(toolitems=[('Home', 'Reset original view', 'home', 'home'), ('Back', 'Back to previous …"
     },
     "metadata": {},
     "output_type": "display_data"
    },
    {
     "data": {
      "text/plain": "<AxesSubplot:xlabel='tCAM'>"
     },
     "execution_count": 61,
     "metadata": {},
     "output_type": "execute_result"
    }
   ],
   "source": [
    "fig, ax = plt.subplots()\r\n",
    "fit_results.groupby(\"tCAM\").mean().density3d.plot()"
   ]
  },
  {
   "cell_type": "code",
   "execution_count": null,
   "metadata": {},
   "outputs": [],
   "source": []
  }
 ],
 "metadata": {
  "interpreter": {
   "hash": "44c9e1c4f1878d6cbc104994bc9cba6cd2cf35e5d22b7e7d01423510788fcb13"
  },
  "kernelspec": {
   "display_name": "Python 3.9.1 64-bit ('py39': conda)",
   "name": "python3"
  },
  "language_info": {
   "codemirror_mode": {
    "name": "ipython",
    "version": 3
   },
   "file_extension": ".py",
   "mimetype": "text/x-python",
   "name": "python",
   "nbconvert_exporter": "python",
   "pygments_lexer": "ipython3",
   "version": "3.9.1"
  }
 },
 "nbformat": 4,
 "nbformat_minor": 4
}