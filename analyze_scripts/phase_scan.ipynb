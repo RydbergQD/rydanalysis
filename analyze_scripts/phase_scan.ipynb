{
 "cells": [
  {
   "cell_type": "code",
   "execution_count": 1,
   "metadata": {},
   "outputs": [],
   "source": [
    "import xarray as xr\n",
    "import rydanalysis as ra\n",
    "import pandas as pd\n",
    "import matplotlib.pyplot as plt\n",
    "import matplotlib\n",
    "from pathlib import Path\n",
    "import numpy as np\n",
    "from tqdm.notebook import tqdm\n",
    "from scipy.stats import sem\n",
    "from scipy.integrate import quad\n",
    "\n",
    "%matplotlib widget"
   ]
  },
  {
   "cell_type": "code",
   "execution_count": 2,
   "metadata": {},
   "outputs": [],
   "source": [
    "path = Path.cwd().parent / \"raw_data\"\n",
    "\n",
    "live_analysis_path = Path.cwd().parent / \"Analysis\" \n",
    "peaks_file = live_analysis_path / \"peaks.h5\""
   ]
  },
  {
   "cell_type": "code",
   "execution_count": 3,
   "metadata": {},
   "outputs": [
    {
     "name": "stderr",
     "output_type": "stream",
     "text": [
      "2020-11-20 13:14:07.903 INFO    numexpr.utils: NumExpr defaulting to 8 threads.\n"
     ]
    },
    {
     "data": {
      "text/plain": [
       "'PhaseShift'"
      ]
     },
     "execution_count": 3,
     "metadata": {},
     "output_type": "execute_result"
    }
   ],
   "source": [
    "data = ra.load_data(path, to_multiindex=True, lazy=None)\n",
    "variable = data.ryd_data.variables.columns[0]\n",
    "variable"
   ]
  },
  {
   "cell_type": "code",
   "execution_count": null,
   "metadata": {},
   "outputs": [
    {
     "data": {
      "application/vnd.jupyter.widget-view+json": {
       "model_id": "cd9df1064b2b42f992911c49867d853a",
       "version_major": 2,
       "version_minor": 0
      },
      "text/plain": [
       "HBox(children=(HTML(value=''), FloatProgress(value=0.0, max=110.0), HTML(value='')))"
      ]
     },
     "metadata": {},
     "output_type": "display_data"
    }
   ],
   "source": [
    "peak_df = data.scope_traces.peaks_summary.get_peak_description(width=2e-9, height=0.0007, distance=None)\n",
    "peak_df.to_csv(\"peak_df.csv\")"
   ]
  },
  {
   "cell_type": "markdown",
   "metadata": {},
   "source": [
    "## Analysis"
   ]
  },
  {
   "cell_type": "code",
   "execution_count": 5,
   "metadata": {},
   "outputs": [],
   "source": [
    "peak_df = pd.read_csv(\"peak_df.csv\", index_col=[0, 1, 2])"
   ]
  },
  {
   "cell_type": "code",
   "execution_count": 6,
   "metadata": {},
   "outputs": [],
   "source": [
    "summary = ra.summarize_peak_description(peak_df)\n",
    "counts = summary.counts\n",
    "counts_mean = counts.groupby(variable).mean()\n",
    "counts_sem = counts.groupby(variable).reduce(sem)"
   ]
  },
  {
   "cell_type": "code",
   "execution_count": 7,
   "metadata": {},
   "outputs": [
    {
     "data": {
      "application/vnd.jupyter.widget-view+json": {
       "model_id": "dc101eaf9c1547698256542795aa29a5",
       "version_major": 2,
       "version_minor": 0
      },
      "text/plain": [
       "Canvas(toolbar=Toolbar(toolitems=[('Home', 'Reset original view', 'home', 'home'), ('Back', 'Back to previous …"
      ]
     },
     "metadata": {},
     "output_type": "display_data"
    },
    {
     "data": {
      "text/plain": [
       "<ErrorbarContainer object of 3 artists>"
      ]
     },
     "execution_count": 7,
     "metadata": {},
     "output_type": "execute_result"
    }
   ],
   "source": [
    "fig, ax = plt.subplots()\n",
    "\n",
    "ax.errorbar(counts_mean[variable], counts_mean, counts_sem, linestyle='-', marker='o')"
   ]
  },
  {
   "cell_type": "code",
   "execution_count": 10,
   "metadata": {},
   "outputs": [
    {
     "data": {
      "application/vnd.jupyter.widget-view+json": {
       "model_id": "c4e173808336422aa5b3e5b908d991bf",
       "version_major": 2,
       "version_minor": 0
      },
      "text/plain": [
       "Canvas(toolbar=Toolbar(toolitems=[('Home', 'Reset original view', 'home', 'home'), ('Back', 'Back to previous …"
      ]
     },
     "metadata": {},
     "output_type": "display_data"
    }
   ],
   "source": [
    "cosine_model = ra.DampedCosineModel()\n",
    "cosine_params = cosine_model.make_params()\n",
    "cosine_params.add(\"phase\", value=0, vary=True)\n",
    "cosine_params.add(\"freq\", value=1/360, vary=False, max=130, min=0.)\n",
    "cosine_params.add(\"decay\", value=0, vary=False, max=10, min=0)\n",
    "cosine_params.add(\"amp\", value=80, vary=True, max=300, min=0)\n",
    "cosine_params.add(\"offset\", value=50, vary=True, max=300, min=0)\n",
    "fitres = cosine_model.fit(counts_mean, params=cosine_params, x=counts_mean[variable])#, weights=1/counts_sem)\n",
    "\n",
    "fig, ax = plt.subplots()\n",
    "ax.errorbar(counts_mean[variable], counts_mean, counts_sem, linestyle='', marker='o', label=\"counts\")\n",
    "x_values = np.linspace(counts_mean[variable].min(), counts_mean[variable].max(), 101)\n",
    "ax.plot(x_values, fitres.eval(x=x_values))\n",
    "times = np.linspace(0, 0.2, 110)\n",
    "plt.text(0.15, 0.9,'freq: %.5g  $\\pm$ %.5g phase: %.5g  $\\pm$ %.5g'%(fitres.params['freq'].value, fitres.params['freq'].stderr, fitres.params['phase'].value, fitres.params['phase'].stderr), transform=ax.transAxes)\n",
    "ax.set_xlabel(variable)\n",
    "ax.set_ylabel(\"ion count\")\n",
    "\n",
    "plt.savefig('48P_%s_Fit_Cosine.png'%variable, dpi=600) # add leading zero to the figure name"
   ]
  },
  {
   "cell_type": "code",
   "execution_count": 9,
   "metadata": {},
   "outputs": [
    {
     "data": {
      "text/html": [
       "<h2> Model</h2> Model(damped_cosine) <h2>Fit Statistics</h2><table><tr><td>fitting method</td><td>leastsq</td><td></td></tr><tr><td># function evals</td><td>21</td><td></td></tr><tr><td># data points</td><td>11</td><td></td></tr><tr><td># variables</td><td>3</td><td></td></tr><tr><td>chi-square</td><td> 104.874443</td><td></td></tr><tr><td>reduced chi-square</td><td> 13.1093054</td><td></td></tr><tr><td>Akaike info crit.</td><td> 30.8035544</td><td></td></tr><tr><td>Bayesian info crit.</td><td> 31.9972402</td><td></td></tr></table><h2>Variables</h2><table><tr><th> name </th><th> value </th><th> standard error </th><th> relative error </th><th> initial value </th><th> min </th><th> max </th><th> vary </th></tr><tr><td> freq </td><td>  0.00277778 </td><td>  0.00000000 </td><td> (0.00%) </td><td> 0.002777777777777778 </td><td>  0.00000000 </td><td>  130.000000 </td><td> False </td></tr><tr><td> amp </td><td>  104.753960 </td><td>  3.17181422 </td><td> (3.03%) </td><td> 80 </td><td>  0.00000000 </td><td>  300.000000 </td><td> True </td></tr><tr><td> phase </td><td>  59.0355435 </td><td>  1.66810494 </td><td> (2.83%) </td><td> 0 </td><td>        -inf </td><td>         inf </td><td> True </td></tr><tr><td> offset </td><td>  66.4865198 </td><td>  1.10004076 </td><td> (1.65%) </td><td> 50 </td><td>  0.00000000 </td><td>  300.000000 </td><td> True </td></tr><tr><td> decay </td><td>  0.00000000 </td><td>  0.00000000 </td><td>  </td><td> 0 </td><td>  0.00000000 </td><td>  10.0000000 </td><td> False </td></tr></table><h2>Correlations (unreported correlations are < 0.100)</h2><table><tr><td>phase</td><td>offset</td><td>0.1031</td></tr></table>"
      ],
      "text/plain": [
       "<lmfit.model.ModelResult at 0x22550fc0940>"
      ]
     },
     "execution_count": 9,
     "metadata": {},
     "output_type": "execute_result"
    }
   ],
   "source": [
    "fitres"
   ]
  },
  {
   "cell_type": "code",
   "execution_count": null,
   "metadata": {},
   "outputs": [],
   "source": []
  },
  {
   "cell_type": "code",
   "execution_count": null,
   "metadata": {},
   "outputs": [],
   "source": []
  }
 ],
 "metadata": {
  "kernelspec": {
   "display_name": "Python 3",
   "language": "python",
   "name": "python3"
  },
  "language_info": {
   "codemirror_mode": {
    "name": "ipython",
    "version": 3
   },
   "file_extension": ".py",
   "mimetype": "text/x-python",
   "name": "python",
   "nbconvert_exporter": "python",
   "pygments_lexer": "ipython3",
   "version": "3.8.5"
  }
 },
 "nbformat": 4,
 "nbformat_minor": 4
}
